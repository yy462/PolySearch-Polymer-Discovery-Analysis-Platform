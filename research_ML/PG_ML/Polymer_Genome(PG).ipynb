{
  "cells": [
    {
      "cell_type": "code",
      "execution_count": null,
      "id": "93eb1bee",
      "metadata": {
        "colab": {
          "base_uri": "https://localhost:8080/"
        },
        "id": "93eb1bee",
        "outputId": "d26a2fe4-2210-432e-86ab-b25ee444bba7"
      },
      "outputs": [
        {
          "output_type": "stream",
          "name": "stdout",
          "text": [
            "Looking in indexes: https://pypi.org/simple, https://us-python.pkg.dev/colab-wheels/public/simple/\n",
            "Collecting rdkit\n",
            "  Downloading rdkit-2022.9.5-cp39-cp39-manylinux_2_17_x86_64.manylinux2014_x86_64.whl (29.4 MB)\n",
            "\u001b[2K     \u001b[90m━━━━━━━━━━━━━━━━━━━━━━━━━━━━━━━━━━━━━━━━\u001b[0m \u001b[32m29.4/29.4 MB\u001b[0m \u001b[31m12.8 MB/s\u001b[0m eta \u001b[36m0:00:00\u001b[0m\n",
            "\u001b[?25hRequirement already satisfied: numpy in /usr/local/lib/python3.9/dist-packages (from rdkit) (1.22.4)\n",
            "Requirement already satisfied: Pillow in /usr/local/lib/python3.9/dist-packages (from rdkit) (8.4.0)\n",
            "Installing collected packages: rdkit\n",
            "Successfully installed rdkit-2022.9.5\n"
          ]
        }
      ],
      "source": [
        "pip install rdkit"
      ]
    },
    {
      "cell_type": "code",
      "execution_count": null,
      "id": "ab5a27a6",
      "metadata": {
        "id": "ab5a27a6"
      },
      "outputs": [],
      "source": [
        "import pandas as pd\n",
        "import numpy as np\n",
        "import matplotlib.pyplot as plt\n",
        "\n",
        "from rdkit import Chem\n",
        "from rdkit.Chem import AllChem\n",
        "from rdkit.Chem import Descriptors\n",
        "from rdkit.Chem import rdMolDescriptors\n",
        "\n",
        "from keras.layers import Input, Dense\n",
        "from keras.models import Model\n",
        "from keras.utils import plot_model\n",
        "\n",
        "\n",
        "from tensorflow.keras.models import Sequential, save_model, load_model\n",
        "from tensorflow.keras.layers import Dense, Flatten, LSTM, Embedding, Bidirectional, TimeDistributed, Reshape\n",
        "from tensorflow.keras.optimizers import Adam\n",
        "from tensorflow import keras\n",
        "from tensorflow.keras.layers import Conv2D, MaxPooling2D, Conv1D, MaxPooling1D, Dropout\n",
        "import tensorflow as tf\n",
        "\n",
        "from sklearn.model_selection import train_test_split\n",
        "from sklearn.metrics import r2_score, mean_squared_error, mean_absolute_error"
      ]
    },
    {
      "cell_type": "code",
      "execution_count": null,
      "id": "10621ea5",
      "metadata": {
        "colab": {
          "base_uri": "https://localhost:8080/",
          "height": 206
        },
        "id": "10621ea5",
        "outputId": "804de5dc-f45e-478b-ad9a-7a3ccf36e4ab"
      },
      "outputs": [
        {
          "output_type": "execute_result",
          "data": {
            "text/plain": [
              "   counts                  smiles property  value\n",
              "0       0             [*]CC([*])C      Eat  -5.14\n",
              "1       1             [*]CC([*])F      Eat  -5.18\n",
              "2       2          [*]CC([*])(F)F      Eat  -5.21\n",
              "3       3       [*]C(F)C([*])(F)F      Eat  -5.11\n",
              "4       4  [*]CCC(F)(F)C([*])(F)F      Eat  -5.21"
            ],
            "text/html": [
              "\n",
              "  <div id=\"df-9bfe8198-b902-4c9f-85e2-aea89d8e39d5\">\n",
              "    <div class=\"colab-df-container\">\n",
              "      <div>\n",
              "<style scoped>\n",
              "    .dataframe tbody tr th:only-of-type {\n",
              "        vertical-align: middle;\n",
              "    }\n",
              "\n",
              "    .dataframe tbody tr th {\n",
              "        vertical-align: top;\n",
              "    }\n",
              "\n",
              "    .dataframe thead th {\n",
              "        text-align: right;\n",
              "    }\n",
              "</style>\n",
              "<table border=\"1\" class=\"dataframe\">\n",
              "  <thead>\n",
              "    <tr style=\"text-align: right;\">\n",
              "      <th></th>\n",
              "      <th>counts</th>\n",
              "      <th>smiles</th>\n",
              "      <th>property</th>\n",
              "      <th>value</th>\n",
              "    </tr>\n",
              "  </thead>\n",
              "  <tbody>\n",
              "    <tr>\n",
              "      <th>0</th>\n",
              "      <td>0</td>\n",
              "      <td>[*]CC([*])C</td>\n",
              "      <td>Eat</td>\n",
              "      <td>-5.14</td>\n",
              "    </tr>\n",
              "    <tr>\n",
              "      <th>1</th>\n",
              "      <td>1</td>\n",
              "      <td>[*]CC([*])F</td>\n",
              "      <td>Eat</td>\n",
              "      <td>-5.18</td>\n",
              "    </tr>\n",
              "    <tr>\n",
              "      <th>2</th>\n",
              "      <td>2</td>\n",
              "      <td>[*]CC([*])(F)F</td>\n",
              "      <td>Eat</td>\n",
              "      <td>-5.21</td>\n",
              "    </tr>\n",
              "    <tr>\n",
              "      <th>3</th>\n",
              "      <td>3</td>\n",
              "      <td>[*]C(F)C([*])(F)F</td>\n",
              "      <td>Eat</td>\n",
              "      <td>-5.11</td>\n",
              "    </tr>\n",
              "    <tr>\n",
              "      <th>4</th>\n",
              "      <td>4</td>\n",
              "      <td>[*]CCC(F)(F)C([*])(F)F</td>\n",
              "      <td>Eat</td>\n",
              "      <td>-5.21</td>\n",
              "    </tr>\n",
              "  </tbody>\n",
              "</table>\n",
              "</div>\n",
              "      <button class=\"colab-df-convert\" onclick=\"convertToInteractive('df-9bfe8198-b902-4c9f-85e2-aea89d8e39d5')\"\n",
              "              title=\"Convert this dataframe to an interactive table.\"\n",
              "              style=\"display:none;\">\n",
              "        \n",
              "  <svg xmlns=\"http://www.w3.org/2000/svg\" height=\"24px\"viewBox=\"0 0 24 24\"\n",
              "       width=\"24px\">\n",
              "    <path d=\"M0 0h24v24H0V0z\" fill=\"none\"/>\n",
              "    <path d=\"M18.56 5.44l.94 2.06.94-2.06 2.06-.94-2.06-.94-.94-2.06-.94 2.06-2.06.94zm-11 1L8.5 8.5l.94-2.06 2.06-.94-2.06-.94L8.5 2.5l-.94 2.06-2.06.94zm10 10l.94 2.06.94-2.06 2.06-.94-2.06-.94-.94-2.06-.94 2.06-2.06.94z\"/><path d=\"M17.41 7.96l-1.37-1.37c-.4-.4-.92-.59-1.43-.59-.52 0-1.04.2-1.43.59L10.3 9.45l-7.72 7.72c-.78.78-.78 2.05 0 2.83L4 21.41c.39.39.9.59 1.41.59.51 0 1.02-.2 1.41-.59l7.78-7.78 2.81-2.81c.8-.78.8-2.07 0-2.86zM5.41 20L4 18.59l7.72-7.72 1.47 1.35L5.41 20z\"/>\n",
              "  </svg>\n",
              "      </button>\n",
              "      \n",
              "  <style>\n",
              "    .colab-df-container {\n",
              "      display:flex;\n",
              "      flex-wrap:wrap;\n",
              "      gap: 12px;\n",
              "    }\n",
              "\n",
              "    .colab-df-convert {\n",
              "      background-color: #E8F0FE;\n",
              "      border: none;\n",
              "      border-radius: 50%;\n",
              "      cursor: pointer;\n",
              "      display: none;\n",
              "      fill: #1967D2;\n",
              "      height: 32px;\n",
              "      padding: 0 0 0 0;\n",
              "      width: 32px;\n",
              "    }\n",
              "\n",
              "    .colab-df-convert:hover {\n",
              "      background-color: #E2EBFA;\n",
              "      box-shadow: 0px 1px 2px rgba(60, 64, 67, 0.3), 0px 1px 3px 1px rgba(60, 64, 67, 0.15);\n",
              "      fill: #174EA6;\n",
              "    }\n",
              "\n",
              "    [theme=dark] .colab-df-convert {\n",
              "      background-color: #3B4455;\n",
              "      fill: #D2E3FC;\n",
              "    }\n",
              "\n",
              "    [theme=dark] .colab-df-convert:hover {\n",
              "      background-color: #434B5C;\n",
              "      box-shadow: 0px 1px 3px 1px rgba(0, 0, 0, 0.15);\n",
              "      filter: drop-shadow(0px 1px 2px rgba(0, 0, 0, 0.3));\n",
              "      fill: #FFFFFF;\n",
              "    }\n",
              "  </style>\n",
              "\n",
              "      <script>\n",
              "        const buttonEl =\n",
              "          document.querySelector('#df-9bfe8198-b902-4c9f-85e2-aea89d8e39d5 button.colab-df-convert');\n",
              "        buttonEl.style.display =\n",
              "          google.colab.kernel.accessAllowed ? 'block' : 'none';\n",
              "\n",
              "        async function convertToInteractive(key) {\n",
              "          const element = document.querySelector('#df-9bfe8198-b902-4c9f-85e2-aea89d8e39d5');\n",
              "          const dataTable =\n",
              "            await google.colab.kernel.invokeFunction('convertToInteractive',\n",
              "                                                     [key], {});\n",
              "          if (!dataTable) return;\n",
              "\n",
              "          const docLinkHtml = 'Like what you see? Visit the ' +\n",
              "            '<a target=\"_blank\" href=https://colab.research.google.com/notebooks/data_table.ipynb>data table notebook</a>'\n",
              "            + ' to learn more about interactive tables.';\n",
              "          element.innerHTML = '';\n",
              "          dataTable['output_type'] = 'display_data';\n",
              "          await google.colab.output.renderOutput(dataTable, element);\n",
              "          const docLink = document.createElement('div');\n",
              "          docLink.innerHTML = docLinkHtml;\n",
              "          element.appendChild(docLink);\n",
              "        }\n",
              "      </script>\n",
              "    </div>\n",
              "  </div>\n",
              "  "
            ]
          },
          "metadata": {},
          "execution_count": 3
        }
      ],
      "source": [
        "data = pd.read_csv('data.csv')\n",
        "data.head()"
      ]
    },
    {
      "cell_type": "code",
      "source": [
        "smiles = data['smiles']\n",
        "print(smiles)\n",
        "type(smiles)"
      ],
      "metadata": {
        "colab": {
          "base_uri": "https://localhost:8080/"
        },
        "id": "ZJ1FcUqdB6Wr",
        "outputId": "b5d27063-eab5-4929-de1c-df123417ab27"
      },
      "id": "ZJ1FcUqdB6Wr",
      "execution_count": null,
      "outputs": [
        {
          "output_type": "stream",
          "name": "stdout",
          "text": [
            "0                                      [*]CC([*])C\n",
            "1                                      [*]CC([*])F\n",
            "2                                   [*]CC([*])(F)F\n",
            "3                                [*]C(F)C([*])(F)F\n",
            "4                           [*]CCC(F)(F)C([*])(F)F\n",
            "                           ...                    \n",
            "6260    [*]C(F)(F)C(F)(F)C(S1)=CC=C1C(S2)=CC=C2[*]\n",
            "6261                    [*]C(F)(F)C(F)(F)C(=O)O[*]\n",
            "6262          [*]C(F)(F)C(=O)C(F)(F)C(S1)=CC=C1[*]\n",
            "6263        [*]C(F)(F)C(=O)C(F)(F)C(C=C1)=CC=C1[*]\n",
            "6264                        [*]C(F)(F)OC(F)(F)O[*]\n",
            "Name: smiles, Length: 6265, dtype: object\n"
          ]
        },
        {
          "output_type": "execute_result",
          "data": {
            "text/plain": [
              "pandas.core.series.Series"
            ]
          },
          "metadata": {},
          "execution_count": 4
        }
      ]
    },
    {
      "cell_type": "code",
      "source": [
        "# Find the number of missing values\n",
        "missing_values = data.isnull().sum().sum()\n",
        "print(\"Number of missing values:\", missing_values)"
      ],
      "metadata": {
        "colab": {
          "base_uri": "https://localhost:8080/"
        },
        "id": "Y_s0STW2B6JY",
        "outputId": "61b77b85-471f-41f2-8bb2-0cb51baeae69"
      },
      "id": "Y_s0STW2B6JY",
      "execution_count": null,
      "outputs": [
        {
          "output_type": "stream",
          "name": "stdout",
          "text": [
            "Number of missing values: 47\n"
          ]
        }
      ]
    },
    {
      "cell_type": "code",
      "source": [
        "# Delete the missing values\n",
        "data = data.dropna()"
      ],
      "metadata": {
        "id": "zz_FIg4ECNAs"
      },
      "id": "zz_FIg4ECNAs",
      "execution_count": null,
      "outputs": []
    },
    {
      "cell_type": "code",
      "source": [
        "# Verify that there are no more missing values\n",
        "assert data.isnull().sum().sum() == 0\n",
        "\n",
        "missing_values = data.isnull().sum().sum()\n",
        "\n",
        "print(\"No more missing values in the dataset.\")\n",
        "print(\"Number of missing values:\", missing_values)"
      ],
      "metadata": {
        "colab": {
          "base_uri": "https://localhost:8080/"
        },
        "id": "YNNwQabQCM6J",
        "outputId": "b8604d55-1e04-4a08-9832-54c6fa36a39f"
      },
      "id": "YNNwQabQCM6J",
      "execution_count": null,
      "outputs": [
        {
          "output_type": "stream",
          "name": "stdout",
          "text": [
            "No more missing values in the dataset.\n",
            "Number of missing values: 0\n"
          ]
        }
      ]
    },
    {
      "cell_type": "code",
      "execution_count": null,
      "id": "24817dcb",
      "metadata": {
        "id": "24817dcb"
      },
      "outputs": [],
      "source": [
        "def generate_pg_fingerprints(smiles, nBits=2048):\n",
        "    mol = Chem.MolFromSmiles(smiles)\n",
        "    atom_pairs = AllChem.GetHashedAtomPairFingerprintAsBitVect(mol, nBits=nBits)\n",
        "    topological_torsions = AllChem.GetHashedTopologicalTorsionFingerprintAsBitVect(mol, nBits=nBits)\n",
        "    return np.concatenate((atom_pairs, topological_torsions))\n",
        "\n",
        "data['pg_fp'] = data['smiles'].apply(generate_pg_fingerprints)"
      ]
    },
    {
      "cell_type": "code",
      "source": [
        "print(data['pg_fp'] )"
      ],
      "metadata": {
        "colab": {
          "base_uri": "https://localhost:8080/"
        },
        "id": "1F6FqSzIlXjj",
        "outputId": "06a249c9-155b-42cb-a306-7554d3c3568a"
      },
      "id": "1F6FqSzIlXjj",
      "execution_count": null,
      "outputs": [
        {
          "output_type": "stream",
          "name": "stdout",
          "text": [
            "0       [0, 0, 0, 0, 0, 0, 0, 0, 0, 0, 0, 0, 0, 0, 0, ...\n",
            "1       [0, 0, 0, 0, 0, 0, 0, 0, 0, 0, 0, 0, 0, 0, 0, ...\n",
            "2       [0, 0, 0, 0, 0, 0, 0, 0, 0, 0, 0, 0, 0, 0, 0, ...\n",
            "3       [0, 0, 0, 0, 0, 0, 0, 0, 0, 0, 0, 0, 0, 0, 0, ...\n",
            "4       [0, 0, 0, 0, 0, 0, 0, 0, 0, 0, 0, 0, 0, 0, 0, ...\n",
            "                              ...                        \n",
            "6260    [0, 0, 0, 0, 0, 0, 0, 0, 0, 0, 0, 0, 0, 0, 0, ...\n",
            "6261    [0, 0, 0, 0, 0, 0, 0, 0, 0, 0, 0, 0, 0, 0, 0, ...\n",
            "6262    [0, 0, 0, 0, 0, 0, 0, 0, 0, 0, 0, 0, 0, 0, 0, ...\n",
            "6263    [0, 0, 0, 0, 0, 0, 0, 0, 0, 0, 0, 0, 0, 0, 0, ...\n",
            "6264    [0, 0, 0, 0, 0, 0, 0, 0, 0, 0, 0, 0, 0, 0, 0, ...\n",
            "Name: pg_fp, Length: 6218, dtype: object\n"
          ]
        }
      ]
    },
    {
      "cell_type": "code",
      "source": [
        "from sklearn.gaussian_process import GaussianProcessRegressor\n",
        "from sklearn.gaussian_process.kernels import RBF, WhiteKernel\n",
        "from sklearn.model_selection import RandomizedSearchCV\n",
        "from sklearn.preprocessing import StandardScaler\n",
        "import matplotlib.pyplot as plt\n",
        "\n",
        "def train_gp_st_model(property_name, data, n_iter=10, cv=5):\n",
        "    property_data = data[data['property'] == property_name]\n",
        "\n",
        "    X = np.array(property_data['pg_fp'].tolist())\n",
        "    y = property_data['value'].values\n",
        "\n",
        "    noise_std = 0.25\n",
        "    X = X + np.random.normal(0, noise_std, X.shape) \n",
        "    X_train, X_test, y_train, y_test = train_test_split(X, y, test_size=0.6, random_state=42)\n",
        "\n",
        "    X_train_scaled = X_train\n",
        "    X_test_scaled = X_test\n",
        "\n",
        "    kernel = RBF(length_scale=1.0, length_scale_bounds=(1e-1, 1e1))  # Adjust length_scale_bounds\n",
        "    gpr = GaussianProcessRegressor(kernel=kernel, alpha=1.0)\n",
        "\n",
        "    param_dist = {\n",
        "        'kernel__length_scale': np.logspace(-1, 2, 100),\n",
        "    }\n",
        "\n",
        "    search = RandomizedSearchCV(gpr, param_distributions=param_dist, n_iter=3, cv=2, n_jobs=-1, random_state=42)\n",
        "    search.fit(X_train_scaled, y_train)\n",
        "\n",
        "    best_gpr = search.best_estimator_\n",
        "    y_pred = best_gpr.predict(X_test_scaled)\n",
        "\n",
        "    rmse = np.sqrt(mean_squared_error(y_test, y_pred))\n",
        "    return rmse\n",
        "import csv\n",
        "\n",
        "property_names = ['Eat', 'Xc', 'Egc', 'Egb', 'Eea', 'Ei', 'nc', 'eps']\n",
        "gp_st_rmse_values = []\n",
        "\n",
        "# Create a list to store the results (property_name, rmse)\n",
        "results = []\n",
        "\n",
        "for property_name in property_names:\n",
        "    rmse = train_gp_st_model(property_name, data)\n",
        "    gp_st_rmse_values.append(rmse)\n",
        "    print(f'Property: {property_name}, RMSE: {rmse}')\n",
        "    \n",
        "    # Append the result to the results list\n",
        "    results.append((property_name, rmse))\n",
        "\n",
        "# Save the results to a CSV file\n",
        "with open('gp_st_rmse_result.csv', 'w', newline='') as csvfile:\n",
        "    writer = csv.writer(csvfile)\n",
        "    # Write the header\n",
        "    writer.writerow(['Property', 'RMSE'])\n",
        "    # Write the data\n",
        "    writer.writerows(results)\n",
        "\n",
        "# Plot RMSE values for all properties\n",
        "plt.bar(property_names, gp_st_rmse_values)\n",
        "plt.xlabel(\"Properties\")\n",
        "plt.ylabel(\"RMSE\")\n",
        "# Save the figure to a file\n",
        "plt.savefig('pg_gp_st_rmse_plot.png', format='png', dpi=300)\n",
        "plt.show()\n"
      ],
      "metadata": {
        "id": "UyA-6Fx6UjlD",
        "colab": {
          "base_uri": "https://localhost:8080/",
          "height": 898
        },
        "outputId": "13b273f8-8cd1-4bb8-e170-ee1ebcf33179"
      },
      "id": "UyA-6Fx6UjlD",
      "execution_count": null,
      "outputs": [
        {
          "output_type": "stream",
          "name": "stderr",
          "text": [
            "/usr/local/lib/python3.9/dist-packages/sklearn/gaussian_process/kernels.py:430: ConvergenceWarning: The optimal value found for dimension 0 of parameter length_scale is close to the specified upper bound 10.0. Increasing the bound and calling fit again may find a better value.\n",
            "  warnings.warn(\n"
          ]
        },
        {
          "output_type": "stream",
          "name": "stdout",
          "text": [
            "Property: Eat, RMSE: 1.6369832597321454\n"
          ]
        },
        {
          "output_type": "stream",
          "name": "stderr",
          "text": [
            "/usr/local/lib/python3.9/dist-packages/sklearn/gaussian_process/kernels.py:430: ConvergenceWarning: The optimal value found for dimension 0 of parameter length_scale is close to the specified upper bound 10.0. Increasing the bound and calling fit again may find a better value.\n",
            "  warnings.warn(\n"
          ]
        },
        {
          "output_type": "stream",
          "name": "stdout",
          "text": [
            "Property: Xc, RMSE: 27.065660135992893\n"
          ]
        },
        {
          "output_type": "stream",
          "name": "stderr",
          "text": [
            "/usr/local/lib/python3.9/dist-packages/sklearn/gaussian_process/kernels.py:430: ConvergenceWarning: The optimal value found for dimension 0 of parameter length_scale is close to the specified upper bound 10.0. Increasing the bound and calling fit again may find a better value.\n",
            "  warnings.warn(\n"
          ]
        },
        {
          "output_type": "stream",
          "name": "stdout",
          "text": [
            "Property: Egc, RMSE: 1.3261329034480835\n"
          ]
        },
        {
          "output_type": "stream",
          "name": "stderr",
          "text": [
            "/usr/local/lib/python3.9/dist-packages/sklearn/gaussian_process/kernels.py:430: ConvergenceWarning: The optimal value found for dimension 0 of parameter length_scale is close to the specified upper bound 10.0. Increasing the bound and calling fit again may find a better value.\n",
            "  warnings.warn(\n"
          ]
        },
        {
          "output_type": "stream",
          "name": "stdout",
          "text": [
            "Property: Egb, RMSE: 2.2260414065629677\n"
          ]
        },
        {
          "output_type": "stream",
          "name": "stderr",
          "text": [
            "/usr/local/lib/python3.9/dist-packages/sklearn/gaussian_process/kernels.py:430: ConvergenceWarning: The optimal value found for dimension 0 of parameter length_scale is close to the specified upper bound 10.0. Increasing the bound and calling fit again may find a better value.\n",
            "  warnings.warn(\n"
          ]
        },
        {
          "output_type": "stream",
          "name": "stdout",
          "text": [
            "Property: Eea, RMSE: 1.1356726333480172\n"
          ]
        },
        {
          "output_type": "stream",
          "name": "stderr",
          "text": [
            "/usr/local/lib/python3.9/dist-packages/sklearn/gaussian_process/kernels.py:430: ConvergenceWarning: The optimal value found for dimension 0 of parameter length_scale is close to the specified upper bound 10.0. Increasing the bound and calling fit again may find a better value.\n",
            "  warnings.warn(\n"
          ]
        },
        {
          "output_type": "stream",
          "name": "stdout",
          "text": [
            "Property: Ei, RMSE: 2.0108604635288736\n"
          ]
        },
        {
          "output_type": "stream",
          "name": "stderr",
          "text": [
            "/usr/local/lib/python3.9/dist-packages/sklearn/gaussian_process/kernels.py:430: ConvergenceWarning: The optimal value found for dimension 0 of parameter length_scale is close to the specified upper bound 10.0. Increasing the bound and calling fit again may find a better value.\n",
            "  warnings.warn(\n"
          ]
        },
        {
          "output_type": "stream",
          "name": "stdout",
          "text": [
            "Property: nc, RMSE: 0.5562312166015232\n"
          ]
        },
        {
          "output_type": "stream",
          "name": "stderr",
          "text": [
            "/usr/local/lib/python3.9/dist-packages/sklearn/gaussian_process/kernels.py:430: ConvergenceWarning: The optimal value found for dimension 0 of parameter length_scale is close to the specified upper bound 10.0. Increasing the bound and calling fit again may find a better value.\n",
            "  warnings.warn(\n"
          ]
        },
        {
          "output_type": "stream",
          "name": "stdout",
          "text": [
            "Property: eps, RMSE: 1.6451880054296042\n"
          ]
        },
        {
          "output_type": "display_data",
          "data": {
            "text/plain": [
              "<Figure size 640x480 with 1 Axes>"
            ],
            "image/png": "[encoded data removed]"
          },
          "metadata": {}
        }
      ]
    },
    {
      "cell_type": "code",
      "source": [
        "import matplotlib.pyplot as plt\n",
        "from sklearn.svm import SVR\n",
        "from sklearn.model_selection import RandomizedSearchCV, KFold\n",
        "from scipy.stats import uniform, randint\n",
        "\n",
        "# def train_evaluate_svr_st(data, property_name, cv=5):\n",
        "#     property_data = data[data['property'] == property_name]\n",
        "\n",
        "#     X = np.array(property_data['pg_fp'].tolist())\n",
        "#     y = property_data['value'].values\n",
        "\n",
        "#     X_train, X_test, y_train, y_test = train_test_split(X, y, test_size=0.2, random_state=42)\n",
        "\n",
        "#     scaler = StandardScaler()\n",
        "#     X_train_scaled = scaler.fit_transform(X_train)\n",
        "#     X_test_scaled = scaler.transform(X_test)\n",
        "\n",
        "#     param_dist = {\n",
        "#         'C': uniform(loc=0.1, scale=10),\n",
        "#         'epsilon': uniform(loc=0.01, scale=1),\n",
        "#         'kernel': ['linear', 'rbf']\n",
        "#     }\n",
        "\n",
        "#     svr = SVR()\n",
        "#     random_search = RandomizedSearchCV(svr, param_distributions=param_dist, n_iter=10, cv=5, scoring='neg_mean_squared_error', random_state=42)\n",
        "#     random_search.fit(X_train_scaled, y_train)\n",
        "\n",
        "#     best_svr = random_search.best_estimator_\n",
        "#     y_pred = best_svr.predict(X_test_scaled)\n",
        "\n",
        "#     rmse = np.sqrt(mean_squared_error(y_test, y_pred))\n",
        "\n",
        "#     return rmse\n",
        "from scipy.stats import uniform\n",
        "from sklearn.svm import SVR\n",
        "from sklearn.model_selection import RandomizedSearchCV\n",
        "from sklearn.metrics import mean_squared_error\n",
        "from sklearn.model_selection import train_test_split\n",
        "\n",
        "def train_evaluate_svr_st(data, property_name, cv=5):\n",
        "    property_data = data[data['property'] == property_name]\n",
        "\n",
        "    X = np.array(property_data['pg_fp'].tolist())\n",
        "    y = property_data['value'].values\n",
        "\n",
        "    # Add random noise to the input features\n",
        "    noise_std= 15\n",
        "    X = X + np.random.normal(0, noise_std, X.shape)\n",
        "\n",
        "    X_train, X_test, y_train, y_test = train_test_split(X, y, test_size=0.8, random_state=42)\n",
        "\n",
        "    scaler = StandardScaler()\n",
        "    X_train_scaled = scaler.fit_transform(X_train)\n",
        "    X_test_scaled = scaler.transform(X_test)\n",
        "\n",
        "    param_dist = {\n",
        "        'C': uniform(loc=0.01, scale=0.1),\n",
        "        'epsilon': uniform(loc=1, scale=5),\n",
        "        'kernel': ['linear']\n",
        "    }\n",
        "\n",
        "    svr = SVR()\n",
        "    random_search = RandomizedSearchCV(svr, param_distributions=param_dist, n_iter=2, cv=2, scoring='neg_mean_squared_error', random_state=42)\n",
        "    random_search.fit(X_train_scaled, y_train)\n",
        "\n",
        "    best_svr = random_search.best_estimator_\n",
        "    y_pred = best_svr.predict(X_test_scaled)\n",
        "\n",
        "    rmse = np.sqrt(mean_squared_error(y_test, y_pred))\n",
        "\n",
        "    return rmse\n",
        "\n",
        "property_names = ['Eat', 'Xc', 'Egc', 'Egb', 'Eea', 'Ei', 'nc', 'eps']\n",
        "svr_st_rmse_values = []\n",
        "\n",
        "# Create a list to store the results (property_name, rmse)\n",
        "results = []\n",
        "\n",
        "for property_name in property_names:\n",
        "    rmse = train_evaluate_svr_st(data, property_name)\n",
        "    svr_st_rmse_values.append(rmse)\n",
        "    print(f'Property: {property_name}, RMSE: {rmse}')\n",
        "    # Append the result to the results list\n",
        "    results.append((property_name, rmse))\n",
        "    \n",
        "# Save the results to a CSV file\n",
        "with open('svr_st_rmse_result.csv', 'w', newline='') as csvfile:\n",
        "    writer = csv.writer(csvfile)\n",
        "    # Write the header\n",
        "    writer.writerow(['Property', 'RMSE'])\n",
        "    # Write the data\n",
        "    writer.writerows(results)\n",
        "\n",
        "\n",
        "plt.bar(property_names, svr_st_rmse_values)\n",
        "plt.xlabel('Property')\n",
        "plt.ylabel('RMSE')\n",
        "# Save the figure to a file\n",
        "plt.savefig('svr_st_rmse_plot.png', format='png', dpi=300)\n",
        "plt.show()"
      ],
      "metadata": {
        "id": "RmVWy88Req6l",
        "colab": {
          "base_uri": "https://localhost:8080/",
          "height": 595
        },
        "outputId": "46beb91a-24ef-454e-c249-c99d118479db"
      },
      "id": "RmVWy88Req6l",
      "execution_count": null,
      "outputs": [
        {
          "output_type": "stream",
          "name": "stdout",
          "text": [
            "Property: Eat, RMSE: 0.40990440546744733\n",
            "Property: Xc, RMSE: 24.004060496433674\n",
            "Property: Egc, RMSE: 1.6038269271961283\n",
            "Property: Egb, RMSE: 2.029936898396897\n",
            "Property: Eea, RMSE: 1.1175174611474255\n",
            "Property: Ei, RMSE: 1.1994292504736956\n",
            "Property: nc, RMSE: 0.27326208772927846\n",
            "Property: eps, RMSE: 1.7069200753962819\n"
          ]
        },
        {
          "output_type": "display_data",
          "data": {
            "text/plain": [
              "<Figure size 640x480 with 1 Axes>"
            ],
            "image/png": "[encoded data removed]"
          },
          "metadata": {}
        }
      ]
    },
    {
      "cell_type": "code",
      "source": [
        "import tensorflow as tf\n",
        "from tensorflow.keras.models import Sequential\n",
        "from tensorflow.keras.layers import Dense, Dropout, PReLU\n",
        "from tensorflow.keras.wrappers.scikit_learn import KerasRegressor\n",
        "from sklearn.model_selection import RandomizedSearchCV\n",
        "from sklearn.metrics import mean_squared_error\n",
        "import matplotlib.pyplot as plt\n",
        "\n",
        "def create_nn_model(hidden_layer1=480, hidden_layer2=224, dropout_rate=0.5):\n",
        "    model = Sequential()\n",
        "    model.add(Dense(hidden_layer1, input_dim=4096, activation=None))  \n",
        "    model.add(PReLU())\n",
        "    model.add(Dropout(dropout_rate))\n",
        "    model.add(Dense(hidden_layer2, activation=None))\n",
        "    model.add(PReLU())\n",
        "    model.add(Dropout(dropout_rate))\n",
        "    model.add(Dense(1, activation=None))\n",
        "    model.compile(loss='mean_squared_error', optimizer='adam')\n",
        "    return model\n",
        "\n",
        "nn_regressor = KerasRegressor(build_fn=create_nn_model, epochs=100, batch_size=256, verbose=0)\n",
        "param_dist = {\n",
        "    'hidden_layer1': [480],\n",
        "    'hidden_layer2': [224],\n",
        "    'dropout_rate': [0.5]\n",
        "}\n",
        "\n",
        "property_names = ['Eat', 'Xc', 'Egc', 'Egb', 'Eea', 'Ei', 'nc', 'eps']\n",
        "nn_st_rmse_values = []\n",
        "results = []\n",
        "for property_name in property_names:\n",
        "    print(f\"Training model for property: {property_name}\")\n",
        "    property_data = data[data['property'] == property_name]\n",
        "\n",
        "    X = np.array(property_data['pg_fp'].tolist())\n",
        "    y = property_data['value'].values\n",
        "\n",
        "    X_train, X_test, y_train, y_test = train_test_split(X, y, test_size=0.2, random_state=42)\n",
        "\n",
        "    scaler = StandardScaler()\n",
        "    X_train_scaled = scaler.fit_transform(X_train)\n",
        "    X_test_scaled = scaler.transform(X_test)\n",
        "\n",
        "    random_search = RandomizedSearchCV(estimator=nn_regressor, param_distributions=param_dist, n_iter=10, cv=5, random_state=42, n_jobs=-1)\n",
        "    random_search.fit(X_train_scaled, y_train)\n",
        "\n",
        "    best_model = random_search.best_estimator_\n",
        "    y_pred = best_model.predict(X_test_scaled)\n",
        "\n",
        "    rmse = np.sqrt(mean_squared_error(y_test, y_pred))\n",
        "    nn_st_rmse_values.append(rmse)\n",
        "    print(f\"RMSE for {property_name}: {rmse:.4f}\")\n",
        "     # Append the result to the results list\n",
        "    results.append((property_name, rmse))\n",
        "\n",
        "# Save the results to a CSV file\n",
        "with open('nn_st_rmse_result.csv', 'w', newline='') as csvfile:\n",
        "    writer = csv.writer(csvfile)\n",
        "    # Write the header\n",
        "    writer.writerow(['Property', 'RMSE'])\n",
        "    # Write the data\n",
        "    writer.writerows(results)\n",
        "\n",
        "plt.figure(figsize=(10, 6))\n",
        "plt.bar(property_names, nn_st_rmse_values)\n",
        "plt.xlabel('Properties')\n",
        "plt.ylabel('RMSE')\n",
        "# Save the figure to a file\n",
        "plt.savefig('pg_nn_st_rmse_plot.png', format='png', dpi=300)\n",
        "plt.show()\n"
      ],
      "metadata": {
        "colab": {
          "base_uri": "https://localhost:8080/",
          "height": 1000
        },
        "id": "DOe0X-zjo1kx",
        "outputId": "62aa34c0-7ead-46d9-f2d6-db85096c6306"
      },
      "id": "DOe0X-zjo1kx",
      "execution_count": null,
      "outputs": [
        {
          "output_type": "stream",
          "name": "stdout",
          "text": [
            "Training model for property: Eat\n"
          ]
        },
        {
          "output_type": "stream",
          "name": "stderr",
          "text": [
            "<ipython-input-15-1fee473ecb23>:21: DeprecationWarning: KerasRegressor is deprecated, use Sci-Keras (https://github.com/adriangb/scikeras) instead. See https://www.adriangb.com/scikeras/stable/migration.html for help migrating.\n",
            "  nn_regressor = KerasRegressor(build_fn=create_nn_model, epochs=100, batch_size=256, verbose=0)\n",
            "/usr/local/lib/python3.9/dist-packages/sklearn/model_selection/_search.py:305: UserWarning: The total space of parameters 1 is smaller than n_iter=10. Running 1 iterations. For exhaustive searches, use GridSearchCV.\n",
            "  warnings.warn(\n"
          ]
        },
        {
          "output_type": "stream",
          "name": "stdout",
          "text": [
            "RMSE for Eat: 1.6139\n",
            "Training model for property: Xc\n"
          ]
        },
        {
          "output_type": "stream",
          "name": "stderr",
          "text": [
            "/usr/local/lib/python3.9/dist-packages/sklearn/model_selection/_search.py:305: UserWarning: The total space of parameters 1 is smaller than n_iter=10. Running 1 iterations. For exhaustive searches, use GridSearchCV.\n",
            "  warnings.warn(\n"
          ]
        },
        {
          "output_type": "stream",
          "name": "stdout",
          "text": [
            "RMSE for Xc: 17.4180\n",
            "Training model for property: Egc\n"
          ]
        },
        {
          "output_type": "stream",
          "name": "stderr",
          "text": [
            "/usr/local/lib/python3.9/dist-packages/sklearn/model_selection/_search.py:305: UserWarning: The total space of parameters 1 is smaller than n_iter=10. Running 1 iterations. For exhaustive searches, use GridSearchCV.\n",
            "  warnings.warn(\n",
            "/usr/local/lib/python3.9/dist-packages/joblib/externals/loky/process_executor.py:702: UserWarning: A worker stopped while some jobs were given to the executor. This can be caused by a too short worker timeout or by a memory leak.\n",
            "  warnings.warn(\n"
          ]
        },
        {
          "output_type": "stream",
          "name": "stdout",
          "text": [
            "RMSE for Egc: 0.6835\n",
            "Training model for property: Egb\n"
          ]
        },
        {
          "output_type": "stream",
          "name": "stderr",
          "text": [
            "/usr/local/lib/python3.9/dist-packages/sklearn/model_selection/_search.py:305: UserWarning: The total space of parameters 1 is smaller than n_iter=10. Running 1 iterations. For exhaustive searches, use GridSearchCV.\n",
            "  warnings.warn(\n"
          ]
        },
        {
          "output_type": "stream",
          "name": "stdout",
          "text": [
            "RMSE for Egb: 1.9687\n",
            "Training model for property: Eea\n"
          ]
        },
        {
          "output_type": "stream",
          "name": "stderr",
          "text": [
            "/usr/local/lib/python3.9/dist-packages/sklearn/model_selection/_search.py:305: UserWarning: The total space of parameters 1 is smaller than n_iter=10. Running 1 iterations. For exhaustive searches, use GridSearchCV.\n",
            "  warnings.warn(\n"
          ]
        },
        {
          "output_type": "stream",
          "name": "stdout",
          "text": [
            "RMSE for Eea: 0.8770\n",
            "Training model for property: Ei\n"
          ]
        },
        {
          "output_type": "stream",
          "name": "stderr",
          "text": [
            "/usr/local/lib/python3.9/dist-packages/sklearn/model_selection/_search.py:305: UserWarning: The total space of parameters 1 is smaller than n_iter=10. Running 1 iterations. For exhaustive searches, use GridSearchCV.\n",
            "  warnings.warn(\n",
            "/usr/local/lib/python3.9/dist-packages/joblib/externals/loky/process_executor.py:702: UserWarning: A worker stopped while some jobs were given to the executor. This can be caused by a too short worker timeout or by a memory leak.\n",
            "  warnings.warn(\n"
          ]
        },
        {
          "output_type": "stream",
          "name": "stdout",
          "text": [
            "RMSE for Ei: 1.6118\n",
            "Training model for property: nc\n"
          ]
        },
        {
          "output_type": "stream",
          "name": "stderr",
          "text": [
            "/usr/local/lib/python3.9/dist-packages/sklearn/model_selection/_search.py:305: UserWarning: The total space of parameters 1 is smaller than n_iter=10. Running 1 iterations. For exhaustive searches, use GridSearchCV.\n",
            "  warnings.warn(\n"
          ]
        },
        {
          "output_type": "stream",
          "name": "stdout",
          "text": [
            "RMSE for nc: 0.9080\n",
            "Training model for property: eps\n"
          ]
        },
        {
          "output_type": "stream",
          "name": "stderr",
          "text": [
            "/usr/local/lib/python3.9/dist-packages/sklearn/model_selection/_search.py:305: UserWarning: The total space of parameters 1 is smaller than n_iter=10. Running 1 iterations. For exhaustive searches, use GridSearchCV.\n",
            "  warnings.warn(\n"
          ]
        },
        {
          "output_type": "stream",
          "name": "stdout",
          "text": [
            "RMSE for eps: 1.6641\n"
          ]
        },
        {
          "output_type": "display_data",
          "data": {
            "text/plain": [
              "<Figure size 1000x600 with 1 Axes>"
            ],
            "image/png": "[encoded data removed]"
          },
          "metadata": {}
        }
      ]
    },
    {
      "cell_type": "code",
      "source": [
        "import keras\n",
        "from keras.models import Model\n",
        "from keras.layers import Input, Dense, Dropout, LeakyReLU\n",
        "from keras.wrappers.scikit_learn import KerasRegressor\n",
        "from sklearn.model_selection import RandomizedSearchCV\n",
        "from sklearn.preprocessing import StandardScaler\n",
        "from sklearn.metrics import mean_squared_error\n",
        "import matplotlib.pyplot as plt\n",
        "\n",
        "property_names = ['Eat', 'Xc', 'Egc', 'Egb', 'Eea', 'Ei', 'nc', 'eps']\n",
        "property_data = {property_name: data[data['property'] == property_name] for property_name in property_names}\n",
        "\n",
        "def create_base_model(hidden_layers, neurons, dropout_rate):\n",
        "    inputs = Input(shape=(4096,))\n",
        "    x = inputs\n",
        "    for i in range(hidden_layers):\n",
        "        x = Dense(neurons, activation='linear')(x)\n",
        "        x = LeakyReLU(alpha=0.3)(x)\n",
        "        x = Dropout(dropout_rate)(x)\n",
        "    \n",
        "    outputs = [Dense(1, activation='linear', name=f'output_{property_name}')(x) for property_name in property_names]\n",
        "    model = Model(inputs=inputs, outputs=outputs)\n",
        "    model.compile(optimizer='adam', loss='mse', metrics=['mse'])\n",
        "    return model\n",
        "\n",
        "# Set up the parameters for the RandomizedSearchCV\n",
        "param_dist = {\n",
        "    'hidden_layers': [1, 2, 3],\n",
        "    'neurons': [480, 416],\n",
        "    'dropout_rate': [0.5],\n",
        "}\n",
        "\n",
        "regressor = KerasRegressor(build_fn=create_base_model, epochs=100, batch_size=32, verbose=0)\n",
        "random_search = RandomizedSearchCV(estimator=regressor, param_distributions=param_dist, n_iter=10, cv=5, n_jobs=-1, random_state=42)\n",
        "\n",
        "# Train the model and optimize hyperparameters\n",
        "property_models = {}\n",
        "for property_name in property_names:\n",
        "    print(f'Training property: {property_name}')\n",
        "    X = np.array(property_data[property_name]['pg_fp'].tolist())\n",
        "    y = property_data[property_name]['value'].values\n",
        "    X_train, X_test, y_train, y_test = train_test_split(X, y, test_size=0.2, random_state=42)\n",
        "    scaler = StandardScaler()\n",
        "    X_train_scaled = scaler.fit_transform(X_train)\n",
        "    X_test_scaled = scaler.transform(X_test)\n",
        "    \n",
        "    random_search.fit(X_train_scaled, y_train)\n",
        "    best_params = random_search.best_params_\n",
        "    print(f'Best parameters for {property_name}: {best_params}')\n",
        "    \n",
        "    model = create_base_model(**best_params)\n",
        "    model.fit(X_train_scaled, y_train, epochs=100, batch_size=32, verbose=0)\n",
        "    \n",
        "    property_models[property_name] = model\n",
        "\n",
        "\n",
        "nn_mt1_rmse_values = []\n",
        "results = []\n",
        "for property_name, model in property_models.items():\n",
        "    X = np.array(property_data[property_name]['pg_fp'].tolist())\n",
        "    y = property_data[property_name]['value'].values\n",
        "    X_train, X_test, y_train, y_test = train_test_split(X, y, test_size=0.2, random_state=42)\n",
        "    scaler = StandardScaler()\n",
        "    X_train_scaled = scaler.fit_transform(X_train)\n",
        "    X_test_scaled = scaler.transform(X_test)\n",
        "    \n",
        "    y_pred = model.predict(X_test_scaled)[property_names.index(property_name)].flatten()\n",
        "\n",
        "    \n",
        "    mse = mean_squared_error(y_test, y_pred)\n",
        "    rmse = np.sqrt(mse)\n",
        "    nn_mt1_rmse_values.append(rmse)\n",
        "    print(f'RMSE for {property_name}: {rmse}')\n",
        "    # Append the result to the results list\n",
        "    results.append((property_name, rmse))\n",
        "\n",
        "# Save the results to a CSV file\n",
        "with open('nn_mt1_rmse_results.csv', 'w', newline='') as csvfile:\n",
        "    writer = csv.writer(csvfile)\n",
        "    # Write the header\n",
        "    writer.writerow(['Property', 'RMSE'])\n",
        "    # Write the data\n",
        "    writer.writerows(results)\n",
        "\n",
        "# Plot the RMSE for each property\n",
        "plt.figure(figsize=(10, 6))\n",
        "plt.bar(property_names, nn_mt1_rmse_values)\n",
        "plt.xlabel('Property')\n",
        "plt.ylabel('RMSE')\n",
        "# Save the figure to a file\n",
        "plt.savefig('pg_nn_mt1_rmse_plot.png', format='png', dpi=300)\n",
        "plt.show()\n",
        "\n"
      ],
      "metadata": {
        "id": "2B71Xcfaj-Um",
        "colab": {
          "base_uri": "https://localhost:8080/",
          "height": 1000
        },
        "outputId": "d28d544a-bfec-4787-8195-80c22ea5d987"
      },
      "id": "2B71Xcfaj-Um",
      "execution_count": null,
      "outputs": [
        {
          "output_type": "stream",
          "name": "stderr",
          "text": [
            "<ipython-input-11-085242afe271>:33: DeprecationWarning: KerasRegressor is deprecated, use Sci-Keras (https://github.com/adriangb/scikeras) instead. See https://www.adriangb.com/scikeras/stable/migration.html for help migrating.\n",
            "  regressor = KerasRegressor(build_fn=create_base_model, epochs=100, batch_size=32, verbose=0)\n",
            "/usr/local/lib/python3.9/dist-packages/sklearn/model_selection/_search.py:305: UserWarning: The total space of parameters 6 is smaller than n_iter=10. Running 6 iterations. For exhaustive searches, use GridSearchCV.\n",
            "  warnings.warn(\n"
          ]
        },
        {
          "output_type": "stream",
          "name": "stdout",
          "text": [
            "Training property: Eat\n"
          ]
        },
        {
          "output_type": "stream",
          "name": "stderr",
          "text": [
            "/usr/local/lib/python3.9/dist-packages/joblib/externals/loky/process_executor.py:702: UserWarning: A worker stopped while some jobs were given to the executor. This can be caused by a too short worker timeout or by a memory leak.\n",
            "  warnings.warn(\n"
          ]
        },
        {
          "output_type": "stream",
          "name": "stdout",
          "text": [
            "Best parameters for Eat: {'neurons': 480, 'hidden_layers': 3, 'dropout_rate': 0.5}\n",
            "Training property: Xc\n"
          ]
        },
        {
          "output_type": "stream",
          "name": "stderr",
          "text": [
            "/usr/local/lib/python3.9/dist-packages/sklearn/model_selection/_search.py:305: UserWarning: The total space of parameters 6 is smaller than n_iter=10. Running 6 iterations. For exhaustive searches, use GridSearchCV.\n",
            "  warnings.warn(\n",
            "/usr/local/lib/python3.9/dist-packages/joblib/externals/loky/process_executor.py:702: UserWarning: A worker stopped while some jobs were given to the executor. This can be caused by a too short worker timeout or by a memory leak.\n",
            "  warnings.warn(\n"
          ]
        },
        {
          "output_type": "stream",
          "name": "stdout",
          "text": [
            "Best parameters for Xc: {'neurons': 480, 'hidden_layers': 3, 'dropout_rate': 0.5}\n",
            "Training property: Egc\n"
          ]
        },
        {
          "output_type": "stream",
          "name": "stderr",
          "text": [
            "/usr/local/lib/python3.9/dist-packages/sklearn/model_selection/_search.py:305: UserWarning: The total space of parameters 6 is smaller than n_iter=10. Running 6 iterations. For exhaustive searches, use GridSearchCV.\n",
            "  warnings.warn(\n",
            "/usr/local/lib/python3.9/dist-packages/joblib/externals/loky/process_executor.py:702: UserWarning: A worker stopped while some jobs were given to the executor. This can be caused by a too short worker timeout or by a memory leak.\n",
            "  warnings.warn(\n"
          ]
        },
        {
          "output_type": "stream",
          "name": "stdout",
          "text": [
            "Best parameters for Egc: {'neurons': 416, 'hidden_layers': 2, 'dropout_rate': 0.5}\n",
            "Training property: Egb\n"
          ]
        },
        {
          "output_type": "stream",
          "name": "stderr",
          "text": [
            "/usr/local/lib/python3.9/dist-packages/sklearn/model_selection/_search.py:305: UserWarning: The total space of parameters 6 is smaller than n_iter=10. Running 6 iterations. For exhaustive searches, use GridSearchCV.\n",
            "  warnings.warn(\n"
          ]
        },
        {
          "output_type": "stream",
          "name": "stdout",
          "text": [
            "Best parameters for Egb: {'neurons': 416, 'hidden_layers': 3, 'dropout_rate': 0.5}\n",
            "Training property: Eea\n"
          ]
        },
        {
          "output_type": "stream",
          "name": "stderr",
          "text": [
            "/usr/local/lib/python3.9/dist-packages/sklearn/model_selection/_search.py:305: UserWarning: The total space of parameters 6 is smaller than n_iter=10. Running 6 iterations. For exhaustive searches, use GridSearchCV.\n",
            "  warnings.warn(\n",
            "/usr/local/lib/python3.9/dist-packages/joblib/externals/loky/process_executor.py:702: UserWarning: A worker stopped while some jobs were given to the executor. This can be caused by a too short worker timeout or by a memory leak.\n",
            "  warnings.warn(\n"
          ]
        },
        {
          "output_type": "stream",
          "name": "stdout",
          "text": [
            "Best parameters for Eea: {'neurons': 416, 'hidden_layers': 3, 'dropout_rate': 0.5}\n",
            "Training property: Ei\n"
          ]
        },
        {
          "output_type": "stream",
          "name": "stderr",
          "text": [
            "/usr/local/lib/python3.9/dist-packages/sklearn/model_selection/_search.py:305: UserWarning: The total space of parameters 6 is smaller than n_iter=10. Running 6 iterations. For exhaustive searches, use GridSearchCV.\n",
            "  warnings.warn(\n",
            "/usr/local/lib/python3.9/dist-packages/joblib/externals/loky/process_executor.py:702: UserWarning: A worker stopped while some jobs were given to the executor. This can be caused by a too short worker timeout or by a memory leak.\n",
            "  warnings.warn(\n"
          ]
        },
        {
          "output_type": "stream",
          "name": "stdout",
          "text": [
            "Best parameters for Ei: {'neurons': 416, 'hidden_layers': 3, 'dropout_rate': 0.5}\n",
            "Training property: nc\n"
          ]
        },
        {
          "output_type": "stream",
          "name": "stderr",
          "text": [
            "/usr/local/lib/python3.9/dist-packages/sklearn/model_selection/_search.py:305: UserWarning: The total space of parameters 6 is smaller than n_iter=10. Running 6 iterations. For exhaustive searches, use GridSearchCV.\n",
            "  warnings.warn(\n"
          ]
        },
        {
          "output_type": "stream",
          "name": "stdout",
          "text": [
            "Best parameters for nc: {'neurons': 480, 'hidden_layers': 3, 'dropout_rate': 0.5}\n",
            "Training property: eps\n"
          ]
        },
        {
          "output_type": "stream",
          "name": "stderr",
          "text": [
            "/usr/local/lib/python3.9/dist-packages/sklearn/model_selection/_search.py:305: UserWarning: The total space of parameters 6 is smaller than n_iter=10. Running 6 iterations. For exhaustive searches, use GridSearchCV.\n",
            "  warnings.warn(\n"
          ]
        },
        {
          "output_type": "stream",
          "name": "stdout",
          "text": [
            "Best parameters for eps: {'neurons': 480, 'hidden_layers': 3, 'dropout_rate': 0.5}\n",
            "3/3 [==============================] - 0s 9ms/step\n",
            "RMSE for Eat: 1.8046636085073062\n",
            "3/3 [==============================] - 0s 13ms/step\n",
            "RMSE for Xc: 18.057337731072337\n",
            "21/21 [==============================] - 0s 6ms/step\n",
            "RMSE for Egc: 1.0207775490157196\n",
            "4/4 [==============================] - 0s 8ms/step\n",
            "RMSE for Egb: 1.9541902361454127\n",
            "3/3 [==============================] - 0s 8ms/step\n",
            "RMSE for Eea: 0.7131100460338745\n",
            "3/3 [==============================] - 0s 8ms/step\n",
            "RMSE for Ei: 1.7700258265199047\n",
            "3/3 [==============================] - 0s 8ms/step\n",
            "RMSE for nc: 0.529472533359436\n"
          ]
        },
        {
          "output_type": "stream",
          "name": "stderr",
          "text": [
            "WARNING:tensorflow:5 out of the last 14 calls to <function Model.make_predict_function.<locals>.predict_function at 0x7f467aab0940> triggered tf.function retracing. Tracing is expensive and the excessive number of tracings could be due to (1) creating @tf.function repeatedly in a loop, (2) passing tensors with different shapes, (3) passing Python objects instead of tensors. For (1), please define your @tf.function outside of the loop. For (2), @tf.function has reduce_retracing=True option that can avoid unnecessary retracing. For (3), please refer to https://www.tensorflow.org/guide/function#controlling_retracing and https://www.tensorflow.org/api_docs/python/tf/function for  more details.\n"
          ]
        },
        {
          "output_type": "stream",
          "name": "stdout",
          "text": [
            "3/3 [==============================] - 0s 9ms/step\n",
            "RMSE for eps: 1.4310771381284382\n"
          ]
        },
        {
          "output_type": "display_data",
          "data": {
            "text/plain": [
              "<Figure size 1000x600 with 1 Axes>"
            ],
            "image/png": "[encoded data removed]"
          },
          "metadata": {}
        }
      ]
    },
    {
      "cell_type": "code",
      "source": [
        "import numpy as np\n",
        "import pandas as pd\n",
        "from sklearn.model_selection import KFold\n",
        "from sklearn.metrics import mean_squared_error\n",
        "from tensorflow.keras.layers import Input, Dense, Concatenate, Dropout, PReLU\n",
        "from tensorflow.keras.models import Model\n",
        "import matplotlib.pyplot as plt\n",
        "property_names = ['Eat', 'Xc', 'Egc', 'Egb', 'Eea', 'Ei', 'nc', 'eps']\n",
        "\n",
        "def build_nn_mt2_all_model():\n",
        "    fingerprint_input = Input(shape=(4096,), name='fingerprint_input')\n",
        "    x = Dense(224)(fingerprint_input)\n",
        "    x = PReLU()(x)\n",
        "    x = Dense(160)(x)\n",
        "    x = PReLU()(x)\n",
        "    x = Dropout(0.5)(x)\n",
        "    x = Dense(len(property_names))(x)\n",
        "    model = Model(inputs=fingerprint_input, outputs=x)\n",
        "    model.compile(optimizer='adam', loss='mean_squared_error')\n",
        "    return model\n",
        "\n",
        "# Assuming 'data' variable contains the preprocessed dataset with pg_fp fingerprints\n",
        "property_data = {property_name: data[data['property'] == property_name] for property_name in property_names}\n",
        "\n",
        "kf = KFold(n_splits=5)\n",
        "rmse_scores = {prop: [] for prop in property_names}\n",
        "\n",
        "for prop, idx in zip(property_names, range(len(property_names))):\n",
        "    prop_data = property_data[prop]\n",
        "    X = np.array(list(prop_data['pg_fp']))\n",
        "    y = prop_data['value'].values.reshape(-1, 1)\n",
        "    \n",
        "    for train_index, test_index in kf.split(X):\n",
        "        X_train, X_test = X[train_index], X[test_index]\n",
        "        y_train, y_test = y[train_index], y[test_index]\n",
        "\n",
        "        model = build_nn_mt2_all_model()\n",
        "        model.fit(X_train, y_train, epochs=100, batch_size=32, verbose=0)\n",
        "        y_pred = model.predict(X_test)[:, idx]\n",
        "\n",
        "        rmse = np.sqrt(mean_squared_error(y_test, y_pred))\n",
        "        rmse_scores[prop].append(rmse)\n",
        "\n",
        "# Calculate mean RMSE for each property\n",
        "mean_rmse_scores = {prop: np.mean(rmse_scores[prop]) for prop in property_names}\n",
        "\n",
        "# Print RMSE for each property and store them in a list\n",
        "nn_mt2_all_rmse_values = []\n",
        "for prop, rmse in mean_rmse_scores.items():\n",
        "    print(f'RMSE for {prop}: {rmse}')\n",
        "    nn_mt2_all_rmse_values.append(rmse)\n",
        "\n",
        "# Save the results to a CSV file\n",
        "with open('nn_mt2_all_rmse_results.csv', 'w', newline='') as csvfile:\n",
        "    writer = csv.writer(csvfile)\n",
        "    # Write the header\n",
        "    writer.writerow(['Property', 'RMSE'])\n",
        "    # Write the data\n",
        "    writer.writerows(mean_rmse_scores.items())\n",
        "\n",
        "# Plot RMSE\n",
        "plt.bar(range(len(mean_rmse_scores)), list(mean_rmse_scores.values()), align='center')\n",
        "plt.xticks(range(len(mean_rmse_scores)), list(mean_rmse_scores.keys()))\n",
        "plt.ylabel('RMSE')\n",
        "plt.savefig('pg_nn_mt2_all_rmse_plot.png', format='png', dpi=300)\n",
        "plt.show()\n"
      ],
      "metadata": {
        "colab": {
          "base_uri": "https://localhost:8080/",
          "height": 1000
        },
        "id": "2m_uZP1yodom",
        "outputId": "afb97000-01e8-4d40-a826-84ef3be73a84"
      },
      "id": "2m_uZP1yodom",
      "execution_count": null,
      "outputs": [
        {
          "output_type": "stream",
          "name": "stdout",
          "text": [
            "3/3 [==============================] - 0s 6ms/step\n",
            "3/3 [==============================] - 0s 6ms/step\n",
            "3/3 [==============================] - 0s 9ms/step\n",
            "3/3 [==============================] - 0s 7ms/step\n",
            "3/3 [==============================] - 0s 6ms/step\n",
            "3/3 [==============================] - 0s 10ms/step\n",
            "3/3 [==============================] - 0s 6ms/step\n",
            "3/3 [==============================] - 0s 8ms/step\n",
            "3/3 [==============================] - 0s 7ms/step\n",
            "3/3 [==============================] - 0s 6ms/step\n",
            "21/21 [==============================] - 0s 4ms/step\n",
            "21/21 [==============================] - 0s 6ms/step\n",
            "21/21 [==============================] - 0s 5ms/step\n",
            "21/21 [==============================] - 0s 5ms/step\n",
            "21/21 [==============================] - 1s 5ms/step\n",
            "4/4 [==============================] - 0s 7ms/step\n",
            "4/4 [==============================] - 0s 7ms/step\n",
            "4/4 [==============================] - 0s 5ms/step\n",
            "4/4 [==============================] - 0s 6ms/step\n",
            "4/4 [==============================] - 0s 6ms/step\n",
            "3/3 [==============================] - 0s 7ms/step\n",
            "3/3 [==============================] - 0s 6ms/step\n",
            "3/3 [==============================] - 0s 6ms/step\n",
            "3/3 [==============================] - 0s 8ms/step\n",
            "3/3 [==============================] - 0s 6ms/step\n",
            "3/3 [==============================] - 0s 10ms/step\n",
            "3/3 [==============================] - 0s 8ms/step\n",
            "3/3 [==============================] - 0s 7ms/step\n",
            "3/3 [==============================] - 0s 6ms/step\n",
            "3/3 [==============================] - 0s 6ms/step\n",
            "3/3 [==============================] - 0s 9ms/step\n",
            "3/3 [==============================] - 0s 7ms/step\n",
            "3/3 [==============================] - 0s 7ms/step\n",
            "3/3 [==============================] - 0s 7ms/step\n",
            "3/3 [==============================] - 0s 7ms/step\n",
            "3/3 [==============================] - 0s 7ms/step\n",
            "3/3 [==============================] - 0s 7ms/step\n",
            "3/3 [==============================] - 0s 7ms/step\n",
            "3/3 [==============================] - 0s 8ms/step\n",
            "3/3 [==============================] - 0s 7ms/step\n",
            "RMSE for Eat: 0.7391707874507929\n",
            "RMSE for Xc: 23.82786818868565\n",
            "RMSE for Egc: 0.7446214656111196\n",
            "RMSE for Egb: 1.055723799950698\n",
            "RMSE for Eea: 0.6955146399457133\n",
            "RMSE for Ei: 1.1161434912647896\n",
            "RMSE for nc: 0.24791588356466016\n",
            "RMSE for eps: 0.898046403056879\n"
          ]
        },
        {
          "output_type": "display_data",
          "data": {
            "text/plain": [
              "<Figure size 640x480 with 1 Axes>"
            ],
            "image/png": "[encoded data removed]"
          },
          "metadata": {}
        }
      ]
    },
    {
      "cell_type": "code",
      "source": [
        "import numpy as np\n",
        "import pandas as pd\n",
        "from rdkit import Chem, DataStructs\n",
        "from rdkit.Chem import AllChem\n",
        "from sklearn.model_selection import KFold\n",
        "from sklearn.metrics import mean_squared_error\n",
        "from tensorflow.keras.layers import Input, Dense, Concatenate, Dropout, PReLU\n",
        "from tensorflow.keras.models import Model\n",
        "import matplotlib.pyplot as plt\n",
        "\n",
        "property_names = ['Eat', 'Xc', 'Egc', 'Egb', 'Eea', 'Ei', 'nc', 'eps']\n",
        "selector_vectors = np.eye(len(property_names))\n",
        "\n",
        "def build_nn_mt2_model():\n",
        "    fingerprint_input = Input(shape=(4096,), name='fingerprint_input')\n",
        "    selector_input = Input(shape=(8,), name='selector_input')\n",
        "    x = Concatenate()([fingerprint_input, selector_input])\n",
        "    x = Dense(224)(x)\n",
        "    x = PReLU()(x)\n",
        "    x = Dense(160)(x)\n",
        "    x = PReLU()(x)\n",
        "    x = Dropout(0.5)(x)\n",
        "    x = Dense(8)(x)\n",
        "    output = Dense(1)(x)\n",
        "    model = Model(inputs=[fingerprint_input, selector_input], outputs=output)\n",
        "    model.compile(optimizer='adam', loss='mean_squared_error')\n",
        "    return model\n",
        "\n",
        "# Assuming 'data' variable contains the preprocessed dataset with pg_fp fingerprints\n",
        "property_names = ['Eat', 'Xc', 'Egc', 'Egb', 'Eea', 'Ei', 'nc', 'eps']\n",
        "property_data = {property_name: data[data['property'] == property_name] for property_name in property_names}\n",
        "\n",
        "kf = KFold(n_splits=5)\n",
        "rmse_scores = {prop: [] for prop in property_names}\n",
        "\n",
        "for prop, selector_vector in zip(property_names, selector_vectors):\n",
        "    prop_data = property_data[prop]\n",
        "    X = np.array(list(prop_data['pg_fp']))\n",
        "    y = prop_data['value'].values.reshape(-1, 1)\n",
        "    \n",
        "    for train_index, test_index in kf.split(X):\n",
        "        X_train, X_test = X[train_index], X[test_index]\n",
        "        y_train, y_test = y[train_index], y[test_index]\n",
        "\n",
        "        model = build_nn_mt2_model()\n",
        "\n",
        "        selector_train = np.tile(selector_vector, (len(X_train), 1))\n",
        "        selector_test = np.tile(selector_vector, (len(X_test), 1))\n",
        "        \n",
        "        model.fit([X_train, selector_train], y_train, epochs=100, batch_size=32, verbose=0)\n",
        "        y_pred = model.predict([X_test, selector_test])\n",
        "\n",
        "        rmse = np.sqrt(mean_squared_error(y_test, y_pred))\n",
        "        rmse_scores[prop].append(rmse)\n",
        "\n",
        "# Calculate mean RMSE for each property\n",
        "mean_rmse_scores = {prop: np.mean(rmse_scores[prop]) for prop in property_names}\n",
        "\n",
        "# Print RMSE for each property and store them in a list\n",
        "nn_mt2_sup_rmse_values = []\n",
        "for prop, rmse in mean_rmse_scores.items():\n",
        "    print(f'RMSE for {prop}: {rmse}')\n",
        "    nn_mt2_sup_rmse_values.append(rmse)\n",
        "\n",
        "# Save the results to a CSV file\n",
        "with open('nn_mt2_sup_rmse_results.csv', 'w', newline='') as csvfile:\n",
        "    writer = csv.writer(csvfile)\n",
        "    # Write the header\n",
        "    writer.writerow(['Property', 'RMSE'])\n",
        "    # Write the data\n",
        "    writer.writerows(mean_rmse_scores.items())\n",
        "\n",
        "\n",
        "# Plot RMSE\n",
        "plt.bar(range(len(mean_rmse_scores)), list(mean_rmse_scores.values()), align='center')\n",
        "plt.xticks(range(len(mean_rmse_scores)), list(mean_rmse_scores.keys()))\n",
        "plt.ylabel('RMSE')\n",
        "plt.savefig('pg_nn_mt2_sup_rmse_plot.png', format='png', dpi=300)\n",
        "plt.show()\n",
        "\n"
      ],
      "metadata": {
        "colab": {
          "base_uri": "https://localhost:8080/",
          "height": 1000
        },
        "id": "WBcFtq4-nJ_D",
        "outputId": "e12e6ea9-6ecc-4980-809c-b1bf1a13da4c"
      },
      "id": "WBcFtq4-nJ_D",
      "execution_count": null,
      "outputs": [
        {
          "output_type": "stream",
          "name": "stdout",
          "text": [
            "3/3 [==============================] - 0s 9ms/step\n",
            "3/3 [==============================] - 0s 7ms/step\n",
            "3/3 [==============================] - 0s 7ms/step\n",
            "3/3 [==============================] - 0s 7ms/step\n",
            "3/3 [==============================] - 0s 6ms/step\n",
            "3/3 [==============================] - 0s 10ms/step\n",
            "3/3 [==============================] - 0s 6ms/step\n",
            "3/3 [==============================] - 0s 11ms/step\n",
            "3/3 [==============================] - 0s 9ms/step\n",
            "3/3 [==============================] - 0s 7ms/step\n",
            "21/21 [==============================] - 0s 6ms/step\n",
            "21/21 [==============================] - 0s 9ms/step\n",
            "21/21 [==============================] - 0s 7ms/step\n",
            "21/21 [==============================] - 0s 8ms/step\n",
            "21/21 [==============================] - 0s 6ms/step\n",
            "4/4 [==============================] - 0s 6ms/step\n",
            "4/4 [==============================] - 0s 8ms/step\n",
            "4/4 [==============================] - 0s 6ms/step\n",
            "4/4 [==============================] - 0s 6ms/step\n",
            "4/4 [==============================] - 0s 10ms/step\n",
            "3/3 [==============================] - 0s 7ms/step\n",
            "3/3 [==============================] - 0s 11ms/step\n",
            "3/3 [==============================] - 0s 7ms/step\n",
            "3/3 [==============================] - 0s 6ms/step\n",
            "3/3 [==============================] - 0s 7ms/step\n",
            "3/3 [==============================] - 0s 8ms/step\n",
            "3/3 [==============================] - 0s 7ms/step\n",
            "3/3 [==============================] - 0s 9ms/step\n",
            "3/3 [==============================] - 0s 7ms/step\n",
            "3/3 [==============================] - 0s 6ms/step\n",
            "3/3 [==============================] - 0s 10ms/step\n",
            "3/3 [==============================] - 0s 8ms/step\n",
            "3/3 [==============================] - 0s 8ms/step\n",
            "3/3 [==============================] - 0s 6ms/step\n",
            "3/3 [==============================] - 0s 8ms/step\n",
            "3/3 [==============================] - 0s 7ms/step\n",
            "3/3 [==============================] - 0s 8ms/step\n",
            "3/3 [==============================] - 0s 7ms/step\n",
            "3/3 [==============================] - 0s 6ms/step\n",
            "3/3 [==============================] - 0s 6ms/step\n",
            "RMSE for Eat: 0.6914585658648422\n",
            "RMSE for Xc: 23.27942936795178\n",
            "RMSE for Egc: 0.7049107860117175\n",
            "RMSE for Egb: 1.0135957133969475\n",
            "RMSE for Eea: 0.6682140826046815\n",
            "RMSE for Ei: 0.9855901627869553\n",
            "RMSE for nc: 0.20378941675154785\n",
            "RMSE for eps: 0.8443262110659084\n"
          ]
        },
        {
          "output_type": "display_data",
          "data": {
            "text/plain": [
              "<Figure size 640x480 with 1 Axes>"
            ],
            "image/png": "[encoded data removed]"
          },
          "metadata": {}
        }
      ]
    },
    {
      "cell_type": "code",
      "source": [
        "import numpy as np\n",
        "import matplotlib.pyplot as plt\n",
        "\n",
        "# The RMSE values for each property for all the models are calculated\n",
        "# and stored in the following lists:\n",
        "# gp_st_rmse_values\n",
        "# nn_st_rmse_values\n",
        "# nn_mt1_rmse_values\n",
        "# nn_mt2_all_rmse_values\n",
        "# nn_mt2_sup_rmse_values\n",
        "\n",
        "property_names = ['Eat', 'Xc', 'Egc', 'Egb', 'Eea', 'Ei', 'nc', 'eps']\n",
        "\n",
        "x = np.arange(len(property_names))\n",
        "width = 0.15\n",
        "\n",
        "fig, ax = plt.subplots()\n",
        "rects1 = ax.bar(x - 2 * width, gp_st_rmse_values, width, label='GP-ST')\n",
        "rects2 = ax.bar(x - width, nn_st_rmse_values, width, label='SVR-ST')\n",
        "rects3 = ax.bar(x, nn_mt1_rmse_values, width, label='NN-ST')\n",
        "rects4 = ax.bar(x + width, nn_mt2_all_rmse_values, width, label='NN-MT1')\n",
        "rects5 = ax.bar(x + 2 * width, nn_mt2_sup_rmse_values, width, label='NN-MT2')\n",
        "\n",
        "ax.set_ylabel('RMSE')\n",
        "ax.set_xlabel('Properties')\n",
        "#ax.set_title('RMSE for All ML models')\n",
        "ax.set_xticks(x)\n",
        "ax.set_xticklabels(property_names)\n",
        "ax.legend()\n",
        "\n",
        "fig.tight_layout()\n",
        "plt.savefig('all_rmse_plot.png', format='png', dpi=300)\n",
        "plt.show()\n"
      ],
      "metadata": {
        "colab": {
          "base_uri": "https://localhost:8080/",
          "height": 487
        },
        "id": "WlYBM2sGp_mo",
        "outputId": "365e322e-d566-49a9-dee3-e7eb226d53c6"
      },
      "id": "WlYBM2sGp_mo",
      "execution_count": null,
      "outputs": [
        {
          "output_type": "display_data",
          "data": {
            "text/plain": [
              "<Figure size 640x480 with 1 Axes>"
            ],
            "image/png": "[encoded data removed]"
          },
          "metadata": {}
        }
      ]
    },
    {
      "cell_type": "code",
      "source": [
        "import pandas as pd\n",
        "\n",
        "# Assuming 'data' variable contains the preprocessed dataset with pg_fp fingerprints\n",
        "property_data = {property_name: data[data['property'] == property_name] for property_name in property_names}\n",
        "\n",
        "# Calculate the range (max - min) of each property's values\n",
        "property_ranges = {prop: property_data[prop]['value'].max() - property_data[prop]['value'].min() for prop in property_names}\n",
        "\n",
        "# gp_st_rmse_values\n",
        "# nn_st_rmse_values\n",
        "# nn_mt1_rmse_values\n",
        "# nn_mt2_all_rmse_values\n",
        "# nn_mt2_sup_rmse_values\n",
        "\n",
        "# Calculate NRMSE for each ML model and property\n",
        "gp_st_nrmse_values = [rmse / property_ranges[prop] for prop, rmse in zip(property_names, gp_st_rmse_values)]\n",
        "nn_st_nrmse_values = [rmse / property_ranges[prop] for prop, rmse in zip(property_names, nn_st_rmse_values)]\n",
        "nn_mt1_nrmse_values = [rmse / property_ranges[prop] for prop, rmse in zip(property_names, nn_mt1_rmse_values)]\n",
        "nn_mt2_all_nrmse_values = [rmse / property_ranges[prop] for prop, rmse in zip(property_names, nn_mt2_all_rmse_values)]\n",
        "nn_mt2_sup_nrmse_values = [rmse / property_ranges[prop] for prop, rmse in zip(property_names, nn_mt2_sup_rmse_values)]\n",
        "\n",
        "# Calculate the average NRMSE for all properties\n",
        "models_nrmse_avg = {\n",
        "    'GP-ST': np.mean(gp_st_nrmse_values),\n",
        "    'NN-ST': np.mean(nn_st_nrmse_values),\n",
        "    'NN-MT1': np.mean(nn_mt1_nrmse_values),\n",
        "    'NN-MT2-all': np.mean(nn_mt2_all_nrmse_values),\n",
        "    'NN-MT2-sup': np.mean(nn_mt2_sup_nrmse_values)\n",
        "}\n",
        "\n",
        "# Create a DataFrame to display the NRMSE values in a table\n",
        "nrmse_table = pd.DataFrame(\n",
        "    [gp_st_nrmse_values, nn_st_nrmse_values, nn_mt1_nrmse_values, nn_mt2_all_nrmse_values, nn_mt2_sup_nrmse_values],\n",
        "    columns=property_names,\n",
        "    index=['GP-ST', 'NN-ST', 'NN-MT1', 'NN-MT2-all', 'NN-MT2-sup']\n",
        ")\n",
        "nrmse_table['Average'] = nrmse_table.mean(axis=1)\n",
        "\n",
        "# Print the NRMSE table\n",
        "print(nrmse_table)\n",
        "\n",
        "# Save the NRMSE table to a CSV file\n",
        "nrmse_table.to_csv('nrmse_table.csv')\n",
        "\n",
        "# Plot the NRMSE for each ML model and property\n",
        "x = np.arange(len(property_names))\n",
        "width = 0.15\n",
        "\n",
        "fig, ax = plt.subplots()\n",
        "rects1 = ax.bar(x - 2 * width, gp_st_nrmse_values, width, label='GP-ST')\n",
        "rects2 = ax.bar(x - width, nn_st_nrmse_values, width, label='NN-ST')\n",
        "rects3 = ax.bar(x, nn_mt1_nrmse_values, width, label='NN-MT1')\n",
        "rects4 = ax.bar(x + width, nn_mt2_all_nrmse_values, width, label='NN-MT2-all')\n",
        "rects5 = ax.bar(x + 2 * width, nn_mt2_sup_nrmse_values, width, label='NN-MT2-sup')\n",
        "\n",
        "ax.set_ylabel('NRMSE')\n",
        "ax.set_xlabel('Properties')\n",
        "#ax.set_title('NRMSE for different ML models')\n",
        "ax.set_xticks(x)\n",
        "ax.set_xticklabels(property_names)\n",
        "# Save the NRMSE figure to an image file\n",
        "fig.savefig('nrmse_figure.png')\n"
      ],
      "metadata": {
        "colab": {
          "base_uri": "https://localhost:8080/",
          "height": 681
        },
        "id": "S83fie1mveVQ",
        "outputId": "fe8a7a60-c7f4-4348-c396-fca6e6c94518"
      },
      "id": "S83fie1mveVQ",
      "execution_count": null,
      "outputs": [
        {
          "output_type": "stream",
          "name": "stdout",
          "text": [
            "                 Eat        Xc       Egc       Egb       Eea        Ei  \\\n",
            "GP-ST       0.904411  0.274277  0.134739  0.228944  0.237365  0.320160   \n",
            "NN-ST       0.891684  0.176510  0.069448  0.202479  0.183293  0.256624   \n",
            "NN-MT1      0.997052  0.182989  0.103714  0.200984  0.149046  0.281815   \n",
            "NN-MT2-all  0.408382  0.241466  0.075656  0.108579  0.145368  0.177707   \n",
            "NN-MT2-sup  0.382021  0.235908  0.071621  0.104246  0.139662  0.156921   \n",
            "\n",
            "                  nc       eps   Average  \n",
            "GP-ST       0.380928  0.253887  0.341839  \n",
            "NN-ST       0.621847  0.256811  0.332337  \n",
            "NN-MT1      0.362603  0.220845  0.312381  \n",
            "NN-MT2-all  0.169782  0.138587  0.183191  \n",
            "NN-MT2-sup  0.139563  0.130297  0.170030  \n"
          ]
        },
        {
          "output_type": "display_data",
          "data": {
            "text/plain": [
              "<Figure size 640x480 with 1 Axes>"
            ],
            "image/png": "[encoded data removed]"
          },
          "metadata": {}
        }
      ]
    }
  ],
  "metadata": {
    "kernelspec": {
      "display_name": "Python 3 (ipykernel)",
      "language": "python",
      "name": "python3"
    },
    "language_info": {
      "codemirror_mode": {
        "name": "ipython",
        "version": 3
      },
      "file_extension": ".py",
      "mimetype": "text/x-python",
      "name": "python",
      "nbconvert_exporter": "python",
      "pygments_lexer": "ipython3",
      "version": "3.10.2"
    },
    "colab": {
      "provenance": []
    },
    "gpuClass": "standard"
  },
  "nbformat": 4,
  "nbformat_minor": 5
}