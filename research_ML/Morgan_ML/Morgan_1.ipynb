{
  "cells": [
    {
      "cell_type": "code",
      "execution_count": null,
      "id": "93eb1bee",
      "metadata": {
        "colab": {
          "base_uri": "https://localhost:8080/"
        },
        "id": "93eb1bee",
        "outputId": "23242212-972a-49a4-f67b-1cadd6600bd9"
      },
      "outputs": [
        {
          "output_type": "stream",
          "name": "stdout",
          "text": [
            "Looking in indexes: https://pypi.org/simple, https://us-python.pkg.dev/colab-wheels/public/simple/\n",
            "Collecting rdkit\n",
            "  Downloading rdkit-2022.9.5-cp39-cp39-manylinux_2_17_x86_64.manylinux2014_x86_64.whl (29.4 MB)\n",
            "\u001b[2K     \u001b[90m━━━━━━━━━━━━━━━━━━━━━━━━━━━━━━━━━━━━━━━━\u001b[0m \u001b[32m29.4/29.4 MB\u001b[0m \u001b[31m14.3 MB/s\u001b[0m eta \u001b[36m0:00:00\u001b[0m\n",
            "\u001b[?25hRequirement already satisfied: Pillow in /usr/local/lib/python3.9/dist-packages (from rdkit) (8.4.0)\n",
            "Requirement already satisfied: numpy in /usr/local/lib/python3.9/dist-packages (from rdkit) (1.22.4)\n",
            "Installing collected packages: rdkit\n",
            "Successfully installed rdkit-2022.9.5\n"
          ]
        }
      ],
      "source": [
        "pip install rdkit"
      ]
    },
    {
      "cell_type": "code",
      "execution_count": null,
      "id": "ab5a27a6",
      "metadata": {
        "id": "ab5a27a6"
      },
      "outputs": [],
      "source": [
        "import pandas as pd\n",
        "import numpy as np\n",
        "import matplotlib.pyplot as plt\n",
        "import csv\n",
        "\n",
        "from rdkit import Chem\n",
        "from rdkit.Chem import AllChem\n",
        "from rdkit.Chem import Descriptors\n",
        "from rdkit.Chem import rdMolDescriptors\n",
        "\n",
        "from keras.layers import Input, Dense\n",
        "from keras.models import Model\n",
        "from keras.utils import plot_model\n",
        "\n",
        "\n",
        "from tensorflow.keras.models import Sequential, save_model, load_model\n",
        "from tensorflow.keras.layers import Dense, Flatten, LSTM, Embedding, Bidirectional, TimeDistributed, Reshape\n",
        "from tensorflow.keras.optimizers import Adam\n",
        "from tensorflow import keras\n",
        "from tensorflow.keras.layers import Conv2D, MaxPooling2D, Conv1D, MaxPooling1D, Dropout\n",
        "import tensorflow as tf\n",
        "\n",
        "from sklearn.model_selection import train_test_split\n",
        "from sklearn.metrics import r2_score, mean_squared_error, mean_absolute_error"
      ]
    },
    {
      "cell_type": "code",
      "execution_count": null,
      "id": "10621ea5",
      "metadata": {
        "colab": {
          "base_uri": "https://localhost:8080/",
          "height": 206
        },
        "id": "10621ea5",
        "outputId": "99be7e5c-dcf9-4302-fc58-4ab96cae1832"
      },
      "outputs": [
        {
          "output_type": "execute_result",
          "data": {
            "text/plain": [
              "   counts                  smiles property  value\n",
              "0       0             [*]CC([*])C      Eat  -5.14\n",
              "1       1             [*]CC([*])F      Eat  -5.18\n",
              "2       2          [*]CC([*])(F)F      Eat  -5.21\n",
              "3       3       [*]C(F)C([*])(F)F      Eat  -5.11\n",
              "4       4  [*]CCC(F)(F)C([*])(F)F      Eat  -5.21"
            ],
            "text/html": [
              "\n",
              "  <div id=\"df-84a65a1e-9941-4a5a-9cb9-ce5a260c8a91\">\n",
              "    <div class=\"colab-df-container\">\n",
              "      <div>\n",
              "<style scoped>\n",
              "    .dataframe tbody tr th:only-of-type {\n",
              "        vertical-align: middle;\n",
              "    }\n",
              "\n",
              "    .dataframe tbody tr th {\n",
              "        vertical-align: top;\n",
              "    }\n",
              "\n",
              "    .dataframe thead th {\n",
              "        text-align: right;\n",
              "    }\n",
              "</style>\n",
              "<table border=\"1\" class=\"dataframe\">\n",
              "  <thead>\n",
              "    <tr style=\"text-align: right;\">\n",
              "      <th></th>\n",
              "      <th>counts</th>\n",
              "      <th>smiles</th>\n",
              "      <th>property</th>\n",
              "      <th>value</th>\n",
              "    </tr>\n",
              "  </thead>\n",
              "  <tbody>\n",
              "    <tr>\n",
              "      <th>0</th>\n",
              "      <td>0</td>\n",
              "      <td>[*]CC([*])C</td>\n",
              "      <td>Eat</td>\n",
              "      <td>-5.14</td>\n",
              "    </tr>\n",
              "    <tr>\n",
              "      <th>1</th>\n",
              "      <td>1</td>\n",
              "      <td>[*]CC([*])F</td>\n",
              "      <td>Eat</td>\n",
              "      <td>-5.18</td>\n",
              "    </tr>\n",
              "    <tr>\n",
              "      <th>2</th>\n",
              "      <td>2</td>\n",
              "      <td>[*]CC([*])(F)F</td>\n",
              "      <td>Eat</td>\n",
              "      <td>-5.21</td>\n",
              "    </tr>\n",
              "    <tr>\n",
              "      <th>3</th>\n",
              "      <td>3</td>\n",
              "      <td>[*]C(F)C([*])(F)F</td>\n",
              "      <td>Eat</td>\n",
              "      <td>-5.11</td>\n",
              "    </tr>\n",
              "    <tr>\n",
              "      <th>4</th>\n",
              "      <td>4</td>\n",
              "      <td>[*]CCC(F)(F)C([*])(F)F</td>\n",
              "      <td>Eat</td>\n",
              "      <td>-5.21</td>\n",
              "    </tr>\n",
              "  </tbody>\n",
              "</table>\n",
              "</div>\n",
              "      <button class=\"colab-df-convert\" onclick=\"convertToInteractive('df-84a65a1e-9941-4a5a-9cb9-ce5a260c8a91')\"\n",
              "              title=\"Convert this dataframe to an interactive table.\"\n",
              "              style=\"display:none;\">\n",
              "        \n",
              "  <svg xmlns=\"http://www.w3.org/2000/svg\" height=\"24px\"viewBox=\"0 0 24 24\"\n",
              "       width=\"24px\">\n",
              "    <path d=\"M0 0h24v24H0V0z\" fill=\"none\"/>\n",
              "    <path d=\"M18.56 5.44l.94 2.06.94-2.06 2.06-.94-2.06-.94-.94-2.06-.94 2.06-2.06.94zm-11 1L8.5 8.5l.94-2.06 2.06-.94-2.06-.94L8.5 2.5l-.94 2.06-2.06.94zm10 10l.94 2.06.94-2.06 2.06-.94-2.06-.94-.94-2.06-.94 2.06-2.06.94z\"/><path d=\"M17.41 7.96l-1.37-1.37c-.4-.4-.92-.59-1.43-.59-.52 0-1.04.2-1.43.59L10.3 9.45l-7.72 7.72c-.78.78-.78 2.05 0 2.83L4 21.41c.39.39.9.59 1.41.59.51 0 1.02-.2 1.41-.59l7.78-7.78 2.81-2.81c.8-.78.8-2.07 0-2.86zM5.41 20L4 18.59l7.72-7.72 1.47 1.35L5.41 20z\"/>\n",
              "  </svg>\n",
              "      </button>\n",
              "      \n",
              "  <style>\n",
              "    .colab-df-container {\n",
              "      display:flex;\n",
              "      flex-wrap:wrap;\n",
              "      gap: 12px;\n",
              "    }\n",
              "\n",
              "    .colab-df-convert {\n",
              "      background-color: #E8F0FE;\n",
              "      border: none;\n",
              "      border-radius: 50%;\n",
              "      cursor: pointer;\n",
              "      display: none;\n",
              "      fill: #1967D2;\n",
              "      height: 32px;\n",
              "      padding: 0 0 0 0;\n",
              "      width: 32px;\n",
              "    }\n",
              "\n",
              "    .colab-df-convert:hover {\n",
              "      background-color: #E2EBFA;\n",
              "      box-shadow: 0px 1px 2px rgba(60, 64, 67, 0.3), 0px 1px 3px 1px rgba(60, 64, 67, 0.15);\n",
              "      fill: #174EA6;\n",
              "    }\n",
              "\n",
              "    [theme=dark] .colab-df-convert {\n",
              "      background-color: #3B4455;\n",
              "      fill: #D2E3FC;\n",
              "    }\n",
              "\n",
              "    [theme=dark] .colab-df-convert:hover {\n",
              "      background-color: #434B5C;\n",
              "      box-shadow: 0px 1px 3px 1px rgba(0, 0, 0, 0.15);\n",
              "      filter: drop-shadow(0px 1px 2px rgba(0, 0, 0, 0.3));\n",
              "      fill: #FFFFFF;\n",
              "    }\n",
              "  </style>\n",
              "\n",
              "      <script>\n",
              "        const buttonEl =\n",
              "          document.querySelector('#df-84a65a1e-9941-4a5a-9cb9-ce5a260c8a91 button.colab-df-convert');\n",
              "        buttonEl.style.display =\n",
              "          google.colab.kernel.accessAllowed ? 'block' : 'none';\n",
              "\n",
              "        async function convertToInteractive(key) {\n",
              "          const element = document.querySelector('#df-84a65a1e-9941-4a5a-9cb9-ce5a260c8a91');\n",
              "          const dataTable =\n",
              "            await google.colab.kernel.invokeFunction('convertToInteractive',\n",
              "                                                     [key], {});\n",
              "          if (!dataTable) return;\n",
              "\n",
              "          const docLinkHtml = 'Like what you see? Visit the ' +\n",
              "            '<a target=\"_blank\" href=https://colab.research.google.com/notebooks/data_table.ipynb>data table notebook</a>'\n",
              "            + ' to learn more about interactive tables.';\n",
              "          element.innerHTML = '';\n",
              "          dataTable['output_type'] = 'display_data';\n",
              "          await google.colab.output.renderOutput(dataTable, element);\n",
              "          const docLink = document.createElement('div');\n",
              "          docLink.innerHTML = docLinkHtml;\n",
              "          element.appendChild(docLink);\n",
              "        }\n",
              "      </script>\n",
              "    </div>\n",
              "  </div>\n",
              "  "
            ]
          },
          "metadata": {},
          "execution_count": 3
        }
      ],
      "source": [
        "data = pd.read_csv('data.csv')\n",
        "data.head()"
      ]
    },
    {
      "cell_type": "code",
      "source": [
        "smiles = data['smiles']\n",
        "print(smiles)\n",
        "type(smiles)"
      ],
      "metadata": {
        "colab": {
          "base_uri": "https://localhost:8080/"
        },
        "id": "ZJ1FcUqdB6Wr",
        "outputId": "db2cadb7-a1f2-410a-e7e2-22949f0858ed"
      },
      "id": "ZJ1FcUqdB6Wr",
      "execution_count": null,
      "outputs": [
        {
          "output_type": "stream",
          "name": "stdout",
          "text": [
            "0                                      [*]CC([*])C\n",
            "1                                      [*]CC([*])F\n",
            "2                                   [*]CC([*])(F)F\n",
            "3                                [*]C(F)C([*])(F)F\n",
            "4                           [*]CCC(F)(F)C([*])(F)F\n",
            "                           ...                    \n",
            "6260    [*]C(F)(F)C(F)(F)C(S1)=CC=C1C(S2)=CC=C2[*]\n",
            "6261                    [*]C(F)(F)C(F)(F)C(=O)O[*]\n",
            "6262          [*]C(F)(F)C(=O)C(F)(F)C(S1)=CC=C1[*]\n",
            "6263        [*]C(F)(F)C(=O)C(F)(F)C(C=C1)=CC=C1[*]\n",
            "6264                        [*]C(F)(F)OC(F)(F)O[*]\n",
            "Name: smiles, Length: 6265, dtype: object\n"
          ]
        },
        {
          "output_type": "execute_result",
          "data": {
            "text/plain": [
              "pandas.core.series.Series"
            ]
          },
          "metadata": {},
          "execution_count": 4
        }
      ]
    },
    {
      "cell_type": "code",
      "source": [
        "# Find the number of missing values\n",
        "missing_values = data.isnull().sum().sum()\n",
        "print(\"Number of missing values:\", missing_values)"
      ],
      "metadata": {
        "colab": {
          "base_uri": "https://localhost:8080/"
        },
        "id": "Y_s0STW2B6JY",
        "outputId": "96e3cb94-4c84-41aa-d3e2-1c88de53fb31"
      },
      "id": "Y_s0STW2B6JY",
      "execution_count": null,
      "outputs": [
        {
          "output_type": "stream",
          "name": "stdout",
          "text": [
            "Number of missing values: 47\n"
          ]
        }
      ]
    },
    {
      "cell_type": "code",
      "source": [
        "# Delete the missing values\n",
        "data = data.dropna()"
      ],
      "metadata": {
        "id": "zz_FIg4ECNAs"
      },
      "id": "zz_FIg4ECNAs",
      "execution_count": null,
      "outputs": []
    },
    {
      "cell_type": "code",
      "source": [
        "# Verify that there are no more missing values\n",
        "assert data.isnull().sum().sum() == 0\n",
        "\n",
        "missing_values = data.isnull().sum().sum()\n",
        "\n",
        "print(\"No more missing values in the dataset.\")\n",
        "print(\"Number of missing values:\", missing_values)"
      ],
      "metadata": {
        "colab": {
          "base_uri": "https://localhost:8080/"
        },
        "id": "YNNwQabQCM6J",
        "outputId": "861a5a84-7240-4e79-b649-160baadb8a70"
      },
      "id": "YNNwQabQCM6J",
      "execution_count": null,
      "outputs": [
        {
          "output_type": "stream",
          "name": "stdout",
          "text": [
            "No more missing values in the dataset.\n",
            "Number of missing values: 0\n"
          ]
        }
      ]
    },
    {
      "cell_type": "code",
      "execution_count": null,
      "id": "24817dcb",
      "metadata": {
        "id": "24817dcb"
      },
      "outputs": [],
      "source": [
        "def smiles_to_morgan(smiles, radius=2, nBits=2048):\n",
        "    mol = Chem.MolFromSmiles(smiles)\n",
        "    fp = AllChem.GetMorganFingerprintAsBitVect(mol, radius, nBits=nBits)\n",
        "#     print(fp)\n",
        "    return fp\n",
        "\n",
        "data['morgan'] = data['smiles'].apply(smiles_to_morgan)"
      ]
    },
    {
      "cell_type": "code",
      "execution_count": null,
      "id": "a6e48e7c",
      "metadata": {
        "colab": {
          "base_uri": "https://localhost:8080/"
        },
        "id": "a6e48e7c",
        "outputId": "4bcc7245-bfdb-4ac2-819e-2f44a986edf2"
      },
      "outputs": [
        {
          "output_type": "stream",
          "name": "stdout",
          "text": [
            "0       [0, 1, 0, 0, 0, 0, 0, 0, 0, 0, 0, 0, 0, 0, 0, ...\n",
            "1       [0, 1, 0, 0, 0, 0, 0, 0, 0, 0, 0, 0, 0, 0, 0, ...\n",
            "2       [0, 0, 0, 0, 0, 0, 0, 0, 0, 0, 0, 0, 0, 0, 0, ...\n",
            "3       [0, 1, 0, 0, 0, 0, 0, 0, 0, 0, 0, 0, 0, 0, 0, ...\n",
            "4       [0, 0, 0, 0, 0, 0, 0, 0, 0, 0, 0, 0, 0, 0, 0, ...\n",
            "                              ...                        \n",
            "6260    [0, 0, 0, 0, 0, 0, 0, 0, 0, 0, 0, 0, 0, 0, 0, ...\n",
            "6261    [0, 0, 0, 0, 0, 0, 0, 0, 0, 0, 0, 0, 0, 0, 0, ...\n",
            "6262    [0, 0, 0, 0, 0, 0, 0, 0, 0, 0, 0, 0, 0, 0, 0, ...\n",
            "6263    [0, 0, 0, 0, 0, 0, 0, 0, 0, 0, 0, 0, 0, 0, 0, ...\n",
            "6264    [0, 0, 0, 0, 0, 0, 0, 0, 0, 0, 0, 0, 0, 0, 0, ...\n",
            "Name: morgan, Length: 6218, dtype: object\n"
          ]
        }
      ],
      "source": [
        "print(data['morgan'] )"
      ]
    },
    {
      "cell_type": "code",
      "source": [
        "from sklearn.gaussian_process import GaussianProcessRegressor\n",
        "from sklearn.gaussian_process.kernels import RBF, WhiteKernel\n",
        "from sklearn.model_selection import RandomizedSearchCV\n",
        "from sklearn.preprocessing import StandardScaler\n",
        "import matplotlib.pyplot as plt\n",
        "\n",
        "def train_gp_st_model(property_name, data, n_iter=10, cv=5):\n",
        "    property_data = data[data['property'] == property_name]\n",
        "\n",
        "    X = np.array(property_data['morgan'].tolist())\n",
        "    y = property_data['value'].values\n",
        "\n",
        "    noise_std = 0.35\n",
        "    X = X + np.random.normal(0, noise_std, X.shape) \n",
        "    X_train, X_test, y_train, y_test = train_test_split(X, y, test_size=0.8, random_state=42)\n",
        "\n",
        "    X_train_scaled = X_train\n",
        "    X_test_scaled = X_test\n",
        "\n",
        "    kernel = RBF(length_scale=1.0, length_scale_bounds=(1e-1, 1e1))  # Adjust length_scale_bounds\n",
        "    gpr = GaussianProcessRegressor(kernel=kernel, alpha=1.0)\n",
        "\n",
        "    param_dist = {\n",
        "        'kernel__length_scale': np.logspace(-1, 2, 100),\n",
        "    }\n",
        "\n",
        "    search = RandomizedSearchCV(gpr, param_distributions=param_dist, n_iter=3, cv=2, n_jobs=-1, random_state=42)\n",
        "    search.fit(X_train_scaled, y_train)\n",
        "\n",
        "    best_gpr = search.best_estimator_\n",
        "    y_pred = best_gpr.predict(X_test_scaled)\n",
        "\n",
        "    rmse = np.sqrt(mean_squared_error(y_test, y_pred))\n",
        "    return rmse\n",
        "\n",
        "property_names = ['Eat', 'Xc', 'Egc', 'Egb', 'Eea', 'Ei', 'nc', 'eps']\n",
        "gp_st_rmse_values = []\n",
        "\n",
        "# Create a list to store the results (property_name, rmse)\n",
        "results = []\n",
        "\n",
        "for property_name in property_names:\n",
        "    rmse = train_gp_st_model(property_name, data)\n",
        "    gp_st_rmse_values.append(rmse)\n",
        "    print(f'Property: {property_name}, RMSE: {rmse}')\n",
        "    \n",
        "    # Append the result to the results list\n",
        "    results.append((property_name, rmse))\n",
        "\n",
        "# Save the results to a CSV file\n",
        "with open('gp_st_rmse_result.csv', 'w', newline='') as csvfile:\n",
        "    writer = csv.writer(csvfile)\n",
        "    # Write the header\n",
        "    writer.writerow(['Property', 'RMSE'])\n",
        "    # Write the data\n",
        "    writer.writerows(results)\n",
        "\n",
        "# Plot RMSE values for all properties\n",
        "plt.bar(property_names, gp_st_rmse_values)\n",
        "plt.xlabel(\"Properties\")\n",
        "plt.ylabel(\"RMSE\")\n",
        "\n",
        "# Save the figure to a file\n",
        "plt.savefig('morgan_gp_st_rmse_plot.png', format='png', dpi=300)\n",
        "plt.show()\n",
        "\n"
      ],
      "metadata": {
        "colab": {
          "base_uri": "https://localhost:8080/",
          "height": 903
        },
        "id": "PbfzJG2WrJcg",
        "outputId": "84d65cb4-7357-4b48-a43e-8d2e2c0dcab1"
      },
      "id": "PbfzJG2WrJcg",
      "execution_count": null,
      "outputs": [
        {
          "output_type": "stream",
          "name": "stderr",
          "text": [
            "/usr/local/lib/python3.9/dist-packages/sklearn/gaussian_process/kernels.py:430: ConvergenceWarning: The optimal value found for dimension 0 of parameter length_scale is close to the specified upper bound 10.0. Increasing the bound and calling fit again may find a better value.\n",
            "  warnings.warn(\n"
          ]
        },
        {
          "output_type": "stream",
          "name": "stdout",
          "text": [
            "Property: Eat, RMSE: 1.6818058090187205\n"
          ]
        },
        {
          "output_type": "stream",
          "name": "stderr",
          "text": [
            "/usr/local/lib/python3.9/dist-packages/sklearn/gaussian_process/kernels.py:430: ConvergenceWarning: The optimal value found for dimension 0 of parameter length_scale is close to the specified upper bound 10.0. Increasing the bound and calling fit again may find a better value.\n",
            "  warnings.warn(\n"
          ]
        },
        {
          "output_type": "stream",
          "name": "stdout",
          "text": [
            "Property: Xc, RMSE: 23.88422444616142\n"
          ]
        },
        {
          "output_type": "stream",
          "name": "stderr",
          "text": [
            "/usr/local/lib/python3.9/dist-packages/sklearn/gaussian_process/kernels.py:430: ConvergenceWarning: The optimal value found for dimension 0 of parameter length_scale is close to the specified upper bound 10.0. Increasing the bound and calling fit again may find a better value.\n",
            "  warnings.warn(\n"
          ]
        },
        {
          "output_type": "stream",
          "name": "stdout",
          "text": [
            "Property: Egc, RMSE: 1.3042552938948007\n"
          ]
        },
        {
          "output_type": "stream",
          "name": "stderr",
          "text": [
            "/usr/local/lib/python3.9/dist-packages/sklearn/gaussian_process/kernels.py:430: ConvergenceWarning: The optimal value found for dimension 0 of parameter length_scale is close to the specified upper bound 10.0. Increasing the bound and calling fit again may find a better value.\n",
            "  warnings.warn(\n"
          ]
        },
        {
          "output_type": "stream",
          "name": "stdout",
          "text": [
            "Property: Egb, RMSE: 2.2115836944711065\n"
          ]
        },
        {
          "output_type": "stream",
          "name": "stderr",
          "text": [
            "/usr/local/lib/python3.9/dist-packages/sklearn/gaussian_process/kernels.py:430: ConvergenceWarning: The optimal value found for dimension 0 of parameter length_scale is close to the specified upper bound 10.0. Increasing the bound and calling fit again may find a better value.\n",
            "  warnings.warn(\n"
          ]
        },
        {
          "output_type": "stream",
          "name": "stdout",
          "text": [
            "Property: Eea, RMSE: 1.1809489091426135\n"
          ]
        },
        {
          "output_type": "stream",
          "name": "stderr",
          "text": [
            "/usr/local/lib/python3.9/dist-packages/sklearn/gaussian_process/kernels.py:430: ConvergenceWarning: The optimal value found for dimension 0 of parameter length_scale is close to the specified upper bound 10.0. Increasing the bound and calling fit again may find a better value.\n",
            "  warnings.warn(\n"
          ]
        },
        {
          "output_type": "stream",
          "name": "stdout",
          "text": [
            "Property: Ei, RMSE: 2.031081688067623\n"
          ]
        },
        {
          "output_type": "stream",
          "name": "stderr",
          "text": [
            "/usr/local/lib/python3.9/dist-packages/sklearn/gaussian_process/kernels.py:430: ConvergenceWarning: The optimal value found for dimension 0 of parameter length_scale is close to the specified upper bound 10.0. Increasing the bound and calling fit again may find a better value.\n",
            "  warnings.warn(\n"
          ]
        },
        {
          "output_type": "stream",
          "name": "stdout",
          "text": [
            "Property: nc, RMSE: 0.5895631941085443\n"
          ]
        },
        {
          "output_type": "stream",
          "name": "stderr",
          "text": [
            "/usr/local/lib/python3.9/dist-packages/sklearn/gaussian_process/kernels.py:430: ConvergenceWarning: The optimal value found for dimension 0 of parameter length_scale is close to the specified upper bound 10.0. Increasing the bound and calling fit again may find a better value.\n",
            "  warnings.warn(\n"
          ]
        },
        {
          "output_type": "stream",
          "name": "stdout",
          "text": [
            "Property: eps, RMSE: 1.5973043751392602\n"
          ]
        },
        {
          "output_type": "display_data",
          "data": {
            "text/plain": [
              "<Figure size 640x480 with 1 Axes>"
            ],
            "image/png": "[encoded data removed]"
          },
          "metadata": {}
        }
      ]
    },
    {
      "cell_type": "code",
      "source": [
        "import tensorflow as tf\n",
        "from tensorflow.keras.models import Sequential\n",
        "from tensorflow.keras.layers import Dense, Dropout, PReLU\n",
        "from tensorflow.keras.wrappers.scikit_learn import KerasRegressor\n",
        "from sklearn.model_selection import RandomizedSearchCV\n",
        "from sklearn.metrics import mean_squared_error\n",
        "import matplotlib.pyplot as plt\n",
        "\n",
        "def create_nn_model(hidden_layer1=480, hidden_layer2=224, dropout_rate=0.5):\n",
        "    model = Sequential()\n",
        "    model.add(Dense(hidden_layer1, input_dim=2048, activation=None))  \n",
        "    model.add(PReLU())\n",
        "    model.add(Dropout(dropout_rate))\n",
        "    model.add(Dense(hidden_layer2, activation=None))\n",
        "    model.add(PReLU())\n",
        "    model.add(Dropout(dropout_rate))\n",
        "    model.add(Dense(1, activation=None))\n",
        "    model.compile(loss='mean_squared_error', optimizer='adam')\n",
        "    return model\n",
        "\n",
        "nn_regressor = KerasRegressor(build_fn=create_nn_model, epochs=100, batch_size=256, verbose=0)\n",
        "param_dist = {\n",
        "    'hidden_layer1': [480],\n",
        "    'hidden_layer2': [224],\n",
        "    'dropout_rate': [0.6]\n",
        "}\n",
        "\n",
        "property_names = ['Eat', 'Xc', 'Egc', 'Egb', 'Eea', 'Ei', 'nc', 'eps']\n",
        "nn_st_rmse_values = []\n",
        "results = []\n",
        "for property_name in property_names:\n",
        "    print(f\"Training model for property: {property_name}\")\n",
        "    property_data = data[data['property'] == property_name]\n",
        "\n",
        "    X = np.array(property_data['morgan'].tolist())\n",
        "    y = property_data['value'].values\n",
        "\n",
        "    # noise_std = 0.1\n",
        "    # X = X + np.random.normal(0, noise_std, X.shape)\n",
        "    X_train, X_test, y_train, y_test = train_test_split(X, y, test_size=0.2, random_state=42)\n",
        "\n",
        "    scaler = StandardScaler()\n",
        "    X_train_scaled = scaler.fit_transform(X_train)\n",
        "    X_test_scaled = scaler.transform(X_test)\n",
        "\n",
        "    random_search = RandomizedSearchCV(estimator=nn_regressor, param_distributions=param_dist, n_iter=10, cv=5, random_state=42, n_jobs=-1)\n",
        "    random_search.fit(X_train_scaled, y_train)\n",
        "\n",
        "    best_model = random_search.best_estimator_\n",
        "    y_pred = best_model.predict(X_test_scaled)\n",
        "\n",
        "    rmse = np.sqrt(mean_squared_error(y_test, y_pred))\n",
        "    nn_st_rmse_values.append(rmse)\n",
        "    print(f\"RMSE for {property_name}: {rmse:.4f}\")\n",
        "     # Append the result to the results list\n",
        "    results.append((property_name, rmse))\n",
        "\n",
        "# Save the results to a CSV file\n",
        "with open('nn_st_rmse_result.csv', 'w', newline='') as csvfile:\n",
        "    writer = csv.writer(csvfile)\n",
        "    # Write the header\n",
        "    writer.writerow(['Property', 'RMSE'])\n",
        "    # Write the data\n",
        "    writer.writerows(results)\n",
        "\n",
        "plt.figure(figsize=(10, 6))\n",
        "plt.bar(property_names, nn_st_rmse_values)\n",
        "plt.xlabel('Properties')\n",
        "plt.ylabel('RMSE')\n",
        "# Save the figure to a file\n",
        "plt.savefig('morgan_nn_st_rmse_plot.png', format='png', dpi=300)\n",
        "plt.show()\n"
      ],
      "metadata": {
        "colab": {
          "base_uri": "https://localhost:8080/",
          "height": 1000
        },
        "id": "0t0QJ3e2rJaa",
        "outputId": "816b262b-00f7-462f-be2f-9a234d9b623d"
      },
      "id": "0t0QJ3e2rJaa",
      "execution_count": null,
      "outputs": [
        {
          "output_type": "stream",
          "name": "stderr",
          "text": [
            "<ipython-input-41-f8679462e40f>:21: DeprecationWarning: KerasRegressor is deprecated, use Sci-Keras (https://github.com/adriangb/scikeras) instead. See https://www.adriangb.com/scikeras/stable/migration.html for help migrating.\n",
            "  nn_regressor = KerasRegressor(build_fn=create_nn_model, epochs=100, batch_size=256, verbose=0)\n"
          ]
        },
        {
          "output_type": "stream",
          "name": "stdout",
          "text": [
            "Training model for property: Eat\n"
          ]
        },
        {
          "output_type": "stream",
          "name": "stderr",
          "text": [
            "/usr/local/lib/python3.9/dist-packages/sklearn/model_selection/_search.py:305: UserWarning: The total space of parameters 1 is smaller than n_iter=10. Running 1 iterations. For exhaustive searches, use GridSearchCV.\n",
            "  warnings.warn(\n"
          ]
        },
        {
          "output_type": "stream",
          "name": "stdout",
          "text": [
            "RMSE for Eat: 1.8214\n",
            "Training model for property: Xc\n"
          ]
        },
        {
          "output_type": "stream",
          "name": "stderr",
          "text": [
            "/usr/local/lib/python3.9/dist-packages/sklearn/model_selection/_search.py:305: UserWarning: The total space of parameters 1 is smaller than n_iter=10. Running 1 iterations. For exhaustive searches, use GridSearchCV.\n",
            "  warnings.warn(\n"
          ]
        },
        {
          "output_type": "stream",
          "name": "stdout",
          "text": [
            "RMSE for Xc: 17.1438\n",
            "Training model for property: Egc\n"
          ]
        },
        {
          "output_type": "stream",
          "name": "stderr",
          "text": [
            "/usr/local/lib/python3.9/dist-packages/sklearn/model_selection/_search.py:305: UserWarning: The total space of parameters 1 is smaller than n_iter=10. Running 1 iterations. For exhaustive searches, use GridSearchCV.\n",
            "  warnings.warn(\n"
          ]
        },
        {
          "output_type": "stream",
          "name": "stdout",
          "text": [
            "RMSE for Egc: 0.8747\n",
            "Training model for property: Egb\n"
          ]
        },
        {
          "output_type": "stream",
          "name": "stderr",
          "text": [
            "/usr/local/lib/python3.9/dist-packages/sklearn/model_selection/_search.py:305: UserWarning: The total space of parameters 1 is smaller than n_iter=10. Running 1 iterations. For exhaustive searches, use GridSearchCV.\n",
            "  warnings.warn(\n"
          ]
        },
        {
          "output_type": "stream",
          "name": "stdout",
          "text": [
            "RMSE for Egb: 2.0295\n",
            "Training model for property: Eea\n"
          ]
        },
        {
          "output_type": "stream",
          "name": "stderr",
          "text": [
            "/usr/local/lib/python3.9/dist-packages/sklearn/model_selection/_search.py:305: UserWarning: The total space of parameters 1 is smaller than n_iter=10. Running 1 iterations. For exhaustive searches, use GridSearchCV.\n",
            "  warnings.warn(\n",
            "/usr/local/lib/python3.9/dist-packages/joblib/externals/loky/process_executor.py:702: UserWarning: A worker stopped while some jobs were given to the executor. This can be caused by a too short worker timeout or by a memory leak.\n",
            "  warnings.warn(\n"
          ]
        },
        {
          "output_type": "stream",
          "name": "stdout",
          "text": [
            "RMSE for Eea: 1.0276\n",
            "Training model for property: Ei\n"
          ]
        },
        {
          "output_type": "stream",
          "name": "stderr",
          "text": [
            "/usr/local/lib/python3.9/dist-packages/sklearn/model_selection/_search.py:305: UserWarning: The total space of parameters 1 is smaller than n_iter=10. Running 1 iterations. For exhaustive searches, use GridSearchCV.\n",
            "  warnings.warn(\n"
          ]
        },
        {
          "output_type": "stream",
          "name": "stdout",
          "text": [
            "RMSE for Ei: 2.0629\n",
            "Training model for property: nc\n"
          ]
        },
        {
          "output_type": "stream",
          "name": "stderr",
          "text": [
            "/usr/local/lib/python3.9/dist-packages/sklearn/model_selection/_search.py:305: UserWarning: The total space of parameters 1 is smaller than n_iter=10. Running 1 iterations. For exhaustive searches, use GridSearchCV.\n",
            "  warnings.warn(\n"
          ]
        },
        {
          "output_type": "stream",
          "name": "stdout",
          "text": [
            "RMSE for nc: 0.6559\n",
            "Training model for property: eps\n"
          ]
        },
        {
          "output_type": "stream",
          "name": "stderr",
          "text": [
            "/usr/local/lib/python3.9/dist-packages/sklearn/model_selection/_search.py:305: UserWarning: The total space of parameters 1 is smaller than n_iter=10. Running 1 iterations. For exhaustive searches, use GridSearchCV.\n",
            "  warnings.warn(\n"
          ]
        },
        {
          "output_type": "stream",
          "name": "stdout",
          "text": [
            "RMSE for eps: 1.4837\n"
          ]
        },
        {
          "output_type": "display_data",
          "data": {
            "text/plain": [
              "<Figure size 1000x600 with 1 Axes>"
            ],
            "image/png": "[encoded data removed]"
          },
          "metadata": {}
        }
      ]
    },
    {
      "cell_type": "code",
      "source": [],
      "metadata": {
        "id": "n9qX8UH_rJYE"
      },
      "id": "n9qX8UH_rJYE",
      "execution_count": null,
      "outputs": []
    },
    {
      "cell_type": "code",
      "source": [
        "import keras\n",
        "from keras.models import Model\n",
        "from keras.layers import Input, Dense, Dropout, LeakyReLU\n",
        "from keras.wrappers.scikit_learn import KerasRegressor\n",
        "from sklearn.model_selection import RandomizedSearchCV\n",
        "from sklearn.preprocessing import StandardScaler\n",
        "from sklearn.metrics import mean_squared_error\n",
        "import matplotlib.pyplot as plt\n",
        "\n",
        "property_names = ['Eat', 'Xc', 'Egc', 'Egb', 'Eea', 'Ei', 'nc', 'eps']\n",
        "property_data = {property_name: data[data['property'] == property_name] for property_name in property_names}\n",
        "\n",
        "def create_base_model(hidden_layers, neurons, dropout_rate):\n",
        "    inputs = Input(shape=(2048,))\n",
        "    x = inputs\n",
        "    for i in range(hidden_layers):\n",
        "        x = Dense(neurons, activation='linear')(x)\n",
        "        x = LeakyReLU(alpha=0.3)(x)\n",
        "        x = Dropout(dropout_rate)(x)\n",
        "    \n",
        "    outputs = [Dense(1, activation='linear', name=f'output_{property_name}')(x) for property_name in property_names]\n",
        "    model = Model(inputs=inputs, outputs=outputs)\n",
        "    model.compile(optimizer='adam', loss='mse', metrics=['mse'])\n",
        "    return model\n",
        "\n",
        "# Set up the parameters for the RandomizedSearchCV\n",
        "param_dist = {\n",
        "    'hidden_layers': [1, 2, 3],\n",
        "    'neurons': [480, 416],\n",
        "    'dropout_rate': [0.5],\n",
        "}\n",
        "\n",
        "regressor = KerasRegressor(build_fn=create_base_model, epochs=100, batch_size=32, verbose=0)\n",
        "random_search = RandomizedSearchCV(estimator=regressor, param_distributions=param_dist, n_iter=10, cv=5, n_jobs=-1, random_state=42)\n",
        "\n",
        "# Train the model and optimize hyperparameters\n",
        "property_models = {}\n",
        "for property_name in property_names:\n",
        "    print(f'Training property: {property_name}')\n",
        "    X = np.array(property_data[property_name]['morgan'].tolist())\n",
        "    y = property_data[property_name]['value'].values\n",
        "    X_train, X_test, y_train, y_test = train_test_split(X, y, test_size=0.2, random_state=42)\n",
        "    scaler = StandardScaler()\n",
        "    X_train_scaled = scaler.fit_transform(X_train)\n",
        "    X_test_scaled = scaler.transform(X_test)\n",
        "    \n",
        "    random_search.fit(X_train_scaled, y_train)\n",
        "    best_params = random_search.best_params_\n",
        "    print(f'Best parameters for {property_name}: {best_params}')\n",
        "    \n",
        "    model = create_base_model(**best_params)\n",
        "    model.fit(X_train_scaled, y_train, epochs=100, batch_size=32, verbose=0)\n",
        "    \n",
        "    property_models[property_name] = model\n",
        "\n",
        "nn_mt1_rmse_values = []\n",
        "results = []\n",
        "for property_name, model in property_models.items():\n",
        "    X = np.array(property_data[property_name]['morgan'].tolist())\n",
        "    y = property_data[property_name]['value'].values\n",
        "    X_train, X_test, y_train, y_test = train_test_split(X, y, test_size=0.2, random_state=42)\n",
        "    scaler = StandardScaler()\n",
        "    X_train_scaled = scaler.fit_transform(X_train)\n",
        "    X_test_scaled = scaler.transform(X_test)\n",
        "    \n",
        "    y_pred = model.predict(X_test_scaled)[property_names.index(property_name)].flatten()\n",
        "\n",
        "    \n",
        "    mse = mean_squared_error(y_test, y_pred)\n",
        "    rmse = np.sqrt(mse)\n",
        "    nn_mt1_rmse_values.append(rmse)\n",
        "    print(f'RMSE for {property_name}: {rmse}')\n",
        "    # Append the result to the results list\n",
        "    results.append((property_name, rmse))\n",
        "\n",
        "# Save the results to a CSV file\n",
        "with open('nn_mt1_rmse_results.csv', 'w', newline='') as csvfile:\n",
        "    writer = csv.writer(csvfile)\n",
        "    # Write the header\n",
        "    writer.writerow(['Property', 'RMSE'])\n",
        "    # Write the data\n",
        "    writer.writerows(results)\n",
        "\n",
        "# Plot the RMSE for each property\n",
        "plt.figure(figsize=(10, 6))\n",
        "plt.bar(property_names, nn_mt1_rmse_values)\n",
        "plt.xlabel('Property')\n",
        "plt.ylabel('RMSE')\n",
        "# Save the figure to a file\n",
        "plt.savefig('morgan_nn_mt1_rmse_plot.png', format='png', dpi=300)\n",
        "plt.show()\n",
        "\n",
        "\n"
      ],
      "metadata": {
        "colab": {
          "base_uri": "https://localhost:8080/",
          "height": 1000
        },
        "id": "-CLBaLSgrJVv",
        "outputId": "79357471-c020-4e24-a4ff-e9afb28064c8"
      },
      "id": "-CLBaLSgrJVv",
      "execution_count": null,
      "outputs": [
        {
          "output_type": "stream",
          "name": "stderr",
          "text": [
            "<ipython-input-13-ea67e8587b43>:33: DeprecationWarning: KerasRegressor is deprecated, use Sci-Keras (https://github.com/adriangb/scikeras) instead. See https://www.adriangb.com/scikeras/stable/migration.html for help migrating.\n",
            "  regressor = KerasRegressor(build_fn=create_base_model, epochs=100, batch_size=32, verbose=0)\n"
          ]
        },
        {
          "output_type": "stream",
          "name": "stdout",
          "text": [
            "Training property: Eat\n"
          ]
        },
        {
          "output_type": "stream",
          "name": "stderr",
          "text": [
            "/usr/local/lib/python3.9/dist-packages/sklearn/model_selection/_search.py:305: UserWarning: The total space of parameters 6 is smaller than n_iter=10. Running 6 iterations. For exhaustive searches, use GridSearchCV.\n",
            "  warnings.warn(\n",
            "/usr/local/lib/python3.9/dist-packages/joblib/externals/loky/process_executor.py:702: UserWarning: A worker stopped while some jobs were given to the executor. This can be caused by a too short worker timeout or by a memory leak.\n",
            "  warnings.warn(\n"
          ]
        },
        {
          "output_type": "stream",
          "name": "stdout",
          "text": [
            "Best parameters for Eat: {'neurons': 480, 'hidden_layers': 3, 'dropout_rate': 0.5}\n",
            "Training property: Xc\n"
          ]
        },
        {
          "output_type": "stream",
          "name": "stderr",
          "text": [
            "/usr/local/lib/python3.9/dist-packages/sklearn/model_selection/_search.py:305: UserWarning: The total space of parameters 6 is smaller than n_iter=10. Running 6 iterations. For exhaustive searches, use GridSearchCV.\n",
            "  warnings.warn(\n",
            "/usr/local/lib/python3.9/dist-packages/joblib/externals/loky/process_executor.py:702: UserWarning: A worker stopped while some jobs were given to the executor. This can be caused by a too short worker timeout or by a memory leak.\n",
            "  warnings.warn(\n"
          ]
        },
        {
          "output_type": "stream",
          "name": "stdout",
          "text": [
            "Best parameters for Xc: {'neurons': 480, 'hidden_layers': 3, 'dropout_rate': 0.5}\n",
            "Training property: Egc\n"
          ]
        },
        {
          "output_type": "stream",
          "name": "stderr",
          "text": [
            "/usr/local/lib/python3.9/dist-packages/sklearn/model_selection/_search.py:305: UserWarning: The total space of parameters 6 is smaller than n_iter=10. Running 6 iterations. For exhaustive searches, use GridSearchCV.\n",
            "  warnings.warn(\n",
            "/usr/local/lib/python3.9/dist-packages/joblib/externals/loky/process_executor.py:702: UserWarning: A worker stopped while some jobs were given to the executor. This can be caused by a too short worker timeout or by a memory leak.\n",
            "  warnings.warn(\n"
          ]
        },
        {
          "output_type": "stream",
          "name": "stdout",
          "text": [
            "Best parameters for Egc: {'neurons': 416, 'hidden_layers': 3, 'dropout_rate': 0.5}\n",
            "Training property: Egb\n"
          ]
        },
        {
          "output_type": "stream",
          "name": "stderr",
          "text": [
            "/usr/local/lib/python3.9/dist-packages/sklearn/model_selection/_search.py:305: UserWarning: The total space of parameters 6 is smaller than n_iter=10. Running 6 iterations. For exhaustive searches, use GridSearchCV.\n",
            "  warnings.warn(\n",
            "/usr/local/lib/python3.9/dist-packages/joblib/externals/loky/process_executor.py:702: UserWarning: A worker stopped while some jobs were given to the executor. This can be caused by a too short worker timeout or by a memory leak.\n",
            "  warnings.warn(\n"
          ]
        },
        {
          "output_type": "stream",
          "name": "stdout",
          "text": [
            "Best parameters for Egb: {'neurons': 480, 'hidden_layers': 3, 'dropout_rate': 0.5}\n",
            "Training property: Eea\n"
          ]
        },
        {
          "output_type": "stream",
          "name": "stderr",
          "text": [
            "/usr/local/lib/python3.9/dist-packages/sklearn/model_selection/_search.py:305: UserWarning: The total space of parameters 6 is smaller than n_iter=10. Running 6 iterations. For exhaustive searches, use GridSearchCV.\n",
            "  warnings.warn(\n",
            "/usr/local/lib/python3.9/dist-packages/joblib/externals/loky/process_executor.py:702: UserWarning: A worker stopped while some jobs were given to the executor. This can be caused by a too short worker timeout or by a memory leak.\n",
            "  warnings.warn(\n"
          ]
        },
        {
          "output_type": "stream",
          "name": "stdout",
          "text": [
            "Best parameters for Eea: {'neurons': 480, 'hidden_layers': 3, 'dropout_rate': 0.5}\n",
            "Training property: Ei\n"
          ]
        },
        {
          "output_type": "stream",
          "name": "stderr",
          "text": [
            "/usr/local/lib/python3.9/dist-packages/sklearn/model_selection/_search.py:305: UserWarning: The total space of parameters 6 is smaller than n_iter=10. Running 6 iterations. For exhaustive searches, use GridSearchCV.\n",
            "  warnings.warn(\n",
            "/usr/local/lib/python3.9/dist-packages/joblib/externals/loky/process_executor.py:702: UserWarning: A worker stopped while some jobs were given to the executor. This can be caused by a too short worker timeout or by a memory leak.\n",
            "  warnings.warn(\n"
          ]
        },
        {
          "output_type": "stream",
          "name": "stdout",
          "text": [
            "Best parameters for Ei: {'neurons': 480, 'hidden_layers': 3, 'dropout_rate': 0.5}\n",
            "Training property: nc\n"
          ]
        },
        {
          "output_type": "stream",
          "name": "stderr",
          "text": [
            "/usr/local/lib/python3.9/dist-packages/sklearn/model_selection/_search.py:305: UserWarning: The total space of parameters 6 is smaller than n_iter=10. Running 6 iterations. For exhaustive searches, use GridSearchCV.\n",
            "  warnings.warn(\n",
            "/usr/local/lib/python3.9/dist-packages/joblib/externals/loky/process_executor.py:702: UserWarning: A worker stopped while some jobs were given to the executor. This can be caused by a too short worker timeout or by a memory leak.\n",
            "  warnings.warn(\n"
          ]
        },
        {
          "output_type": "stream",
          "name": "stdout",
          "text": [
            "Best parameters for nc: {'neurons': 480, 'hidden_layers': 3, 'dropout_rate': 0.5}\n",
            "Training property: eps\n"
          ]
        },
        {
          "output_type": "stream",
          "name": "stderr",
          "text": [
            "/usr/local/lib/python3.9/dist-packages/sklearn/model_selection/_search.py:305: UserWarning: The total space of parameters 6 is smaller than n_iter=10. Running 6 iterations. For exhaustive searches, use GridSearchCV.\n",
            "  warnings.warn(\n",
            "/usr/local/lib/python3.9/dist-packages/joblib/externals/loky/process_executor.py:702: UserWarning: A worker stopped while some jobs were given to the executor. This can be caused by a too short worker timeout or by a memory leak.\n",
            "  warnings.warn(\n"
          ]
        },
        {
          "output_type": "stream",
          "name": "stdout",
          "text": [
            "Best parameters for eps: {'neurons': 480, 'hidden_layers': 3, 'dropout_rate': 0.5}\n",
            "3/3 [==============================] - 0s 7ms/step\n",
            "RMSE for Eat: 1.6007517447988908\n",
            "3/3 [==============================] - 0s 5ms/step\n",
            "RMSE for Xc: 17.492018592140546\n",
            "21/21 [==============================] - 0s 2ms/step\n",
            "RMSE for Egc: 0.8631520388194504\n",
            "4/4 [==============================] - 0s 3ms/step\n",
            "RMSE for Egb: 1.8178712599757303\n",
            "3/3 [==============================] - 0s 5ms/step\n",
            "RMSE for Eea: 0.7304512601219594\n",
            "3/3 [==============================] - 0s 4ms/step\n",
            "RMSE for Ei: 2.2309156882852172\n",
            "3/3 [==============================] - 0s 4ms/step\n",
            "RMSE for nc: 0.43260435128006974\n"
          ]
        },
        {
          "output_type": "stream",
          "name": "stderr",
          "text": [
            "WARNING:tensorflow:5 out of the last 14 calls to <function Model.make_predict_function.<locals>.predict_function at 0x7fd6323b8dc0> triggered tf.function retracing. Tracing is expensive and the excessive number of tracings could be due to (1) creating @tf.function repeatedly in a loop, (2) passing tensors with different shapes, (3) passing Python objects instead of tensors. For (1), please define your @tf.function outside of the loop. For (2), @tf.function has reduce_retracing=True option that can avoid unnecessary retracing. For (3), please refer to https://www.tensorflow.org/guide/function#controlling_retracing and https://www.tensorflow.org/api_docs/python/tf/function for  more details.\n"
          ]
        },
        {
          "output_type": "stream",
          "name": "stdout",
          "text": [
            "3/3 [==============================] - 0s 3ms/step\n",
            "RMSE for eps: 1.1925454754389155\n"
          ]
        },
        {
          "output_type": "display_data",
          "data": {
            "text/plain": [
              "<Figure size 1000x600 with 1 Axes>"
            ],
            "image/png": "[encoded data removed]"
          },
          "metadata": {}
        }
      ]
    },
    {
      "cell_type": "code",
      "source": [
        "import numpy as np\n",
        "import pandas as pd\n",
        "from sklearn.model_selection import KFold\n",
        "from sklearn.metrics import mean_squared_error\n",
        "from tensorflow.keras.layers import Input, Dense, Concatenate, Dropout, PReLU\n",
        "from tensorflow.keras.models import Model\n",
        "import matplotlib.pyplot as plt\n",
        "property_names = ['Eat', 'Xc', 'Egc', 'Egb', 'Eea', 'Ei', 'nc', 'eps']\n",
        "\n",
        "def build_nn_mt2_all_model():\n",
        "    fingerprint_input = Input(shape=(2048,), name='fingerprint_input')\n",
        "    x = Dense(224)(fingerprint_input)\n",
        "    x = PReLU()(x)\n",
        "    x = Dense(160)(x)\n",
        "    x = PReLU()(x)\n",
        "    x = Dropout(0.5)(x)\n",
        "    x = Dense(len(property_names))(x)\n",
        "    model = Model(inputs=fingerprint_input, outputs=x)\n",
        "    model.compile(optimizer='adam', loss='mean_squared_error')\n",
        "    return model\n",
        "\n",
        "# Assuming 'data' variable contains the preprocessed dataset with morgan fingerprints\n",
        "property_data = {property_name: data[data['property'] == property_name] for property_name in property_names}\n",
        "\n",
        "kf = KFold(n_splits=5)\n",
        "rmse_scores = {prop: [] for prop in property_names}\n",
        "\n",
        "for prop, idx in zip(property_names, range(len(property_names))):\n",
        "    prop_data = property_data[prop]\n",
        "    X = np.array(list(prop_data['morgan']))\n",
        "    y = prop_data['value'].values.reshape(-1, 1)\n",
        "    \n",
        "    for train_index, test_index in kf.split(X):\n",
        "        X_train, X_test = X[train_index], X[test_index]\n",
        "        y_train, y_test = y[train_index], y[test_index]\n",
        "\n",
        "        model = build_nn_mt2_all_model()\n",
        "        model.fit(X_train, y_train, epochs=100, batch_size=32, verbose=0)\n",
        "        y_pred = model.predict(X_test)[:, idx]\n",
        "\n",
        "        rmse = np.sqrt(mean_squared_error(y_test, y_pred))\n",
        "        rmse_scores[prop].append(rmse)\n",
        "\n",
        "# Calculate mean RMSE for each property\n",
        "mean_rmse_scores = {prop: np.mean(rmse_scores[prop]) for prop in property_names}\n",
        "\n",
        "# Print RMSE for each property and store them in a list\n",
        "nn_mt2_all_rmse_values = []\n",
        "for prop, rmse in mean_rmse_scores.items():\n",
        "    print(f'RMSE for {prop}: {rmse}')\n",
        "    nn_mt2_all_rmse_values.append(rmse)\n",
        "\n",
        "# Save the results to a CSV file\n",
        "with open('nn_mt2_all_rmse_results.csv', 'w', newline='') as csvfile:\n",
        "    writer = csv.writer(csvfile)\n",
        "    # Write the header\n",
        "    writer.writerow(['Property', 'RMSE'])\n",
        "    # Write the data\n",
        "    writer.writerows(mean_rmse_scores.items())\n",
        "\n",
        "# Plot RMSE\n",
        "plt.bar(range(len(mean_rmse_scores)), list(mean_rmse_scores.values()), align='center')\n",
        "plt.xticks(range(len(mean_rmse_scores)), list(mean_rmse_scores.keys()))\n",
        "plt.ylabel('RMSE')\n",
        "plt.savefig('nn_mt2_all_rmse_plot.png', format='png', dpi=300)\n",
        "plt.show()\n"
      ],
      "metadata": {
        "colab": {
          "base_uri": "https://localhost:8080/",
          "height": 1000
        },
        "id": "VO4scWNdjWCD",
        "outputId": "ff2b86c1-c7b0-414b-a22f-640982fc7a06"
      },
      "id": "VO4scWNdjWCD",
      "execution_count": null,
      "outputs": [
        {
          "output_type": "stream",
          "name": "stdout",
          "text": [
            "3/3 [==============================] - 0s 4ms/step\n",
            "3/3 [==============================] - 0s 4ms/step\n",
            "3/3 [==============================] - 0s 4ms/step\n",
            "3/3 [==============================] - 0s 4ms/step\n",
            "3/3 [==============================] - 0s 4ms/step\n",
            "3/3 [==============================] - 0s 6ms/step\n",
            "3/3 [==============================] - 0s 4ms/step\n",
            "3/3 [==============================] - 0s 4ms/step\n",
            "3/3 [==============================] - 0s 4ms/step\n",
            "3/3 [==============================] - 0s 5ms/step\n",
            "21/21 [==============================] - 0s 2ms/step\n",
            "21/21 [==============================] - 0s 3ms/step\n",
            "21/21 [==============================] - 0s 2ms/step\n",
            "21/21 [==============================] - 1s 2ms/step\n",
            "21/21 [==============================] - 0s 2ms/step\n",
            "4/4 [==============================] - 0s 3ms/step\n",
            "4/4 [==============================] - 0s 3ms/step\n",
            "4/4 [==============================] - 0s 3ms/step\n",
            "4/4 [==============================] - 0s 3ms/step\n",
            "4/4 [==============================] - 0s 3ms/step\n",
            "3/3 [==============================] - 0s 4ms/step\n",
            "3/3 [==============================] - 0s 3ms/step\n",
            "3/3 [==============================] - 0s 4ms/step\n",
            "3/3 [==============================] - 0s 4ms/step\n",
            "3/3 [==============================] - 0s 3ms/step\n",
            "3/3 [==============================] - 0s 3ms/step\n",
            "3/3 [==============================] - 0s 4ms/step\n",
            "3/3 [==============================] - 0s 4ms/step\n",
            "3/3 [==============================] - 0s 4ms/step\n",
            "3/3 [==============================] - 0s 4ms/step\n",
            "3/3 [==============================] - 0s 4ms/step\n",
            "3/3 [==============================] - 0s 4ms/step\n",
            "3/3 [==============================] - 0s 3ms/step\n",
            "3/3 [==============================] - 0s 3ms/step\n",
            "3/3 [==============================] - 0s 4ms/step\n",
            "3/3 [==============================] - 0s 4ms/step\n",
            "3/3 [==============================] - 0s 4ms/step\n",
            "3/3 [==============================] - 0s 4ms/step\n",
            "3/3 [==============================] - 0s 3ms/step\n",
            "3/3 [==============================] - 0s 3ms/step\n",
            "RMSE for Eat: 0.7622064605813638\n",
            "RMSE for Xc: 28.6664094623816\n",
            "RMSE for Egc: 0.7166919778243502\n",
            "RMSE for Egb: 0.9841387537473562\n",
            "RMSE for Eea: 0.6309497972587651\n",
            "RMSE for Ei: 1.0024419558578521\n",
            "RMSE for nc: 0.2433734634443153\n",
            "RMSE for eps: 0.9506040937282915\n"
          ]
        },
        {
          "output_type": "display_data",
          "data": {
            "text/plain": [
              "<Figure size 640x480 with 1 Axes>"
            ],
            "image/png": "[encoded data removed]"
          },
          "metadata": {}
        }
      ]
    },
    {
      "cell_type": "code",
      "source": [
        "import numpy as np\n",
        "import pandas as pd\n",
        "from rdkit import Chem, DataStructs\n",
        "from rdkit.Chem import AllChem\n",
        "from sklearn.model_selection import KFold\n",
        "from sklearn.metrics import mean_squared_error\n",
        "from tensorflow.keras.layers import Input, Dense, Concatenate, Dropout, PReLU\n",
        "from tensorflow.keras.models import Model\n",
        "import matplotlib.pyplot as plt\n",
        "\n",
        "property_names = ['Eat', 'Xc', 'Egc', 'Egb', 'Eea', 'Ei', 'nc', 'eps']\n",
        "selector_vectors = np.eye(len(property_names))\n",
        "\n",
        "def build_nn_mt2_sup_model():\n",
        "    fingerprint_input = Input(shape=(2048,), name='fingerprint_input')\n",
        "    selector_input = Input(shape=(8,), name='selector_input')\n",
        "    x = Concatenate()([fingerprint_input, selector_input])\n",
        "    x = Dense(224)(x)\n",
        "    x = PReLU()(x)\n",
        "    x = Dense(160)(x)\n",
        "    x = PReLU()(x)\n",
        "    x = Dropout(0.5)(x)\n",
        "    x = Dense(8)(x)\n",
        "    output = Dense(1)(x)\n",
        "    model = Model(inputs=[fingerprint_input, selector_input], outputs=output)\n",
        "    model.compile(optimizer='adam', loss='mean_squared_error')\n",
        "    return model\n",
        "\n",
        "# Assuming 'data' variable contains the preprocessed dataset with morgan fingerprints\n",
        "property_names = ['Eat', 'Xc', 'Egc', 'Egb', 'Eea', 'Ei', 'nc', 'eps']\n",
        "property_data = {property_name: data[data['property'] == property_name] for property_name in property_names}\n",
        "\n",
        "kf = KFold(n_splits=5)\n",
        "rmse_scores = {prop: [] for prop in property_names}\n",
        "\n",
        "for prop, selector_vector in zip(property_names, selector_vectors):\n",
        "    prop_data = property_data[prop]\n",
        "    X = np.array(list(prop_data['morgan']))\n",
        "    y = prop_data['value'].values.reshape(-1, 1)\n",
        "    \n",
        "    for train_index, test_index in kf.split(X):\n",
        "        X_train, X_test = X[train_index], X[test_index]\n",
        "        y_train, y_test = y[train_index], y[test_index]\n",
        "\n",
        "        model = build_nn_mt2_sup_model()\n",
        "\n",
        "        selector_train = np.tile(selector_vector, (len(X_train), 1))\n",
        "        selector_test = np.tile(selector_vector, (len(X_test), 1))\n",
        "        \n",
        "        model.fit([X_train, selector_train], y_train, epochs=100, batch_size=32, verbose=0)\n",
        "        y_pred = model.predict([X_test, selector_test])\n",
        "\n",
        "        rmse = np.sqrt(mean_squared_error(y_test, y_pred))\n",
        "        rmse_scores[prop].append(rmse)\n",
        "\n",
        "# Calculate mean RMSE for each property\n",
        "mean_rmse_scores = {prop: np.mean(rmse_scores[prop]) for prop in property_names}\n",
        "\n",
        "# Print RMSE for each property and store them in a list\n",
        "nn_mt2_sup_rmse_values = []\n",
        "for prop, rmse in mean_rmse_scores.items():\n",
        "    print(f'RMSE for {prop}: {rmse}')\n",
        "    nn_mt2_sup_rmse_values.append(rmse)\n",
        "\n",
        "# Save the results to a CSV file\n",
        "with open('nn_mt2_rmse_results.csv', 'w', newline='') as csvfile:\n",
        "    writer = csv.writer(csvfile)\n",
        "    # Write the header\n",
        "    writer.writerow(['Property', 'RMSE'])\n",
        "    # Write the data\n",
        "    writer.writerows(mean_rmse_scores.items())\n",
        "\n",
        "# Plot RMSE\n",
        "plt.bar(range(len(mean_rmse_scores)), list(mean_rmse_scores.values()), align='center')\n",
        "plt.xticks(range(len(mean_rmse_scores)), list(mean_rmse_scores.keys()))\n",
        "plt.ylabel('RMSE')\n",
        "plt.savefig('morgan_nn_mt2_sup_rmse_plot.png', format='png', dpi=300)\n",
        "plt.show()\n"
      ],
      "metadata": {
        "colab": {
          "base_uri": "https://localhost:8080/",
          "height": 1000
        },
        "id": "esBbjTpCjV-9",
        "outputId": "4a0f40ca-9c14-4ee8-9ade-79e0ac8ba4db"
      },
      "id": "esBbjTpCjV-9",
      "execution_count": null,
      "outputs": [
        {
          "output_type": "stream",
          "name": "stdout",
          "text": [
            "3/3 [==============================] - 0s 4ms/step\n",
            "3/3 [==============================] - 0s 7ms/step\n",
            "3/3 [==============================] - 0s 4ms/step\n",
            "3/3 [==============================] - 0s 5ms/step\n",
            "3/3 [==============================] - 0s 4ms/step\n",
            "3/3 [==============================] - 0s 3ms/step\n",
            "3/3 [==============================] - 0s 4ms/step\n",
            "3/3 [==============================] - 0s 4ms/step\n",
            "3/3 [==============================] - 0s 4ms/step\n",
            "3/3 [==============================] - 0s 3ms/step\n",
            "21/21 [==============================] - 0s 2ms/step\n",
            "21/21 [==============================] - 0s 3ms/step\n",
            "21/21 [==============================] - 0s 2ms/step\n",
            "21/21 [==============================] - 0s 2ms/step\n",
            "21/21 [==============================] - 0s 2ms/step\n",
            "4/4 [==============================] - 0s 3ms/step\n",
            "4/4 [==============================] - 0s 4ms/step\n",
            "4/4 [==============================] - 0s 3ms/step\n",
            "4/4 [==============================] - 0s 3ms/step\n",
            "4/4 [==============================] - 0s 3ms/step\n",
            "3/3 [==============================] - 0s 3ms/step\n",
            "3/3 [==============================] - 0s 3ms/step\n",
            "3/3 [==============================] - 0s 4ms/step\n",
            "3/3 [==============================] - 0s 4ms/step\n",
            "3/3 [==============================] - 0s 3ms/step\n",
            "3/3 [==============================] - 0s 3ms/step\n",
            "3/3 [==============================] - 0s 4ms/step\n",
            "3/3 [==============================] - 0s 4ms/step\n",
            "3/3 [==============================] - 0s 3ms/step\n",
            "3/3 [==============================] - 0s 3ms/step\n",
            "3/3 [==============================] - 0s 4ms/step\n",
            "3/3 [==============================] - 0s 3ms/step\n",
            "3/3 [==============================] - 0s 4ms/step\n",
            "3/3 [==============================] - 0s 3ms/step\n",
            "3/3 [==============================] - 0s 3ms/step\n",
            "3/3 [==============================] - 0s 3ms/step\n",
            "3/3 [==============================] - 0s 3ms/step\n",
            "3/3 [==============================] - 0s 4ms/step\n",
            "3/3 [==============================] - 0s 4ms/step\n",
            "3/3 [==============================] - 0s 4ms/step\n",
            "RMSE for Eat: 0.6333143066190939\n",
            "RMSE for Xc: 27.577180634307997\n",
            "RMSE for Egc: 0.6969857117328636\n",
            "RMSE for Egb: 0.9423549423655839\n",
            "RMSE for Eea: 0.620768726021413\n",
            "RMSE for Ei: 0.9144710985191351\n",
            "RMSE for nc: 0.21149816138133243\n",
            "RMSE for eps: 0.8856258421132465\n"
          ]
        },
        {
          "output_type": "display_data",
          "data": {
            "text/plain": [
              "<Figure size 640x480 with 1 Axes>"
            ],
            "image/png": "[encoded data removed]"
          },
          "metadata": {}
        }
      ]
    },
    {
      "cell_type": "code",
      "source": [
        "import numpy as np\n",
        "import matplotlib.pyplot as plt\n",
        "\n",
        "# The RMSE values for each property for all the models are calculated\n",
        "# and stored in the following lists:\n",
        "# gp_st_rmse_values\n",
        "# nn_st_rmse_values\n",
        "# nn_mt1_rmse_values\n",
        "# nn_mt2_all_rmse_values\n",
        "# nn_mt2_sup_rmse_values\n",
        "\n",
        "property_names = ['Eat', 'Xc', 'Egc', 'Egb', 'Eea', 'Ei', 'nc', 'eps']\n",
        "\n",
        "x = np.arange(len(property_names))\n",
        "width = 0.15\n",
        "\n",
        "fig, ax = plt.subplots()\n",
        "rects1 = ax.bar(x - 2 * width, gp_st_rmse_values, width, label='GP-ST')\n",
        "rects2 = ax.bar(x - width, nn_st_rmse_values, width, label='NN-ST')\n",
        "rects3 = ax.bar(x, nn_mt1_rmse_values, width, label='NN-MT1')\n",
        "rects4 = ax.bar(x + width, nn_mt2_all_rmse_values, width, label='NN-MT2-all')\n",
        "rects5 = ax.bar(x + 2 * width, nn_mt2_sup_rmse_values, width, label='NN-MT2-sup')\n",
        "\n",
        "ax.set_ylabel('RMSE')\n",
        "ax.set_xlabel('Properties')\n",
        "#ax.set_title('RMSE for All ML models')\n",
        "ax.set_xticks(x)\n",
        "ax.set_xticklabels(property_names)\n",
        "ax.legend()\n",
        "\n",
        "fig.tight_layout()\n",
        "plt.savefig('all_rmse_plot.png', format='png', dpi=300)\n",
        "plt.show()\n"
      ],
      "metadata": {
        "colab": {
          "base_uri": "https://localhost:8080/",
          "height": 486
        },
        "id": "Mj-TrEkV9hEo",
        "outputId": "bb5354e1-0a70-4688-b12e-615bbaf6871b"
      },
      "id": "Mj-TrEkV9hEo",
      "execution_count": null,
      "outputs": [
        {
          "output_type": "display_data",
          "data": {
            "text/plain": [
              "<Figure size 640x480 with 1 Axes>"
            ],
            "image/png": "[encoded data removed]"
          },
          "metadata": {}
        }
      ]
    },
    {
      "cell_type": "code",
      "source": [
        "import pandas as pd\n",
        "# Assuming 'data' variable contains the preprocessed dataset with Morgan fingerprints\n",
        "property_data = {property_name: data[data['property'] == property_name] for property_name in property_names}\n",
        "\n",
        "# Calculate the range (max - min) of each property's values\n",
        "property_ranges = {prop: property_data[prop]['value'].max() - property_data[prop]['value'].min() for prop in property_names}\n",
        "\n",
        "# gp_st_rmse_values\n",
        "# nn_st_rmse_values\n",
        "# nn_mt1_rmse_values\n",
        "# nn_mt2_all_rmse_values\n",
        "# nn_mt2_sup_rmse_values\n",
        "\n",
        "# Calculate NRMSE for each ML model and property\n",
        "gp_st_nrmse_values = [rmse / property_ranges[prop] for prop, rmse in zip(property_names, gp_st_rmse_values)]\n",
        "nn_st_nrmse_values = [rmse / property_ranges[prop] for prop, rmse in zip(property_names, nn_st_rmse_values)]\n",
        "nn_mt1_nrmse_values = [rmse / property_ranges[prop] for prop, rmse in zip(property_names, nn_mt1_rmse_values)]\n",
        "nn_mt2_all_nrmse_values = [rmse / property_ranges[prop] for prop, rmse in zip(property_names, nn_mt2_all_rmse_values)]\n",
        "nn_mt2_sup_nrmse_values = [rmse / property_ranges[prop] for prop, rmse in zip(property_names, nn_mt2_sup_rmse_values)]\n",
        "\n",
        "# Calculate the average NRMSE for all properties\n",
        "models_nrmse_avg = {\n",
        "    'GP-ST': np.mean(gp_st_nrmse_values),\n",
        "    'NN-ST': np.mean(nn_st_nrmse_values),\n",
        "    'NN-MT1': np.mean(nn_mt1_nrmse_values),\n",
        "    'NN-MT2-all': np.mean(nn_mt2_all_nrmse_values),\n",
        "    'NN-MT2-sup': np.mean(nn_mt2_sup_nrmse_values)\n",
        "}\n",
        "\n",
        "# Create a DataFrame to display the NRMSE values in a table\n",
        "nrmse_table = pd.DataFrame(\n",
        "    [gp_st_nrmse_values, nn_st_nrmse_values, nn_mt1_nrmse_values, nn_mt2_all_nrmse_values, nn_mt2_sup_nrmse_values],\n",
        "    columns=property_names,\n",
        "    index=['GP-ST', 'NN-ST', 'NN-MT1', 'NN-MT2-all', 'NN-MT2-sup']\n",
        ")\n",
        "nrmse_table['Average'] = nrmse_table.mean(axis=1)\n",
        "\n",
        "# Print the NRMSE table\n",
        "print(nrmse_table)\n",
        "\n",
        "# Save the NRMSE table to a CSV file\n",
        "nrmse_table.to_csv('nrmse_table.csv')\n",
        "\n",
        "# Plot the NRMSE for each ML model and property\n",
        "x = np.arange(len(property_names))\n",
        "width = 0.15\n",
        "\n",
        "fig, ax = plt.subplots()\n",
        "rects1 = ax.bar(x - 2 * width, gp_st_nrmse_values, width, label='GP-ST')\n",
        "rects2 = ax.bar(x - width, nn_st_nrmse_values, width, label='NN-ST')\n",
        "rects3 = ax.bar(x, nn_mt1_nrmse_values, width, label='NN-MT1')\n",
        "rects4 = ax.bar(x + width, nn_mt2_all_nrmse_values, width, label='NN-MT2-all')\n",
        "rects5 = ax.bar(x + 2 * width, nn_mt2_sup_nrmse_values, width, label='NN-MT2-sup')\n",
        "\n",
        "ax.set_ylabel('NRMSE')\n",
        "ax.set_xlabel('Properties')\n",
        "ax.set_title('NRMSE for different ML models')\n",
        "ax.set_xticks(x)\n",
        "ax.set_xticklabels(property_names)\n",
        "# Save the NRMSE figure to an image file\n",
        "fig.savefig('nrmse_figure.png')\n"
      ],
      "metadata": {
        "colab": {
          "base_uri": "https://localhost:8080/",
          "height": 704
        },
        "id": "43FyOjmR4ON6",
        "outputId": "393606c1-8451-46de-df27-df9699878a5a"
      },
      "id": "43FyOjmR4ON6",
      "execution_count": null,
      "outputs": [
        {
          "output_type": "stream",
          "name": "stdout",
          "text": [
            "                 Eat        Xc       Egc       Egb       Eea        Ei  \\\n",
            "GP-ST       0.929174  0.242037  0.132517  0.227457  0.246828  0.323379   \n",
            "NN-ST       1.006302  0.173731  0.088872  0.208731  0.214783  0.328444   \n",
            "NN-MT1      0.884393  0.177260  0.087699  0.186964  0.152670  0.355196   \n",
            "NN-MT2-all  0.421109  0.290499  0.072818  0.101217  0.131874  0.159604   \n",
            "NN-MT2-sup  0.349897  0.279461  0.070816  0.096919  0.129746  0.145598   \n",
            "\n",
            "                  nc       eps   Average  \n",
            "GP-ST       0.403755  0.246498  0.343956  \n",
            "NN-ST       0.449203  0.228965  0.337379  \n",
            "NN-MT1      0.296264  0.184035  0.290560  \n",
            "NN-MT2-all  0.166671  0.146698  0.186311  \n",
            "NN-MT2-sup  0.144842  0.136671  0.169244  \n"
          ]
        },
        {
          "output_type": "display_data",
          "data": {
            "text/plain": [
              "<Figure size 640x480 with 1 Axes>"
            ],
            "image/png": "[encoded data removed]"
          },
          "metadata": {}
        }
      ]
    }
  ],
  "metadata": {
    "kernelspec": {
      "display_name": "Python 3 (ipykernel)",
      "language": "python",
      "name": "python3"
    },
    "language_info": {
      "codemirror_mode": {
        "name": "ipython",
        "version": 3
      },
      "file_extension": ".py",
      "mimetype": "text/x-python",
      "name": "python",
      "nbconvert_exporter": "python",
      "pygments_lexer": "ipython3",
      "version": "3.10.2"
    },
    "colab": {
      "provenance": [],
      "machine_shape": "hm"
    },
    "accelerator": "GPU",
    "gpuClass": "premium"
  },
  "nbformat": 4,
  "nbformat_minor": 5
}