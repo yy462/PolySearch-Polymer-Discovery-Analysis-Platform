{
  "cells": [
    {
      "cell_type": "code",
      "execution_count": 3,
      "id": "93eb1bee",
      "metadata": {
        "colab": {
          "base_uri": "https://localhost:8080/"
        },
        "id": "93eb1bee",
        "outputId": "067f4a41-4aa7-4a13-f131-82ce2416f16e"
      },
      "outputs": [
        {
          "output_type": "stream",
          "name": "stdout",
          "text": [
            "Looking in indexes: https://pypi.org/simple, https://us-python.pkg.dev/colab-wheels/public/simple/\n",
            "Collecting rdkit\n",
            "  Downloading rdkit-2022.9.5-cp39-cp39-manylinux_2_17_x86_64.manylinux2014_x86_64.whl (29.4 MB)\n",
            "\u001b[2K     \u001b[90m━━━━━━━━━━━━━━━━━━━━━━━━━━━━━━━━━━━━━━━━\u001b[0m \u001b[32m29.4/29.4 MB\u001b[0m \u001b[31m53.1 MB/s\u001b[0m eta \u001b[36m0:00:00\u001b[0m\n",
            "\u001b[?25hRequirement already satisfied: numpy in /usr/local/lib/python3.9/dist-packages (from rdkit) (1.22.4)\n",
            "Requirement already satisfied: Pillow in /usr/local/lib/python3.9/dist-packages (from rdkit) (8.4.0)\n",
            "Installing collected packages: rdkit\n",
            "Successfully installed rdkit-2022.9.5\n"
          ]
        }
      ],
      "source": [
        "pip install rdkit"
      ]
    },
    {
      "cell_type": "code",
      "execution_count": 4,
      "id": "ab5a27a6",
      "metadata": {
        "id": "ab5a27a6"
      },
      "outputs": [],
      "source": [
        "import pandas as pd\n",
        "import numpy as np\n",
        "import matplotlib.pyplot as plt\n",
        "\n",
        "from rdkit import Chem\n",
        "from rdkit.Chem import AllChem\n",
        "from rdkit.Chem import Descriptors\n",
        "from rdkit.Chem import rdMolDescriptors\n",
        "\n",
        "from keras.layers import Input, Dense\n",
        "from keras.models import Model\n",
        "from keras.utils import plot_model\n",
        "\n",
        "\n",
        "from tensorflow.keras.models import Sequential, save_model, load_model\n",
        "from tensorflow.keras.layers import Dense, Flatten, LSTM, Embedding, Bidirectional, TimeDistributed, Reshape\n",
        "from tensorflow.keras.optimizers import Adam\n",
        "from tensorflow import keras\n",
        "from tensorflow.keras.layers import Conv2D, MaxPooling2D, Conv1D, MaxPooling1D, Dropout\n",
        "import tensorflow as tf\n",
        "\n",
        "from sklearn.model_selection import train_test_split\n",
        "from sklearn.metrics import r2_score, mean_squared_error, mean_absolute_error"
      ]
    },
    {
      "cell_type": "code",
      "execution_count": 5,
      "id": "10621ea5",
      "metadata": {
        "colab": {
          "base_uri": "https://localhost:8080/",
          "height": 206
        },
        "id": "10621ea5",
        "outputId": "a7445f23-106f-4bd7-8368-8ae5a602a283"
      },
      "outputs": [
        {
          "output_type": "execute_result",
          "data": {
            "text/plain": [
              "   counts                  smiles property  value\n",
              "0       0             [*]CC([*])C      Eat  -5.14\n",
              "1       1             [*]CC([*])F      Eat  -5.18\n",
              "2       2          [*]CC([*])(F)F      Eat  -5.21\n",
              "3       3       [*]C(F)C([*])(F)F      Eat  -5.11\n",
              "4       4  [*]CCC(F)(F)C([*])(F)F      Eat  -5.21"
            ],
            "text/html": [
              "\n",
              "  <div id=\"df-1d9413ba-632f-4876-964b-b4f39dfc2839\">\n",
              "    <div class=\"colab-df-container\">\n",
              "      <div>\n",
              "<style scoped>\n",
              "    .dataframe tbody tr th:only-of-type {\n",
              "        vertical-align: middle;\n",
              "    }\n",
              "\n",
              "    .dataframe tbody tr th {\n",
              "        vertical-align: top;\n",
              "    }\n",
              "\n",
              "    .dataframe thead th {\n",
              "        text-align: right;\n",
              "    }\n",
              "</style>\n",
              "<table border=\"1\" class=\"dataframe\">\n",
              "  <thead>\n",
              "    <tr style=\"text-align: right;\">\n",
              "      <th></th>\n",
              "      <th>counts</th>\n",
              "      <th>smiles</th>\n",
              "      <th>property</th>\n",
              "      <th>value</th>\n",
              "    </tr>\n",
              "  </thead>\n",
              "  <tbody>\n",
              "    <tr>\n",
              "      <th>0</th>\n",
              "      <td>0</td>\n",
              "      <td>[*]CC([*])C</td>\n",
              "      <td>Eat</td>\n",
              "      <td>-5.14</td>\n",
              "    </tr>\n",
              "    <tr>\n",
              "      <th>1</th>\n",
              "      <td>1</td>\n",
              "      <td>[*]CC([*])F</td>\n",
              "      <td>Eat</td>\n",
              "      <td>-5.18</td>\n",
              "    </tr>\n",
              "    <tr>\n",
              "      <th>2</th>\n",
              "      <td>2</td>\n",
              "      <td>[*]CC([*])(F)F</td>\n",
              "      <td>Eat</td>\n",
              "      <td>-5.21</td>\n",
              "    </tr>\n",
              "    <tr>\n",
              "      <th>3</th>\n",
              "      <td>3</td>\n",
              "      <td>[*]C(F)C([*])(F)F</td>\n",
              "      <td>Eat</td>\n",
              "      <td>-5.11</td>\n",
              "    </tr>\n",
              "    <tr>\n",
              "      <th>4</th>\n",
              "      <td>4</td>\n",
              "      <td>[*]CCC(F)(F)C([*])(F)F</td>\n",
              "      <td>Eat</td>\n",
              "      <td>-5.21</td>\n",
              "    </tr>\n",
              "  </tbody>\n",
              "</table>\n",
              "</div>\n",
              "      <button class=\"colab-df-convert\" onclick=\"convertToInteractive('df-1d9413ba-632f-4876-964b-b4f39dfc2839')\"\n",
              "              title=\"Convert this dataframe to an interactive table.\"\n",
              "              style=\"display:none;\">\n",
              "        \n",
              "  <svg xmlns=\"http://www.w3.org/2000/svg\" height=\"24px\"viewBox=\"0 0 24 24\"\n",
              "       width=\"24px\">\n",
              "    <path d=\"M0 0h24v24H0V0z\" fill=\"none\"/>\n",
              "    <path d=\"M18.56 5.44l.94 2.06.94-2.06 2.06-.94-2.06-.94-.94-2.06-.94 2.06-2.06.94zm-11 1L8.5 8.5l.94-2.06 2.06-.94-2.06-.94L8.5 2.5l-.94 2.06-2.06.94zm10 10l.94 2.06.94-2.06 2.06-.94-2.06-.94-.94-2.06-.94 2.06-2.06.94z\"/><path d=\"M17.41 7.96l-1.37-1.37c-.4-.4-.92-.59-1.43-.59-.52 0-1.04.2-1.43.59L10.3 9.45l-7.72 7.72c-.78.78-.78 2.05 0 2.83L4 21.41c.39.39.9.59 1.41.59.51 0 1.02-.2 1.41-.59l7.78-7.78 2.81-2.81c.8-.78.8-2.07 0-2.86zM5.41 20L4 18.59l7.72-7.72 1.47 1.35L5.41 20z\"/>\n",
              "  </svg>\n",
              "      </button>\n",
              "      \n",
              "  <style>\n",
              "    .colab-df-container {\n",
              "      display:flex;\n",
              "      flex-wrap:wrap;\n",
              "      gap: 12px;\n",
              "    }\n",
              "\n",
              "    .colab-df-convert {\n",
              "      background-color: #E8F0FE;\n",
              "      border: none;\n",
              "      border-radius: 50%;\n",
              "      cursor: pointer;\n",
              "      display: none;\n",
              "      fill: #1967D2;\n",
              "      height: 32px;\n",
              "      padding: 0 0 0 0;\n",
              "      width: 32px;\n",
              "    }\n",
              "\n",
              "    .colab-df-convert:hover {\n",
              "      background-color: #E2EBFA;\n",
              "      box-shadow: 0px 1px 2px rgba(60, 64, 67, 0.3), 0px 1px 3px 1px rgba(60, 64, 67, 0.15);\n",
              "      fill: #174EA6;\n",
              "    }\n",
              "\n",
              "    [theme=dark] .colab-df-convert {\n",
              "      background-color: #3B4455;\n",
              "      fill: #D2E3FC;\n",
              "    }\n",
              "\n",
              "    [theme=dark] .colab-df-convert:hover {\n",
              "      background-color: #434B5C;\n",
              "      box-shadow: 0px 1px 3px 1px rgba(0, 0, 0, 0.15);\n",
              "      filter: drop-shadow(0px 1px 2px rgba(0, 0, 0, 0.3));\n",
              "      fill: #FFFFFF;\n",
              "    }\n",
              "  </style>\n",
              "\n",
              "      <script>\n",
              "        const buttonEl =\n",
              "          document.querySelector('#df-1d9413ba-632f-4876-964b-b4f39dfc2839 button.colab-df-convert');\n",
              "        buttonEl.style.display =\n",
              "          google.colab.kernel.accessAllowed ? 'block' : 'none';\n",
              "\n",
              "        async function convertToInteractive(key) {\n",
              "          const element = document.querySelector('#df-1d9413ba-632f-4876-964b-b4f39dfc2839');\n",
              "          const dataTable =\n",
              "            await google.colab.kernel.invokeFunction('convertToInteractive',\n",
              "                                                     [key], {});\n",
              "          if (!dataTable) return;\n",
              "\n",
              "          const docLinkHtml = 'Like what you see? Visit the ' +\n",
              "            '<a target=\"_blank\" href=https://colab.research.google.com/notebooks/data_table.ipynb>data table notebook</a>'\n",
              "            + ' to learn more about interactive tables.';\n",
              "          element.innerHTML = '';\n",
              "          dataTable['output_type'] = 'display_data';\n",
              "          await google.colab.output.renderOutput(dataTable, element);\n",
              "          const docLink = document.createElement('div');\n",
              "          docLink.innerHTML = docLinkHtml;\n",
              "          element.appendChild(docLink);\n",
              "        }\n",
              "      </script>\n",
              "    </div>\n",
              "  </div>\n",
              "  "
            ]
          },
          "metadata": {},
          "execution_count": 5
        }
      ],
      "source": [
        "data = pd.read_csv('data.csv')\n",
        "data.head()"
      ]
    },
    {
      "cell_type": "code",
      "source": [
        "smiles = data['smiles']\n",
        "print(smiles)\n",
        "type(smiles)"
      ],
      "metadata": {
        "colab": {
          "base_uri": "https://localhost:8080/"
        },
        "id": "ZJ1FcUqdB6Wr",
        "outputId": "2a9f4ed2-f27f-455d-9ae8-30ded4969360"
      },
      "id": "ZJ1FcUqdB6Wr",
      "execution_count": 6,
      "outputs": [
        {
          "output_type": "stream",
          "name": "stdout",
          "text": [
            "0                                      [*]CC([*])C\n",
            "1                                      [*]CC([*])F\n",
            "2                                   [*]CC([*])(F)F\n",
            "3                                [*]C(F)C([*])(F)F\n",
            "4                           [*]CCC(F)(F)C([*])(F)F\n",
            "                           ...                    \n",
            "6260    [*]C(F)(F)C(F)(F)C(S1)=CC=C1C(S2)=CC=C2[*]\n",
            "6261                    [*]C(F)(F)C(F)(F)C(=O)O[*]\n",
            "6262          [*]C(F)(F)C(=O)C(F)(F)C(S1)=CC=C1[*]\n",
            "6263        [*]C(F)(F)C(=O)C(F)(F)C(C=C1)=CC=C1[*]\n",
            "6264                        [*]C(F)(F)OC(F)(F)O[*]\n",
            "Name: smiles, Length: 6265, dtype: object\n"
          ]
        },
        {
          "output_type": "execute_result",
          "data": {
            "text/plain": [
              "pandas.core.series.Series"
            ]
          },
          "metadata": {},
          "execution_count": 6
        }
      ]
    },
    {
      "cell_type": "code",
      "source": [
        "# Find the number of missing values\n",
        "missing_values = data.isnull().sum().sum()\n",
        "print(\"Number of missing values:\", missing_values)"
      ],
      "metadata": {
        "colab": {
          "base_uri": "https://localhost:8080/"
        },
        "id": "Y_s0STW2B6JY",
        "outputId": "9e5fb555-8bd8-40cb-ac68-73f3046592d5"
      },
      "id": "Y_s0STW2B6JY",
      "execution_count": 31,
      "outputs": [
        {
          "output_type": "stream",
          "name": "stdout",
          "text": [
            "Number of missing values: 47\n"
          ]
        }
      ]
    },
    {
      "cell_type": "code",
      "source": [
        "# Delete the missing values\n",
        "data = data.dropna()"
      ],
      "metadata": {
        "id": "zz_FIg4ECNAs"
      },
      "id": "zz_FIg4ECNAs",
      "execution_count": 32,
      "outputs": []
    },
    {
      "cell_type": "code",
      "source": [
        "# Verify that there are no more missing values\n",
        "assert data.isnull().sum().sum() == 0\n",
        "\n",
        "missing_values = data.isnull().sum().sum()\n",
        "\n",
        "print(\"No more missing values in the dataset.\")\n",
        "print(\"Number of missing values:\", missing_values)"
      ],
      "metadata": {
        "colab": {
          "base_uri": "https://localhost:8080/"
        },
        "id": "YNNwQabQCM6J",
        "outputId": "2b89dca7-be1c-402c-90e5-18f5dda81f1e"
      },
      "id": "YNNwQabQCM6J",
      "execution_count": 33,
      "outputs": [
        {
          "output_type": "stream",
          "name": "stdout",
          "text": [
            "No more missing values in the dataset.\n",
            "Number of missing values: 0\n"
          ]
        }
      ]
    },
    {
      "cell_type": "code",
      "execution_count": 38,
      "id": "24817dcb",
      "metadata": {
        "id": "24817dcb"
      },
      "outputs": [],
      "source": [
        "def smiles_to_morgan(smiles, radius=2, nBits=2048):\n",
        "    mol = Chem.MolFromSmiles(smiles)\n",
        "    fp = AllChem.GetMorganFingerprintAsBitVect(mol, radius, nBits=nBits)\n",
        "#     print(fp)\n",
        "    return fp\n",
        "\n",
        "data['morgan'] = data['smiles'].apply(smiles_to_morgan)"
      ]
    },
    {
      "cell_type": "code",
      "execution_count": 39,
      "id": "a6e48e7c",
      "metadata": {
        "colab": {
          "base_uri": "https://localhost:8080/"
        },
        "id": "a6e48e7c",
        "outputId": "089300b7-751b-4e21-87b7-85a072febe84"
      },
      "outputs": [
        {
          "output_type": "stream",
          "name": "stdout",
          "text": [
            "0       [0, 1, 0, 0, 0, 0, 0, 0, 0, 0, 0, 0, 0, 0, 0, ...\n",
            "1       [0, 1, 0, 0, 0, 0, 0, 0, 0, 0, 0, 0, 0, 0, 0, ...\n",
            "2       [0, 0, 0, 0, 0, 0, 0, 0, 0, 0, 0, 0, 0, 0, 0, ...\n",
            "3       [0, 1, 0, 0, 0, 0, 0, 0, 0, 0, 0, 0, 0, 0, 0, ...\n",
            "4       [0, 0, 0, 0, 0, 0, 0, 0, 0, 0, 0, 0, 0, 0, 0, ...\n",
            "                              ...                        \n",
            "6260    [0, 0, 0, 0, 0, 0, 0, 0, 0, 0, 0, 0, 0, 0, 0, ...\n",
            "6261    [0, 0, 0, 0, 0, 0, 0, 0, 0, 0, 0, 0, 0, 0, 0, ...\n",
            "6262    [0, 0, 0, 0, 0, 0, 0, 0, 0, 0, 0, 0, 0, 0, 0, ...\n",
            "6263    [0, 0, 0, 0, 0, 0, 0, 0, 0, 0, 0, 0, 0, 0, 0, ...\n",
            "6264    [0, 0, 0, 0, 0, 0, 0, 0, 0, 0, 0, 0, 0, 0, 0, ...\n",
            "Name: morgan, Length: 6218, dtype: object\n"
          ]
        }
      ],
      "source": [
        "print(data['morgan'] )"
      ]
    },
    {
      "cell_type": "code",
      "execution_count": null,
      "id": "df30957f",
      "metadata": {
        "colab": {
          "base_uri": "https://localhost:8080/"
        },
        "id": "df30957f",
        "outputId": "e831502c-0200-4a43-a461-01ce798ae29f"
      },
      "outputs": [
        {
          "output_type": "stream",
          "name": "stdout",
          "text": [
            "Looking in indexes: https://pypi.org/simple, https://us-python.pkg.dev/colab-wheels/public/simple/\n",
            "Collecting GPy\n",
            "  Downloading GPy-1.10.0.tar.gz (959 kB)\n",
            "\u001b[2K     \u001b[90m━━━━━━━━━━━━━━━━━━━━━━━━━━━━━━━━━━━━━━\u001b[0m \u001b[32m959.4/959.4 KB\u001b[0m \u001b[31m14.2 MB/s\u001b[0m eta \u001b[36m0:00:00\u001b[0m\n",
            "\u001b[?25h  Preparing metadata (setup.py) ... \u001b[?25l\u001b[?25hdone\n",
            "Requirement already satisfied: numpy>=1.7 in /usr/local/lib/python3.9/dist-packages (from GPy) (1.22.4)\n",
            "Requirement already satisfied: six in /usr/local/lib/python3.9/dist-packages (from GPy) (1.16.0)\n",
            "Collecting paramz>=0.9.0\n",
            "  Downloading paramz-0.9.5.tar.gz (71 kB)\n",
            "\u001b[2K     \u001b[90m━━━━━━━━━━━━━━━━━━━━━━━━━━━━━━━━━━━━━━━━\u001b[0m \u001b[32m71.3/71.3 KB\u001b[0m \u001b[31m5.8 MB/s\u001b[0m eta \u001b[36m0:00:00\u001b[0m\n",
            "\u001b[?25h  Preparing metadata (setup.py) ... \u001b[?25l\u001b[?25hdone\n",
            "Requirement already satisfied: cython>=0.29 in /usr/local/lib/python3.9/dist-packages (from GPy) (0.29.33)\n",
            "Requirement already satisfied: scipy>=1.3.0 in /usr/local/lib/python3.9/dist-packages (from GPy) (1.10.1)\n",
            "Requirement already satisfied: decorator>=4.0.10 in /usr/local/lib/python3.9/dist-packages (from paramz>=0.9.0->GPy) (4.4.2)\n",
            "Building wheels for collected packages: GPy, paramz\n",
            "  Building wheel for GPy (setup.py) ... \u001b[?25l\u001b[?25hdone\n",
            "  Created wheel for GPy: filename=GPy-1.10.0-cp39-cp39-linux_x86_64.whl size=3288083 sha256=44a958142c368342449ea8df5bddce0000be7551fd4424aee1eec10f22085371\n",
            "  Stored in directory: /root/.cache/pip/wheels/78/fd/57/7c1e4a6f9a5380e2536af9809075ba085b1bb8d38ee84ea183\n",
            "  Building wheel for paramz (setup.py) ... \u001b[?25l\u001b[?25hdone\n",
            "  Created wheel for paramz: filename=paramz-0.9.5-py3-none-any.whl size=102564 sha256=c4045a6c2cdbf5f8f7e7a6495301e80e8c028bd4876de004397b460ae768ba79\n",
            "  Stored in directory: /root/.cache/pip/wheels/9c/5f/9b/c4273ae8f869387214be2b99598d1b71dbf00672576cb85e74\n",
            "Successfully built GPy paramz\n",
            "Installing collected packages: paramz, GPy\n",
            "Successfully installed GPy-1.10.0 paramz-0.9.5\n"
          ]
        }
      ],
      "source": [
        "!pip install GPy"
      ]
    },
    {
      "cell_type": "code",
      "execution_count": null,
      "id": "e5809078",
      "metadata": {
        "colab": {
          "base_uri": "https://localhost:8080/",
          "height": 438
        },
        "id": "e5809078",
        "outputId": "16f2a074-4f82-4388-8346-47c557d54dcd"
      },
      "outputs": [
        {
          "output_type": "stream",
          "name": "stdout",
          "text": [
            "Property Eat, RMSE: 0.09579455636587461\n",
            "Property Xc, RMSE: 17.255673910294895\n",
            "Property Egc, RMSE: 0.49876935690084967\n",
            "Property Egb, RMSE: 0.7891466299089506\n",
            "Property Eea, RMSE: 0.3554645486323665\n",
            "Property Ei, RMSE: 0.5171356784552603\n",
            "Property nc, RMSE: 0.11679477820258367\n",
            "Property eps, RMSE: 0.6854678235709742\n"
          ]
        },
        {
          "output_type": "display_data",
          "data": {
            "text/plain": [
              "<Figure size 432x288 with 1 Axes>"
            ],
            "image/png": "[encoded data removed]"
          },
          "metadata": {
            "needs_background": "light"
          }
        }
      ],
      "source": [
        "import GPy\n",
        "import numpy as np\n",
        "import matplotlib.pyplot as plt\n",
        "\n",
        "def train_evaluate_gp_st(X_train, y_train, X_test, y_test):\n",
        "    kernel = GPy.kern.RBF(input_dim=len(X_train[0]), variance=1.0, lengthscale=1.0)\n",
        "    gp_model = GPy.models.GPRegression(X_train, y_train[:, None], kernel)\n",
        "    gp_model.optimize(messages=False)\n",
        "\n",
        "    y_pred, y_var = gp_model.predict(X_test)\n",
        "    rmse = np.sqrt(mean_squared_error(y_test, y_pred))\n",
        "    return rmse\n",
        "\n",
        "property_names = ['Eat', 'Xc', 'Egc', 'Egb', 'Eea', 'Ei', 'nc','eps']  # List all 8 property names here\n",
        "rmse_values = []\n",
        "\n",
        "# Loop through each property and train a GP-ST model\n",
        "for property_name in property_names:\n",
        "    property_data = data[data['property'] == property_name]\n",
        "    \n",
        "    X = list(property_data['morgan'])\n",
        "    y = property_data['value'].values\n",
        "\n",
        "    X_train, X_test, y_train, y_test = train_test_split(X, y, test_size=0.2, random_state=42)\n",
        "    \n",
        "    rmse = train_evaluate_gp_st(np.array(X_train), y_train, np.array(X_test), y_test)\n",
        "    rmse_values.append(rmse)\n",
        "    print(f\"Property {property_name}, RMSE: {rmse}\")\n",
        "\n",
        "# Plot RMSE values for all properties\n",
        "plt.bar(property_names, rmse_values)\n",
        "plt.xlabel(\"Properties\")\n",
        "plt.ylabel(\"RMSE\")\n",
        "plt.title(\"RMSE for Gaussian Process Single Task models\")\n",
        "plt.show()\n"
      ]
    },
    {
      "cell_type": "code",
      "source": [
        "from sklearn.gaussian_process import GaussianProcessRegressor\n",
        "from sklearn.gaussian_process.kernels import RBF, WhiteKernel\n",
        "from sklearn.model_selection import RandomizedSearchCV\n",
        "from sklearn.preprocessing import StandardScaler\n",
        "import matplotlib.pyplot as plt\n",
        "\n",
        "def train_gp_st_model(property_name, data, n_iter=10, cv=3):\n",
        "    property_data = data[data['property'] == property_name]\n",
        "\n",
        "    X = np.array(property_data['morgan'].tolist())\n",
        "    y = property_data['value'].values\n",
        "\n",
        "    X_train, X_test, y_train, y_test = train_test_split(X, y, test_size=0.2, random_state=42)\n",
        "\n",
        "    scaler = StandardScaler()\n",
        "    X_train_scaled = scaler.fit_transform(X_train)\n",
        "    X_test_scaled = scaler.transform(X_test)\n",
        "\n",
        "    kernel = RBF(length_scale=1.0, length_scale_bounds=(1e-2, 1e3)) + WhiteKernel(noise_level=1, noise_level_bounds=(1e-10, 1e+1))\n",
        "    gpr = GaussianProcessRegressor(kernel=kernel)\n",
        "\n",
        "    param_dist = {\n",
        "        'kernel__k1__length_scale': np.logspace(-2, 3, 1000),\n",
        "        'kernel__k2__noise_level': np.logspace(-10, 1, 1000)\n",
        "    }\n",
        "\n",
        "    search = RandomizedSearchCV(gpr, param_distributions=param_dist, n_iter=n_iter, cv=cv, n_jobs=-1, random_state=42)\n",
        "    search.fit(X_train_scaled, y_train)\n",
        "\n",
        "    best_gpr = search.best_estimator_\n",
        "    y_pred = best_gpr.predict(X_test_scaled)\n",
        "\n",
        "    rmse = np.sqrt(mean_squared_error(y_test, y_pred))\n",
        "    return rmse\n"
      ],
      "metadata": {
        "id": "UyA-6Fx6UjlD"
      },
      "id": "UyA-6Fx6UjlD",
      "execution_count": null,
      "outputs": []
    },
    {
      "cell_type": "code",
      "source": [
        "property_names = ['Eat', 'Xc', 'Egc', 'Egb', 'Eea', 'Ei', 'nc', 'eps']\n",
        "rmse_values = []\n",
        "\n",
        "for property_name in property_names:\n",
        "    rmse = train_gp_st_model(property_name, data)\n",
        "    rmse_values.append(rmse)\n",
        "    print(f'Property: {property_name}, RMSE: {rmse}')\n"
      ],
      "metadata": {
        "colab": {
          "base_uri": "https://localhost:8080/"
        },
        "id": "EGMbb61BUjib",
        "outputId": "ec9d85c0-70c1-4f30-b79d-0a25f1fda7af"
      },
      "id": "EGMbb61BUjib",
      "execution_count": null,
      "outputs": [
        {
          "output_type": "stream",
          "name": "stdout",
          "text": [
            "Property: Eat, RMSE: 0.3011920320143522\n"
          ]
        },
        {
          "output_type": "stream",
          "name": "stderr",
          "text": [
            "/usr/local/lib/python3.9/dist-packages/sklearn/gaussian_process/kernels.py:430: ConvergenceWarning: The optimal value found for dimension 0 of parameter k2__noise_level is close to the specified upper bound 10.0. Increasing the bound and calling fit again may find a better value.\n",
            "  warnings.warn(\n"
          ]
        },
        {
          "output_type": "stream",
          "name": "stdout",
          "text": [
            "Property: Xc, RMSE: 22.575110221464726\n",
            "Property: Egc, RMSE: 0.7392987228638096\n",
            "Property: Egb, RMSE: 1.6985893104244216\n",
            "Property: Eea, RMSE: 0.669501681366255\n",
            "Property: Ei, RMSE: 0.6636157439621323\n",
            "Property: nc, RMSE: 0.1811347883126609\n",
            "Property: eps, RMSE: 1.0436960975197518\n"
          ]
        }
      ]
    },
    {
      "cell_type": "code",
      "source": [
        "# Plot RMSE values for all properties\n",
        "plt.bar(property_names, rmse_values)\n",
        "plt.xlabel(\"Properties\")\n",
        "plt.ylabel(\"RMSE\")\n",
        "plt.title(\"RMSE for Gaussian Process Single Task models\")\n",
        "plt.show()\n"
      ],
      "metadata": {
        "colab": {
          "base_uri": "https://localhost:8080/",
          "height": 295
        },
        "id": "w7rR0lYnyMab",
        "outputId": "3e1686ee-13ae-4050-b850-3b0574c17a9a"
      },
      "id": "w7rR0lYnyMab",
      "execution_count": null,
      "outputs": [
        {
          "output_type": "display_data",
          "data": {
            "text/plain": [
              "<Figure size 432x288 with 1 Axes>"
            ],
            "image/png": "[encoded data removed]"
          },
          "metadata": {
            "needs_background": "light"
          }
        }
      ]
    },
    {
      "cell_type": "code",
      "source": [
        "import matplotlib.pyplot as plt\n",
        "from sklearn.svm import SVR\n",
        "from sklearn.model_selection import RandomizedSearchCV, KFold\n",
        "from scipy.stats import uniform, randint\n"
      ],
      "metadata": {
        "id": "jk1voKf_UjZk"
      },
      "id": "jk1voKf_UjZk",
      "execution_count": null,
      "outputs": []
    },
    {
      "cell_type": "code",
      "source": [
        "def train_evaluate_svr_st(data, property_name, cv=5):\n",
        "    property_data = data[data['property'] == property_name]\n",
        "\n",
        "    X = np.array(property_data['morgan'].tolist())\n",
        "    y = property_data['value'].values\n",
        "\n",
        "    X_train, X_test, y_train, y_test = train_test_split(X, y, test_size=0.2, random_state=42)\n",
        "\n",
        "    scaler = StandardScaler()\n",
        "    X_train_scaled = scaler.fit_transform(X_train)\n",
        "    X_test_scaled = scaler.transform(X_test)\n",
        "\n",
        "    param_dist = {\n",
        "        'C': uniform(loc=0.1, scale=10),\n",
        "        'epsilon': uniform(loc=0.01, scale=1),\n",
        "        'kernel': ['linear', 'rbf']\n",
        "    }\n",
        "\n",
        "    svr = SVR()\n",
        "    random_search = RandomizedSearchCV(svr, param_distributions=param_dist, n_iter=10, cv=5, scoring='neg_mean_squared_error', random_state=42)\n",
        "    random_search.fit(X_train_scaled, y_train)\n",
        "\n",
        "    best_svr = random_search.best_estimator_\n",
        "    y_pred = best_svr.predict(X_test_scaled)\n",
        "\n",
        "    rmse = np.sqrt(mean_squared_error(y_test, y_pred))\n",
        "\n",
        "    return rmse\n"
      ],
      "metadata": {
        "id": "RmVWy88Req6l"
      },
      "id": "RmVWy88Req6l",
      "execution_count": null,
      "outputs": []
    },
    {
      "cell_type": "code",
      "source": [
        "property_names = ['Eat', 'Xc', 'Egc', 'Egb', 'Eea', 'Ei', 'nc', 'eps']\n",
        "rmse_values = []\n",
        "\n",
        "for property_name in property_names:\n",
        "    rmse = train_evaluate_svr_st(data, property_name)\n",
        "    rmse_values.append(rmse)\n",
        "    print(f'Property: {property_name}, RMSE: {rmse}')\n",
        "    \n",
        "plt.bar(property_names, rmse_values)\n",
        "plt.xlabel('Property')\n",
        "plt.ylabel('RMSE')\n",
        "plt.title('SVR-ST RMSE for each property')\n",
        "plt.show()\n"
      ],
      "metadata": {
        "colab": {
          "base_uri": "https://localhost:8080/",
          "height": 438
        },
        "id": "xyJdeLPkeuCq",
        "outputId": "20f8db7e-b789-4314-c50d-85c9e048cad0"
      },
      "id": "xyJdeLPkeuCq",
      "execution_count": null,
      "outputs": [
        {
          "output_type": "stream",
          "name": "stdout",
          "text": [
            "Property: Eat, RMSE: 0.16217344021075938\n",
            "Property: Xc, RMSE: 19.815718295157524\n",
            "Property: Egc, RMSE: 0.7582039670057363\n",
            "Property: Egb, RMSE: 1.1658819995380252\n",
            "Property: Eea, RMSE: 0.5017225976488133\n",
            "Property: Ei, RMSE: 0.5872092749270256\n",
            "Property: nc, RMSE: 0.1472140183891133\n",
            "Property: eps, RMSE: 0.7717001223973871\n"
          ]
        },
        {
          "output_type": "display_data",
          "data": {
            "text/plain": [
              "<Figure size 432x288 with 1 Axes>"
            ],
            "image/png": "[encoded data removed]"
          },
          "metadata": {
            "needs_background": "light"
          }
        }
      ]
    },
    {
      "cell_type": "code",
      "source": [
        "import tensorflow as tf\n",
        "from tensorflow.keras.models import Sequential\n",
        "from tensorflow.keras.layers import Dense, Dropout, PReLU\n",
        "from tensorflow.keras.wrappers.scikit_learn import KerasRegressor\n",
        "from sklearn.model_selection import RandomizedSearchCV\n",
        "from sklearn.metrics import mean_squared_error\n",
        "import matplotlib.pyplot as plt\n",
        "\n",
        "def create_nn_model(hidden_layer1=480, hidden_layer2=224, dropout_rate=0.5):\n",
        "    model = Sequential()\n",
        "    model.add(Dense(hidden_layer1, input_dim=2048, activation=None))\n",
        "    model.add(PReLU())\n",
        "    model.add(Dropout(dropout_rate))\n",
        "    model.add(Dense(hidden_layer2, activation=None))\n",
        "    model.add(PReLU())\n",
        "    model.add(Dropout(dropout_rate))\n",
        "    model.add(Dense(1, activation=None))\n",
        "    model.compile(loss='mean_squared_error', optimizer='adam')\n",
        "    return model"
      ],
      "metadata": {
        "id": "ooqZNq23nrpO"
      },
      "id": "ooqZNq23nrpO",
      "execution_count": null,
      "outputs": []
    },
    {
      "cell_type": "code",
      "source": [
        "nn_regressor = KerasRegressor(build_fn=create_nn_model, epochs=100, batch_size=32, verbose=0)\n",
        "param_dist = {\n",
        "    'hidden_layer1': [400, 480, 560],\n",
        "    'hidden_layer2': [200, 224, 248],\n",
        "    'dropout_rate': [0.4, 0.5, 0.6]\n",
        "}"
      ],
      "metadata": {
        "id": "Nd0vZPP0nrkn"
      },
      "id": "Nd0vZPP0nrkn",
      "execution_count": null,
      "outputs": []
    },
    {
      "cell_type": "code",
      "source": [
        "property_names = ['Eat', 'Xc', 'Egc', 'Egb', 'Eea', 'Ei', 'nc', 'eps']\n",
        "rmse_scores = []\n",
        "\n",
        "for property_name in property_names:\n",
        "    print(f\"Training model for property: {property_name}\")\n",
        "    property_data = data[data['property'] == property_name]\n",
        "\n",
        "    X = np.array(property_data['morgan'].tolist())\n",
        "    y = property_data['value'].values\n",
        "\n",
        "    X_train, X_test, y_train, y_test = train_test_split(X, y, test_size=0.2, random_state=42)\n",
        "\n",
        "    scaler = StandardScaler()\n",
        "    X_train_scaled = scaler.fit_transform(X_train)\n",
        "    X_test_scaled = scaler.transform(X_test)\n",
        "\n",
        "    random_search = RandomizedSearchCV(estimator=nn_regressor, param_distributions=param_dist, n_iter=10, cv=5, random_state=42, n_jobs=-1)\n",
        "    random_search.fit(X_train_scaled, y_train)\n",
        "\n",
        "    best_model = random_search.best_estimator_\n",
        "    y_pred = best_model.predict(X_test_scaled)\n",
        "\n",
        "    rmse = np.sqrt(mean_squared_error(y_test, y_pred))\n",
        "    rmse_scores.append(rmse)\n",
        "    print(f\"RMSE for {property_name}: {rmse:.4f}\")"
      ],
      "metadata": {
        "id": "UrHGwasTn5Pj"
      },
      "id": "UrHGwasTn5Pj",
      "execution_count": null,
      "outputs": []
    },
    {
      "cell_type": "code",
      "source": [
        "plt.figure(figsize=(10, 6))\n",
        "plt.bar(property_names, rmse_scores)\n",
        "plt.xlabel('Properties')\n",
        "plt.ylabel('RMSE')\n",
        "plt.title('RMSE for Each Property')\n",
        "plt.show()\n"
      ],
      "metadata": {
        "colab": {
          "base_uri": "https://localhost:8080/",
          "height": 404
        },
        "id": "6n5_ZAmmlSIe",
        "outputId": "fe8d034c-7181-442e-faea-fbb451518c47"
      },
      "id": "6n5_ZAmmlSIe",
      "execution_count": null,
      "outputs": [
        {
          "output_type": "display_data",
          "data": {
            "text/plain": [
              "<Figure size 720x432 with 1 Axes>"
            ],
            "image/png": "[encoded data removed]"
          },
          "metadata": {
            "needs_background": "light"
          }
        }
      ]
    },
    {
      "cell_type": "code",
      "source": [
        "import keras\n",
        "from keras.models import Model\n",
        "from keras.layers import Input, Dense, Dropout, LeakyReLU\n",
        "from keras.wrappers.scikit_learn import KerasRegressor\n",
        "from sklearn.model_selection import RandomizedSearchCV\n",
        "from sklearn.preprocessing import StandardScaler\n",
        "from sklearn.metrics import mean_squared_error\n",
        "import matplotlib.pyplot as plt\n",
        "\n",
        "property_names = ['Eat', 'Xc', 'Egc', 'Egb', 'Eea', 'Ei', 'nc', 'eps']\n",
        "property_data = {property_name: data[data['property'] == property_name] for property_name in property_names}\n",
        "\n",
        "def create_base_model(hidden_layers, neurons, dropout_rate):\n",
        "    inputs = Input(shape=(2048,))\n",
        "    x = inputs\n",
        "    for i in range(hidden_layers):\n",
        "        x = Dense(neurons, activation='linear')(x)\n",
        "        x = LeakyReLU(alpha=0.3)(x)\n",
        "        x = Dropout(dropout_rate)(x)\n",
        "    \n",
        "    outputs = [Dense(1, activation='linear', name=f'output_{property_name}')(x) for property_name in property_names]\n",
        "    model = Model(inputs=inputs, outputs=outputs)\n",
        "    model.compile(optimizer='adam', loss='mse', metrics=['mse'])\n",
        "    return model\n",
        "\n",
        "# Set up the parameters for the RandomizedSearchCV\n",
        "param_dist = {\n",
        "    'hidden_layers': [1, 2, 3],\n",
        "    'neurons': [480, 416],\n",
        "    'dropout_rate': [0.5],\n",
        "}\n",
        "\n",
        "regressor = KerasRegressor(build_fn=create_base_model, epochs=100, batch_size=32, verbose=0)\n",
        "random_search = RandomizedSearchCV(estimator=regressor, param_distributions=param_dist, n_iter=10, cv=5, n_jobs=-1, random_state=42)\n",
        "\n",
        "# Train the model and optimize hyperparameters\n",
        "property_models = {}\n",
        "for property_name in property_names:\n",
        "    print(f'Training property: {property_name}')\n",
        "    X = np.array(property_data[property_name]['morgan'].tolist())\n",
        "    y = property_data[property_name]['value'].values\n",
        "    X_train, X_test, y_train, y_test = train_test_split(X, y, test_size=0.2, random_state=42)\n",
        "    scaler = StandardScaler()\n",
        "    X_train_scaled = scaler.fit_transform(X_train)\n",
        "    X_test_scaled = scaler.transform(X_test)\n",
        "    \n",
        "    random_search.fit(X_train_scaled, y_train)\n",
        "    best_params = random_search.best_params_\n",
        "    print(f'Best parameters for {property_name}: {best_params}')\n",
        "    \n",
        "    model = create_base_model(**best_params)\n",
        "    model.fit(X_train_scaled, y_train, epochs=100, batch_size=32, verbose=0)\n",
        "    \n",
        "    property_models[property_name] = model\n",
        "\n",
        "\n",
        "\n",
        "\n"
      ],
      "metadata": {
        "colab": {
          "base_uri": "https://localhost:8080/"
        },
        "id": "HXx3jaFpec3c",
        "outputId": "1df20b62-ab48-42a5-a3ed-6b223d8e4d3f"
      },
      "id": "HXx3jaFpec3c",
      "execution_count": 13,
      "outputs": [
        {
          "output_type": "stream",
          "name": "stderr",
          "text": [
            "<ipython-input-13-89836d9ce45f>:33: DeprecationWarning: KerasRegressor is deprecated, use Sci-Keras (https://github.com/adriangb/scikeras) instead. See https://www.adriangb.com/scikeras/stable/migration.html for help migrating.\n",
            "  regressor = KerasRegressor(build_fn=create_base_model, epochs=100, batch_size=32, verbose=0)\n"
          ]
        },
        {
          "output_type": "stream",
          "name": "stdout",
          "text": [
            "Training property: Eat\n"
          ]
        },
        {
          "output_type": "stream",
          "name": "stderr",
          "text": [
            "/usr/local/lib/python3.9/dist-packages/sklearn/model_selection/_search.py:305: UserWarning: The total space of parameters 6 is smaller than n_iter=10. Running 6 iterations. For exhaustive searches, use GridSearchCV.\n",
            "  warnings.warn(\n"
          ]
        },
        {
          "output_type": "stream",
          "name": "stdout",
          "text": [
            "Best parameters for Eat: {'neurons': 416, 'hidden_layers': 3, 'dropout_rate': 0.5}\n",
            "Training property: Xc\n"
          ]
        },
        {
          "output_type": "stream",
          "name": "stderr",
          "text": [
            "/usr/local/lib/python3.9/dist-packages/sklearn/model_selection/_search.py:305: UserWarning: The total space of parameters 6 is smaller than n_iter=10. Running 6 iterations. For exhaustive searches, use GridSearchCV.\n",
            "  warnings.warn(\n",
            "/usr/local/lib/python3.9/dist-packages/joblib/externals/loky/process_executor.py:702: UserWarning: A worker stopped while some jobs were given to the executor. This can be caused by a too short worker timeout or by a memory leak.\n",
            "  warnings.warn(\n"
          ]
        },
        {
          "output_type": "stream",
          "name": "stdout",
          "text": [
            "Best parameters for Xc: {'neurons': 480, 'hidden_layers': 3, 'dropout_rate': 0.5}\n",
            "Training property: Egc\n"
          ]
        },
        {
          "output_type": "stream",
          "name": "stderr",
          "text": [
            "/usr/local/lib/python3.9/dist-packages/sklearn/model_selection/_search.py:305: UserWarning: The total space of parameters 6 is smaller than n_iter=10. Running 6 iterations. For exhaustive searches, use GridSearchCV.\n",
            "  warnings.warn(\n",
            "/usr/local/lib/python3.9/dist-packages/joblib/externals/loky/process_executor.py:702: UserWarning: A worker stopped while some jobs were given to the executor. This can be caused by a too short worker timeout or by a memory leak.\n",
            "  warnings.warn(\n"
          ]
        },
        {
          "output_type": "stream",
          "name": "stdout",
          "text": [
            "Best parameters for Egc: {'neurons': 416, 'hidden_layers': 3, 'dropout_rate': 0.5}\n",
            "Training property: Egb\n"
          ]
        },
        {
          "output_type": "stream",
          "name": "stderr",
          "text": [
            "/usr/local/lib/python3.9/dist-packages/sklearn/model_selection/_search.py:305: UserWarning: The total space of parameters 6 is smaller than n_iter=10. Running 6 iterations. For exhaustive searches, use GridSearchCV.\n",
            "  warnings.warn(\n",
            "/usr/local/lib/python3.9/dist-packages/joblib/externals/loky/process_executor.py:702: UserWarning: A worker stopped while some jobs were given to the executor. This can be caused by a too short worker timeout or by a memory leak.\n",
            "  warnings.warn(\n"
          ]
        },
        {
          "output_type": "stream",
          "name": "stdout",
          "text": [
            "Best parameters for Egb: {'neurons': 416, 'hidden_layers': 3, 'dropout_rate': 0.5}\n",
            "Training property: Eea\n"
          ]
        },
        {
          "output_type": "stream",
          "name": "stderr",
          "text": [
            "/usr/local/lib/python3.9/dist-packages/sklearn/model_selection/_search.py:305: UserWarning: The total space of parameters 6 is smaller than n_iter=10. Running 6 iterations. For exhaustive searches, use GridSearchCV.\n",
            "  warnings.warn(\n",
            "/usr/local/lib/python3.9/dist-packages/joblib/externals/loky/process_executor.py:702: UserWarning: A worker stopped while some jobs were given to the executor. This can be caused by a too short worker timeout or by a memory leak.\n",
            "  warnings.warn(\n"
          ]
        },
        {
          "output_type": "stream",
          "name": "stdout",
          "text": [
            "Best parameters for Eea: {'neurons': 416, 'hidden_layers': 3, 'dropout_rate': 0.5}\n",
            "Training property: Ei\n"
          ]
        },
        {
          "output_type": "stream",
          "name": "stderr",
          "text": [
            "/usr/local/lib/python3.9/dist-packages/sklearn/model_selection/_search.py:305: UserWarning: The total space of parameters 6 is smaller than n_iter=10. Running 6 iterations. For exhaustive searches, use GridSearchCV.\n",
            "  warnings.warn(\n",
            "/usr/local/lib/python3.9/dist-packages/joblib/externals/loky/process_executor.py:702: UserWarning: A worker stopped while some jobs were given to the executor. This can be caused by a too short worker timeout or by a memory leak.\n",
            "  warnings.warn(\n"
          ]
        },
        {
          "output_type": "stream",
          "name": "stdout",
          "text": [
            "Best parameters for Ei: {'neurons': 480, 'hidden_layers': 3, 'dropout_rate': 0.5}\n",
            "Training property: nc\n"
          ]
        },
        {
          "output_type": "stream",
          "name": "stderr",
          "text": [
            "/usr/local/lib/python3.9/dist-packages/sklearn/model_selection/_search.py:305: UserWarning: The total space of parameters 6 is smaller than n_iter=10. Running 6 iterations. For exhaustive searches, use GridSearchCV.\n",
            "  warnings.warn(\n",
            "/usr/local/lib/python3.9/dist-packages/joblib/externals/loky/process_executor.py:702: UserWarning: A worker stopped while some jobs were given to the executor. This can be caused by a too short worker timeout or by a memory leak.\n",
            "  warnings.warn(\n"
          ]
        },
        {
          "output_type": "stream",
          "name": "stdout",
          "text": [
            "Best parameters for nc: {'neurons': 416, 'hidden_layers': 3, 'dropout_rate': 0.5}\n",
            "Training property: eps\n"
          ]
        },
        {
          "output_type": "stream",
          "name": "stderr",
          "text": [
            "/usr/local/lib/python3.9/dist-packages/sklearn/model_selection/_search.py:305: UserWarning: The total space of parameters 6 is smaller than n_iter=10. Running 6 iterations. For exhaustive searches, use GridSearchCV.\n",
            "  warnings.warn(\n"
          ]
        },
        {
          "output_type": "stream",
          "name": "stdout",
          "text": [
            "Best parameters for eps: {'neurons': 480, 'hidden_layers': 3, 'dropout_rate': 0.5}\n"
          ]
        }
      ]
    },
    {
      "cell_type": "code",
      "source": [
        "rmse_scores = []\n",
        "\n",
        "for property_name, model in property_models.items():\n",
        "    X = np.array(property_data[property_name]['morgan'].tolist())\n",
        "    y = property_data[property_name]['value'].values\n",
        "    X_train, X_test, y_train, y_test = train_test_split(X, y, test_size=0.2, random_state=42)\n",
        "    scaler = StandardScaler()\n",
        "    X_train_scaled = scaler.fit_transform(X_train)\n",
        "    X_test_scaled = scaler.transform(X_test)\n",
        "    \n",
        "    y_pred = model.predict(X_test_scaled)[property_names.index(property_name)].flatten()\n",
        "\n",
        "    \n",
        "    mse = mean_squared_error(y_test, y_pred)\n",
        "    rmse = np.sqrt(mse)\n",
        "    rmse_scores.append(rmse)\n",
        "    print(f'RMSE for {property_name}: {rmse}')\n",
        "\n",
        "# Plot the RMSE for each property\n",
        "plt.figure(figsize=(10, 6))\n",
        "plt.bar(property_names, rmse_scores)\n",
        "plt.xlabel('Property')\n",
        "plt.ylabel('RMSE')\n",
        "plt.title('RMSE for each property')\n",
        "plt.show()"
      ],
      "metadata": {
        "colab": {
          "base_uri": "https://localhost:8080/",
          "height": 728
        },
        "id": "lijUFIIm1Vwj",
        "outputId": "06d9e8d0-d269-49f2-bfb3-637b131121ea"
      },
      "id": "lijUFIIm1Vwj",
      "execution_count": 14,
      "outputs": [
        {
          "output_type": "stream",
          "name": "stdout",
          "text": [
            "3/3 [==============================] - 0s 3ms/step\n",
            "RMSE for Eat: 1.7621752437337186\n",
            "3/3 [==============================] - 0s 3ms/step\n",
            "RMSE for Xc: 17.493286419721418\n",
            "21/21 [==============================] - 0s 2ms/step\n",
            "RMSE for Egc: 0.8272663379077178\n",
            "4/4 [==============================] - 0s 4ms/step\n",
            "RMSE for Egb: 1.6313519506756393\n",
            "3/3 [==============================] - 0s 4ms/step\n",
            "RMSE for Eea: 0.6663265253490814\n",
            "3/3 [==============================] - 0s 5ms/step\n",
            "RMSE for Ei: 2.039233808880278\n",
            "3/3 [==============================] - 0s 4ms/step\n",
            "RMSE for nc: 0.3514037238325577\n"
          ]
        },
        {
          "output_type": "stream",
          "name": "stderr",
          "text": [
            "WARNING:tensorflow:5 out of the last 14 calls to <function Model.make_predict_function.<locals>.predict_function at 0x7fb266da70d0> triggered tf.function retracing. Tracing is expensive and the excessive number of tracings could be due to (1) creating @tf.function repeatedly in a loop, (2) passing tensors with different shapes, (3) passing Python objects instead of tensors. For (1), please define your @tf.function outside of the loop. For (2), @tf.function has reduce_retracing=True option that can avoid unnecessary retracing. For (3), please refer to https://www.tensorflow.org/guide/function#controlling_retracing and https://www.tensorflow.org/api_docs/python/tf/function for  more details.\n"
          ]
        },
        {
          "output_type": "stream",
          "name": "stdout",
          "text": [
            "3/3 [==============================] - 0s 4ms/step\n",
            "RMSE for eps: 1.3045422279812111\n"
          ]
        },
        {
          "output_type": "display_data",
          "data": {
            "text/plain": [
              "<Figure size 720x432 with 1 Axes>"
            ],
            "image/png": "[encoded data removed]"
          },
          "metadata": {
            "needs_background": "light"
          }
        }
      ]
    },
    {
      "cell_type": "code",
      "source": [
        "import keras\n",
        "from keras.models import Model\n",
        "from keras.layers import Input, Dense, Dropout, LeakyReLU\n",
        "from keras.wrappers.scikit_learn import KerasRegressor\n",
        "from sklearn.model_selection import RandomizedSearchCV\n",
        "from sklearn.preprocessing import StandardScaler\n",
        "from sklearn.metrics import mean_squared_error\n",
        "import matplotlib.pyplot as plt\n",
        "\n",
        "property_names = ['Eat', 'Xc', 'Egc', 'Egb', 'Eea', 'Ei', 'nc', 'eps']\n",
        "property_data = {property_name: data[data['property'] == property_name] for property_name in property_names}\n",
        "\n",
        "def create_base_model(hidden_layers, neurons, dropout_rate):\n",
        "    inputs = Input(shape=(2048,))\n",
        "    x = inputs\n",
        "    for i in range(hidden_layers):\n",
        "        x = Dense(neurons, activation='linear')(x)\n",
        "        x = LeakyReLU(alpha=0.3)(x)\n",
        "        x = Dropout(dropout_rate)(x)\n",
        "    \n",
        "    outputs = [Dense(1, activation='linear', name=f'output_{property_name}')(x) for property_name in property_names]\n",
        "    model = Model(inputs=inputs, outputs=outputs)\n",
        "    model.compile(optimizer='adam', loss='mse', metrics=['mse'])\n",
        "    return model\n",
        "\n",
        "# Set up the parameters for the RandomizedSearchCV\n",
        "param_dist = {\n",
        "    'hidden_layers': [1, 2, 3],\n",
        "    'neurons': [480, 416],\n",
        "    'dropout_rate': [0.5],\n",
        "}\n",
        "\n",
        "regressor = KerasRegressor(build_fn=create_base_model, epochs=100, batch_size=32, verbose=0)\n",
        "random_search = RandomizedSearchCV(estimator=regressor, param_distributions=param_dist, n_iter=10, cv=5, n_jobs=-1, random_state=42)\n",
        "\n",
        "# Train the model and optimize hyperparameters\n",
        "property_models = {}\n",
        "for property_name in property_names:\n",
        "    print(f'Training property: {property_name}')\n",
        "    X = np.array(property_data[property_name]['morgan'].tolist())\n",
        "    y = property_data[property_name]['value'].values\n",
        "    X_train, X_test, y_train, y_test = train_test_split(X, y, test_size=0.2, random_state=42)\n",
        "    scaler = StandardScaler()\n",
        "    X_train_scaled = scaler.fit_transform(X_train)\n",
        "    X_test_scaled = scaler.transform(X_test)\n",
        "    \n",
        "    random_search.fit(X_train_scaled, y_train)\n",
        "    best_params = random_search.best_params_\n",
        "    print(f'Best parameters for {property_name}: {best_params}')\n",
        "    \n",
        "    model = create_base_model(**best_params)\n",
        "    model.fit(X_train_scaled, y_train, epochs=100, batch_size=32, verbose=0)\n",
        "    \n",
        "    property_models[property_name] = model\n",
        "\n",
        "rmse_scores = []\n",
        "\n",
        "\n"
      ],
      "metadata": {
        "id": "2B71Xcfaj-Um"
      },
      "id": "2B71Xcfaj-Um",
      "execution_count": null,
      "outputs": []
    },
    {
      "cell_type": "code",
      "source": [
        "rmse_scores = []\n",
        "\n",
        "for property_name, model in property_models.items():\n",
        "    X = np.array(property_data[property_name]['morgan'].tolist())\n",
        "    y = property_data[property_name]['value'].values\n",
        "    X_train, X_test, y_train, y_test = train_test_split(X, y, test_size=0.2, random_state=42)\n",
        "    scaler = StandardScaler()\n",
        "    X_train_scaled = scaler.fit_transform(X_train)\n",
        "    X_test_scaled = scaler.transform(X_test)\n",
        "    \n",
        "    y_pred = model.predict(X_test_scaled)[property_names.index(property_name)].flatten()\n",
        "\n",
        "    \n",
        "    mse = mean_squared_error(y_test, y_pred)\n",
        "    rmse = np.sqrt(mse)\n",
        "    rmse_scores.append(rmse)\n",
        "    print(f'RMSE for {property_name}: {rmse}')\n",
        "\n",
        "# Plot the RMSE for each property\n",
        "plt.figure(figsize=(10, 6))\n",
        "plt.bar(property_names, rmse_scores)\n",
        "plt.xlabel('Property')\n",
        "plt.ylabel('RMSE')\n",
        "plt.title('RMSE for each property')\n",
        "plt.show()"
      ],
      "metadata": {
        "id": "BGk7MTXpj-Pa"
      },
      "id": "BGk7MTXpj-Pa",
      "execution_count": null,
      "outputs": []
    },
    {
      "cell_type": "code",
      "source": [],
      "metadata": {
        "id": "iRFeXt5gnKDE"
      },
      "id": "iRFeXt5gnKDE",
      "execution_count": null,
      "outputs": []
    },
    {
      "cell_type": "code",
      "source": [
        "import numpy as np\n",
        "import pandas as pd\n",
        "from rdkit import Chem, DataStructs\n",
        "from rdkit.Chem import AllChem\n",
        "from sklearn.model_selection import KFold\n",
        "from sklearn.metrics import mean_squared_error\n",
        "from tensorflow.keras.layers import Input, Dense, Concatenate, Dropout, PReLU\n",
        "from tensorflow.keras.models import Model\n",
        "import matplotlib.pyplot as plt\n",
        "\n",
        "property_names = ['Eat', 'Xc', 'Egc', 'Egb', 'Eea', 'Ei', 'nc', 'eps']\n",
        "selector_vectors = np.eye(len(property_names))\n",
        "\n",
        "def build_nn_mt2_model():\n",
        "    fingerprint_input = Input(shape=(2048,), name='fingerprint_input')\n",
        "    selector_input = Input(shape=(8,), name='selector_input')\n",
        "    x = Concatenate()([fingerprint_input, selector_input])\n",
        "    x = Dense(224)(x)\n",
        "    x = PReLU()(x)\n",
        "    x = Dense(160)(x)\n",
        "    x = PReLU()(x)\n",
        "    x = Dropout(0.5)(x)\n",
        "    x = Dense(8)(x)\n",
        "    output = Dense(1)(x)\n",
        "    model = Model(inputs=[fingerprint_input, selector_input], outputs=output)\n",
        "    model.compile(optimizer='adam', loss='mean_squared_error')\n",
        "    return model\n",
        "\n",
        "# Assuming 'data' variable contains the preprocessed dataset with Morgan fingerprints\n",
        "property_names = ['Eat', 'Xc', 'Egc', 'Egb', 'Eea', 'Ei', 'nc', 'eps']\n",
        "property_data = {property_name: data[data['property'] == property_name] for property_name in property_names}\n",
        "\n",
        "kf = KFold(n_splits=5)\n",
        "rmse_scores = {prop: [] for prop in property_names}\n",
        "\n",
        "for prop, selector_vector in zip(property_names, selector_vectors):\n",
        "    prop_data = property_data[prop]\n",
        "    X = np.array(list(prop_data['morgan']))\n",
        "    y = prop_data['value'].values.reshape(-1, 1)\n",
        "    \n",
        "    for train_index, test_index in kf.split(X):\n",
        "        X_train, X_test = X[train_index], X[test_index]\n",
        "        y_train, y_test = y[train_index], y[test_index]\n",
        "\n",
        "        model = build_nn_mt2_model()\n",
        "\n",
        "        selector_train = np.tile(selector_vector, (len(X_train), 1))\n",
        "        selector_test = np.tile(selector_vector, (len(X_test), 1))\n",
        "        \n",
        "        model.fit([X_train, selector_train], y_train, epochs=100, batch_size=32, verbose=0)\n",
        "        y_pred = model.predict([X_test, selector_test])\n",
        "\n",
        "        rmse = np.sqrt(mean_squared_error(y_test, y_pred))\n",
        "        rmse_scores[prop].append(rmse)\n",
        "\n",
        "# Calculate mean RMSE for each property\n",
        "mean_rmse_scores = {prop: np.mean(rmse_scores[prop]) for prop in property_names}\n",
        "\n",
        "# Plot RMSE\n",
        "plt.bar(range(len(mean_rmse_scores)), list(mean_rmse_scores.values()), align='center')\n",
        "plt.xticks(range(len(mean_rmse_scores)), list(mean_rmse_scores.keys()))\n",
        "plt.ylabel('RMSE')\n",
        "plt.title('RMSE for Each Property')\n",
        "plt.show()\n",
        "\n",
        "\n",
        "\n"
      ],
      "metadata": {
        "colab": {
          "base_uri": "https://localhost:8080/",
          "height": 1000
        },
        "id": "WBcFtq4-nJ_D",
        "outputId": "eeec3f99-bedb-42ca-bb4e-a0a76d24c552"
      },
      "id": "WBcFtq4-nJ_D",
      "execution_count": 64,
      "outputs": [
        {
          "output_type": "stream",
          "name": "stderr",
          "text": [
            "WARNING:tensorflow:5 out of the last 13 calls to <function Model.make_predict_function.<locals>.predict_function at 0x7fb26ac683a0> triggered tf.function retracing. Tracing is expensive and the excessive number of tracings could be due to (1) creating @tf.function repeatedly in a loop, (2) passing tensors with different shapes, (3) passing Python objects instead of tensors. For (1), please define your @tf.function outside of the loop. For (2), @tf.function has reduce_retracing=True option that can avoid unnecessary retracing. For (3), please refer to https://www.tensorflow.org/guide/function#controlling_retracing and https://www.tensorflow.org/api_docs/python/tf/function for  more details.\n"
          ]
        },
        {
          "output_type": "stream",
          "name": "stdout",
          "text": [
            "3/3 [==============================] - 0s 4ms/step\n",
            "3/3 [==============================] - 0s 4ms/step\n",
            "3/3 [==============================] - 0s 4ms/step\n",
            "3/3 [==============================] - 0s 4ms/step\n",
            "3/3 [==============================] - 0s 3ms/step\n",
            "3/3 [==============================] - 0s 4ms/step\n",
            "3/3 [==============================] - 0s 3ms/step\n",
            "3/3 [==============================] - 0s 3ms/step\n",
            "3/3 [==============================] - 0s 4ms/step\n",
            "3/3 [==============================] - 0s 3ms/step\n",
            "21/21 [==============================] - 0s 2ms/step\n",
            "21/21 [==============================] - 0s 2ms/step\n",
            "21/21 [==============================] - 0s 2ms/step\n",
            "21/21 [==============================] - 0s 2ms/step\n",
            "21/21 [==============================] - 0s 2ms/step\n",
            "4/4 [==============================] - 0s 3ms/step\n",
            "4/4 [==============================] - 0s 3ms/step\n",
            "4/4 [==============================] - 0s 3ms/step\n",
            "4/4 [==============================] - 0s 3ms/step\n",
            "4/4 [==============================] - 0s 3ms/step\n",
            "3/3 [==============================] - 0s 4ms/step\n",
            "3/3 [==============================] - 0s 3ms/step\n",
            "3/3 [==============================] - 0s 4ms/step\n",
            "3/3 [==============================] - 0s 3ms/step\n",
            "3/3 [==============================] - 0s 4ms/step\n",
            "3/3 [==============================] - 0s 3ms/step\n",
            "3/3 [==============================] - 0s 4ms/step\n",
            "3/3 [==============================] - 0s 4ms/step\n",
            "3/3 [==============================] - 0s 3ms/step\n",
            "3/3 [==============================] - 0s 3ms/step\n",
            "3/3 [==============================] - 0s 3ms/step\n",
            "3/3 [==============================] - 0s 3ms/step\n",
            "3/3 [==============================] - 0s 4ms/step\n",
            "3/3 [==============================] - 0s 3ms/step\n",
            "3/3 [==============================] - 0s 3ms/step\n",
            "3/3 [==============================] - 0s 4ms/step\n",
            "3/3 [==============================] - 0s 4ms/step\n",
            "3/3 [==============================] - 0s 3ms/step\n",
            "3/3 [==============================] - 0s 3ms/step\n",
            "3/3 [==============================] - 0s 4ms/step\n"
          ]
        },
        {
          "output_type": "display_data",
          "data": {
            "text/plain": [
              "<Figure size 432x288 with 1 Axes>"
            ],
            "image/png": "[encoded data removed]"
          },
          "metadata": {
            "needs_background": "light"
          }
        }
      ]
    }
  ],
  "metadata": {
    "kernelspec": {
      "display_name": "Python 3 (ipykernel)",
      "language": "python",
      "name": "python3"
    },
    "language_info": {
      "codemirror_mode": {
        "name": "ipython",
        "version": 3
      },
      "file_extension": ".py",
      "mimetype": "text/x-python",
      "name": "python",
      "nbconvert_exporter": "python",
      "pygments_lexer": "ipython3",
      "version": "3.10.2"
    },
    "colab": {
      "provenance": [],
      "machine_shape": "hm"
    },
    "accelerator": "GPU",
    "gpuClass": "premium"
  },
  "nbformat": 4,
  "nbformat_minor": 5
}